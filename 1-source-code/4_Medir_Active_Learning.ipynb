{
 "cells": [
  {
   "cell_type": "markdown",
   "metadata": {},
   "source": [
    "### Medir resultado do Active Learning"
   ]
  },
  {
   "cell_type": "code",
   "execution_count": 1,
   "metadata": {},
   "outputs": [],
   "source": [
    "# Bibliotecas com métodos, formulas, rotinas para agilizar desenvolvimento\n",
    "import pandas as pd\n",
    "# Configurar o dataframe para exibir 131 colunas de um dataset\n",
    "pd.set_option(\"max.columns\", 131)"
   ]
  },
  {
   "cell_type": "code",
   "execution_count": 2,
   "metadata": {},
   "outputs": [],
   "source": [
    "# Abrir o arquivo\n",
    "df2 = pd.read_csv(\"active_labels.csv\", index_col=0)"
   ]
  },
  {
   "cell_type": "code",
   "execution_count": 3,
   "metadata": {},
   "outputs": [],
   "source": [
    "# Pegar somente a linhas cuja coluna Y é diferente de nula\n",
    "df2 = df2[df2['y'].notnull()]"
   ]
  },
  {
   "cell_type": "code",
   "execution_count": 4,
   "metadata": {},
   "outputs": [],
   "source": [
    "# Bibliotecas com métodos, formulas, rotinas para agilizar desenvolvimento\n",
    "from sklearn.metrics import roc_auc_score, average_precision_score"
   ]
  },
  {
   "cell_type": "code",
   "execution_count": 5,
   "metadata": {},
   "outputs": [
    {
     "data": {
      "text/html": [
       "<div>\n",
       "<style scoped>\n",
       "    .dataframe tbody tr th:only-of-type {\n",
       "        vertical-align: middle;\n",
       "    }\n",
       "\n",
       "    .dataframe tbody tr th {\n",
       "        vertical-align: top;\n",
       "    }\n",
       "\n",
       "    .dataframe thead th {\n",
       "        text-align: right;\n",
       "    }\n",
       "</style>\n",
       "<table border=\"1\" class=\"dataframe\">\n",
       "  <thead>\n",
       "    <tr style=\"text-align: right;\">\n",
       "      <th></th>\n",
       "      <th>watch-title</th>\n",
       "      <th>y</th>\n",
       "      <th>watch-view-count</th>\n",
       "      <th>watch-time-text</th>\n",
       "      <th>content_watch-info-tag-list</th>\n",
       "      <th>watch7-headline</th>\n",
       "      <th>watch7-user-header</th>\n",
       "      <th>watch8-sentiment-actions</th>\n",
       "      <th>og:image</th>\n",
       "      <th>og:image:width</th>\n",
       "      <th>og:image:height</th>\n",
       "      <th>og:description</th>\n",
       "      <th>og:video:width</th>\n",
       "      <th>og:video:height</th>\n",
       "      <th>og:video:tag</th>\n",
       "      <th>channel_link_0</th>\n",
       "      <th>p</th>\n",
       "    </tr>\n",
       "    <tr>\n",
       "      <th>Column1</th>\n",
       "      <th></th>\n",
       "      <th></th>\n",
       "      <th></th>\n",
       "      <th></th>\n",
       "      <th></th>\n",
       "      <th></th>\n",
       "      <th></th>\n",
       "      <th></th>\n",
       "      <th></th>\n",
       "      <th></th>\n",
       "      <th></th>\n",
       "      <th></th>\n",
       "      <th></th>\n",
       "      <th></th>\n",
       "      <th></th>\n",
       "      <th></th>\n",
       "      <th></th>\n",
       "    </tr>\n",
       "  </thead>\n",
       "  <tbody>\n",
       "    <tr>\n",
       "      <th>846</th>\n",
       "      <td>Kaggle Live-Coding: Graphing entity co-occurre...</td>\n",
       "      <td>0</td>\n",
       "      <td>448 visualizaÃ§Ãµes</td>\n",
       "      <td>Transmitido ao vivo em 3 de ago. de 2018</td>\n",
       "      <td>CiÃªncia e tecnologia</td>\n",
       "      <td>Kaggle Live-Coding: Graphing entity co-occurre...</td>\n",
       "      <td>Kaggle</td>\n",
       "      <td>448 visualiza</td>\n",
       "      <td>https://i.ytimg.com/vi/iz-OrQLIlaI/maxresdefau...</td>\n",
       "      <td>12800</td>\n",
       "      <td>7200</td>\n",
       "      <td>Join Kaggle data scientist Rachael live as she...</td>\n",
       "      <td>12800.0</td>\n",
       "      <td>7200.0</td>\n",
       "      <td>CS</td>\n",
       "      <td>/channel/UCSNeZleDn9c74yQc-EKnVTA</td>\n",
       "      <td>826</td>\n",
       "    </tr>\n",
       "    <tr>\n",
       "      <th>904</th>\n",
       "      <td>Kaggle Meetup: AdTracking Fraud Detection</td>\n",
       "      <td>0</td>\n",
       "      <td>372 visualizaÃ§Ãµes</td>\n",
       "      <td>Publicado em 1 de jun. de 2018</td>\n",
       "      <td>CiÃªncia e tecnologia</td>\n",
       "      <td>Kaggle Meetup: AdTracking Fraud Detection</td>\n",
       "      <td>Learn Data ScienceCarregand</td>\n",
       "      <td>372 visualiza</td>\n",
       "      <td>https://i.ytimg.com/vi/kzkQTPeZPQ4/maxresdefau...</td>\n",
       "      <td>12800</td>\n",
       "      <td>7200</td>\n",
       "      <td>https://www.meetup.com/LearnDataScience/events...</td>\n",
       "      <td>12800.0</td>\n",
       "      <td>7200.0</td>\n",
       "      <td>NaN</td>\n",
       "      <td>/channel/UCJhW_16uxALr0X4olEW2p5A</td>\n",
       "      <td>518</td>\n",
       "    </tr>\n",
       "    <tr>\n",
       "      <th>908</th>\n",
       "      <td>Kaggle Meetup: Quora Insincere Questions Class...</td>\n",
       "      <td>0</td>\n",
       "      <td>399 visualizaÃ§Ãµes</td>\n",
       "      <td>Publicado em 8 de mar. de 2019</td>\n",
       "      <td>CiÃªncia e tecnologia</td>\n",
       "      <td>Kaggle Meetup: Quora Insincere Questions Class...</td>\n",
       "      <td>Learn Data ScienceCarregand</td>\n",
       "      <td>399 visualiza</td>\n",
       "      <td>https://i.ytimg.com/vi/l7ZmviwSnXw/maxresdefau...</td>\n",
       "      <td>12800</td>\n",
       "      <td>7200</td>\n",
       "      <td>Kaggle page: https://www.kaggle.com/c/quora-in...</td>\n",
       "      <td>12800.0</td>\n",
       "      <td>7200.0</td>\n",
       "      <td>artificial intelligence</td>\n",
       "      <td>/channel/UCJhW_16uxALr0X4olEW2p5A</td>\n",
       "      <td>598</td>\n",
       "    </tr>\n",
       "    <tr>\n",
       "      <th>919</th>\n",
       "      <td>Kaggle Days Meetup Milan #1</td>\n",
       "      <td>0</td>\n",
       "      <td>243 visualizaÃ§Ãµes</td>\n",
       "      <td>Publicado em 22 de mai. de 2019</td>\n",
       "      <td>Pessoas e blogs</td>\n",
       "      <td>Kaggle Days Meetup Milan #1</td>\n",
       "      <td>LogicAICarregando...</td>\n",
       "      <td>243 visualiza</td>\n",
       "      <td>https://i.ytimg.com/vi/lkZET6thmLk/hqdefault.jpg</td>\n",
       "      <td>4800</td>\n",
       "      <td>3600</td>\n",
       "      <td>15th of March had a place the first ever Kaggl...</td>\n",
       "      <td>12800.0</td>\n",
       "      <td>7200.0</td>\n",
       "      <td>NaN</td>\n",
       "      <td>/channel/UCZ_qlZbg9EzwRnLq_hFQumQ</td>\n",
       "      <td>691</td>\n",
       "    </tr>\n",
       "    <tr>\n",
       "      <th>938</th>\n",
       "      <td>Kaggle Meetup: Skin Cancer Diagnosis</td>\n",
       "      <td>0</td>\n",
       "      <td>663 visualizaÃ§Ãµes</td>\n",
       "      <td>Publicado em 5 de out. de 2018</td>\n",
       "      <td>CiÃªncia e tecnologia</td>\n",
       "      <td>Kaggle Meetup: Skin Cancer Diagnosis</td>\n",
       "      <td>Learn Data ScienceCarregand</td>\n",
       "      <td>663 visualiza</td>\n",
       "      <td>https://i.ytimg.com/vi/meg8I1GdtUg/maxresdefau...</td>\n",
       "      <td>12800</td>\n",
       "      <td>7200</td>\n",
       "      <td>Video from this meetup: https://www.meetup.com...</td>\n",
       "      <td>12800.0</td>\n",
       "      <td>7200.0</td>\n",
       "      <td>machine learning</td>\n",
       "      <td>/channel/UCJhW_16uxALr0X4olEW2p5A</td>\n",
       "      <td>625</td>\n",
       "    </tr>\n",
       "  </tbody>\n",
       "</table>\n",
       "</div>"
      ],
      "text/plain": [
       "                                               watch-title  y  \\\n",
       "Column1                                                         \n",
       "846      Kaggle Live-Coding: Graphing entity co-occurre...  0   \n",
       "904              Kaggle Meetup: AdTracking Fraud Detection  0   \n",
       "908      Kaggle Meetup: Quora Insincere Questions Class...  0   \n",
       "919                            Kaggle Days Meetup Milan #1  0   \n",
       "938                   Kaggle Meetup: Skin Cancer Diagnosis  0   \n",
       "\n",
       "            watch-view-count                           watch-time-text  \\\n",
       "Column1                                                                  \n",
       "846      448 visualizaÃ§Ãµes  Transmitido ao vivo em 3 de ago. de 2018   \n",
       "904      372 visualizaÃ§Ãµes            Publicado em 1 de jun. de 2018   \n",
       "908      399 visualizaÃ§Ãµes            Publicado em 8 de mar. de 2019   \n",
       "919      243 visualizaÃ§Ãµes           Publicado em 22 de mai. de 2019   \n",
       "938      663 visualizaÃ§Ãµes            Publicado em 5 de out. de 2018   \n",
       "\n",
       "        content_watch-info-tag-list  \\\n",
       "Column1                               \n",
       "846           CiÃªncia e tecnologia   \n",
       "904           CiÃªncia e tecnologia   \n",
       "908           CiÃªncia e tecnologia   \n",
       "919                 Pessoas e blogs   \n",
       "938           CiÃªncia e tecnologia   \n",
       "\n",
       "                                           watch7-headline  \\\n",
       "Column1                                                      \n",
       "846      Kaggle Live-Coding: Graphing entity co-occurre...   \n",
       "904              Kaggle Meetup: AdTracking Fraud Detection   \n",
       "908      Kaggle Meetup: Quora Insincere Questions Class...   \n",
       "919                            Kaggle Days Meetup Milan #1   \n",
       "938                   Kaggle Meetup: Skin Cancer Diagnosis   \n",
       "\n",
       "                  watch7-user-header watch8-sentiment-actions  \\\n",
       "Column1                                                         \n",
       "846                           Kaggle            448 visualiza   \n",
       "904      Learn Data ScienceCarregand            372 visualiza   \n",
       "908      Learn Data ScienceCarregand            399 visualiza   \n",
       "919           LogicAICarregando...              243 visualiza   \n",
       "938      Learn Data ScienceCarregand            663 visualiza   \n",
       "\n",
       "                                                  og:image  og:image:width  \\\n",
       "Column1                                                                      \n",
       "846      https://i.ytimg.com/vi/iz-OrQLIlaI/maxresdefau...           12800   \n",
       "904      https://i.ytimg.com/vi/kzkQTPeZPQ4/maxresdefau...           12800   \n",
       "908      https://i.ytimg.com/vi/l7ZmviwSnXw/maxresdefau...           12800   \n",
       "919       https://i.ytimg.com/vi/lkZET6thmLk/hqdefault.jpg            4800   \n",
       "938      https://i.ytimg.com/vi/meg8I1GdtUg/maxresdefau...           12800   \n",
       "\n",
       "         og:image:height                                     og:description  \\\n",
       "Column1                                                                       \n",
       "846                 7200  Join Kaggle data scientist Rachael live as she...   \n",
       "904                 7200  https://www.meetup.com/LearnDataScience/events...   \n",
       "908                 7200  Kaggle page: https://www.kaggle.com/c/quora-in...   \n",
       "919                 3600  15th of March had a place the first ever Kaggl...   \n",
       "938                 7200  Video from this meetup: https://www.meetup.com...   \n",
       "\n",
       "         og:video:width  og:video:height             og:video:tag  \\\n",
       "Column1                                                             \n",
       "846             12800.0           7200.0                       CS   \n",
       "904             12800.0           7200.0                      NaN   \n",
       "908             12800.0           7200.0  artificial intelligence   \n",
       "919             12800.0           7200.0                      NaN   \n",
       "938             12800.0           7200.0         machine learning   \n",
       "\n",
       "                            channel_link_0    p  \n",
       "Column1                                          \n",
       "846      /channel/UCSNeZleDn9c74yQc-EKnVTA  826  \n",
       "904      /channel/UCJhW_16uxALr0X4olEW2p5A  518  \n",
       "908      /channel/UCJhW_16uxALr0X4olEW2p5A  598  \n",
       "919      /channel/UCZ_qlZbg9EzwRnLq_hFQumQ  691  \n",
       "938      /channel/UCJhW_16uxALr0X4olEW2p5A  625  "
      ]
     },
     "execution_count": 5,
     "metadata": {},
     "output_type": "execute_result"
    }
   ],
   "source": [
    "# Exibir linha do dataset dentro do dataframe active_labels.csv ...\n",
    "# Executar uma linha por vez\n",
    "df2.query('y == 1 and p<=500').head() # ... Analisar o item 579 y == 1 e p = 375 ou 37,5%\n",
    "df2.query('y == 0 and p>500').head() # ... Analisar o item 579 y == 1 e p = 826 ou 82,6%"
   ]
  },
  {
   "cell_type": "code",
   "execution_count": 6,
   "metadata": {},
   "outputs": [
    {
     "data": {
      "text/plain": [
       "(0.26143174121317886, 0.6049606775559588)"
      ]
     },
     "execution_count": 6,
     "metadata": {},
     "output_type": "execute_result"
    }
   ],
   "source": [
    "# Executar as métricas average_precision_score, roc_auc_score\n",
    "average_precision_score(df2['y'],df2['p']), roc_auc_score(df2['y'],df2['p'])"
   ]
  },
  {
   "cell_type": "markdown",
   "metadata": {},
   "source": [
    "#### Comparar as métricas\n",
    "##### Métricas baseline\n",
    "ap 0.14808785529715762 auc-roc 0.5705167173252279\n",
    "##### Métricas atuais, sem entrar em pormenores\n",
    "ap 0.26143174121317886 auc-roc 0.6049606775559588"
   ]
  },
  {
   "cell_type": "code",
   "execution_count": 7,
   "metadata": {},
   "outputs": [],
   "source": [
    "# Criar uma nova coluna Novo no dataframe \n",
    "df2['novo'] = 1"
   ]
  },
  {
   "cell_type": "code",
   "execution_count": 8,
   "metadata": {},
   "outputs": [
    {
     "name": "stdout",
     "output_type": "stream",
     "text": [
      "<class 'pandas.core.frame.DataFrame'>\n",
      "Int64Index: 106 entries, 505 to 1052\n",
      "Data columns (total 18 columns):\n",
      " #   Column                       Non-Null Count  Dtype  \n",
      "---  ------                       --------------  -----  \n",
      " 0   watch-title                  106 non-null    object \n",
      " 1   y                            106 non-null    int64  \n",
      " 2   watch-view-count             106 non-null    object \n",
      " 3   watch-time-text              106 non-null    object \n",
      " 4   content_watch-info-tag-list  106 non-null    object \n",
      " 5   watch7-headline              106 non-null    object \n",
      " 6   watch7-user-header           106 non-null    object \n",
      " 7   watch8-sentiment-actions     106 non-null    object \n",
      " 8   og:image                     106 non-null    object \n",
      " 9   og:image:width               106 non-null    int64  \n",
      " 10  og:image:height              106 non-null    int64  \n",
      " 11  og:description               106 non-null    object \n",
      " 12  og:video:width               105 non-null    float64\n",
      " 13  og:video:height              105 non-null    float64\n",
      " 14  og:video:tag                 93 non-null     object \n",
      " 15  channel_link_0               106 non-null    object \n",
      " 16  p                            106 non-null    int64  \n",
      " 17  novo                         106 non-null    int64  \n",
      "dtypes: float64(2), int64(5), object(11)\n",
      "memory usage: 15.7+ KB\n"
     ]
    }
   ],
   "source": [
    "# Exibir quantidade de colunas e linhas, nome, tipo e quantidade do conteudo de cada coluna, memória usada\n",
    "df2.info()"
   ]
  },
  {
   "cell_type": "code",
   "execution_count": 9,
   "metadata": {},
   "outputs": [],
   "source": [
    "# Abrir o arquivo\n",
    "df1 = pd.read_csv(\"raw_data_with_labels.csv\", index_col=0)"
   ]
  },
  {
   "cell_type": "code",
   "execution_count": 10,
   "metadata": {},
   "outputs": [],
   "source": [
    "# Pegar somente a linhas cuja coluna Y é diferente de nula\n",
    "df1 = df1[df1['y'].notnull()]"
   ]
  },
  {
   "cell_type": "code",
   "execution_count": 11,
   "metadata": {},
   "outputs": [
    {
     "data": {
      "text/html": [
       "<div>\n",
       "<style scoped>\n",
       "    .dataframe tbody tr th:only-of-type {\n",
       "        vertical-align: middle;\n",
       "    }\n",
       "\n",
       "    .dataframe tbody tr th {\n",
       "        vertical-align: top;\n",
       "    }\n",
       "\n",
       "    .dataframe thead th {\n",
       "        text-align: right;\n",
       "    }\n",
       "</style>\n",
       "<table border=\"1\" class=\"dataframe\">\n",
       "  <thead>\n",
       "    <tr style=\"text-align: right;\">\n",
       "      <th></th>\n",
       "      <th>watch-title</th>\n",
       "      <th>y</th>\n",
       "      <th>watch-view-count</th>\n",
       "      <th>watch-time-text</th>\n",
       "      <th>content_watch-info-tag-list</th>\n",
       "      <th>watch7-headline</th>\n",
       "      <th>watch7-user-header</th>\n",
       "      <th>watch8-sentiment-actions</th>\n",
       "      <th>og:image</th>\n",
       "      <th>og:image:width</th>\n",
       "      <th>og:image:height</th>\n",
       "      <th>og:description</th>\n",
       "      <th>og:video:width</th>\n",
       "      <th>og:video:height</th>\n",
       "      <th>og:video:tag</th>\n",
       "      <th>channel_link_0</th>\n",
       "    </tr>\n",
       "  </thead>\n",
       "  <tbody>\n",
       "    <tr>\n",
       "      <th>0</th>\n",
       "      <td>How to Become A Machine Learning Engineer | Ho...</td>\n",
       "      <td>0.0</td>\n",
       "      <td>28.028 visualizações</td>\n",
       "      <td>Publicado em 3 de set. de 2018</td>\n",
       "      <td>Educação</td>\n",
       "      <td>#MachineLearningAlgorithms #Datasciencecourse ...</td>\n",
       "      <td>Simplilearn\\n\\n\\n\\n\\n\\n\\n\\n\\n\\n\\n\\n\\n\\n\\nCarre...</td>\n",
       "      <td>28.028 visualizações\\n\\n\\n\\n\\n\\n\\n\\n601\\n\\nGos...</td>\n",
       "      <td>https://i.ytimg.com/vi/-5hEYRt8JE0/maxresdefau...</td>\n",
       "      <td>1280.0</td>\n",
       "      <td>720.0</td>\n",
       "      <td>This video on \"How to become a Machine Learnin...</td>\n",
       "      <td>1280.0</td>\n",
       "      <td>720.0</td>\n",
       "      <td>simplilearn</td>\n",
       "      <td>/channel/UCsvqVGtbbyHaMoevxPAq9Fg</td>\n",
       "    </tr>\n",
       "    <tr>\n",
       "      <th>1</th>\n",
       "      <td>BLOOPERS - Behind The Scenes. | DATA SCIENCE x...</td>\n",
       "      <td>0.0</td>\n",
       "      <td>1.131 visualizações</td>\n",
       "      <td>Publicado em 16 de nov. de 2018</td>\n",
       "      <td>Pessoas e blogs</td>\n",
       "      <td>#FAIL #insidezalando\\n\\n\\n\\n    BLOOPERS - Beh...</td>\n",
       "      <td>Inside Zalando\\n\\n\\n\\n\\n\\n\\n\\n\\n\\n\\n\\n\\n\\nCarr...</td>\n",
       "      <td>1.131 visualizações\\n\\n\\n\\n\\n\\n\\n\\n20\\n\\nGosto...</td>\n",
       "      <td>https://i.ytimg.com/vi/-7GiiT0yEyk/maxresdefau...</td>\n",
       "      <td>1280.0</td>\n",
       "      <td>720.0</td>\n",
       "      <td>#FAIL :) Have fun - and join our teams: https:...</td>\n",
       "      <td>1280.0</td>\n",
       "      <td>720.0</td>\n",
       "      <td>employer branding</td>\n",
       "      <td>/channel/UCTPin8TK-KRSI9zo9FoxG0g</td>\n",
       "    </tr>\n",
       "    <tr>\n",
       "      <th>2</th>\n",
       "      <td>Michael I. Jordan: Machine Learning: Dynamical...</td>\n",
       "      <td>1.0</td>\n",
       "      <td>1.816 visualizações</td>\n",
       "      <td>Publicado em 2 de mai. de 2019</td>\n",
       "      <td>Licença de atribuição Creative Commons (reutil...</td>\n",
       "      <td>#purdue #michaelijordan #engineering\\n\\n\\n\\n  ...</td>\n",
       "      <td>Purdue Engineering\\n\\n\\n\\n\\n\\n\\n\\n\\n\\n\\n\\n\\n\\n...</td>\n",
       "      <td>1.816 visualizações\\n\\n\\n\\n\\n\\n\\n\\n42\\n\\nGosto...</td>\n",
       "      <td>https://i.ytimg.com/vi/-8yYFdV5SOc/maxresdefau...</td>\n",
       "      <td>1280.0</td>\n",
       "      <td>720.0</td>\n",
       "      <td>2019 Purdue Engineering Distinguished Lecture ...</td>\n",
       "      <td>1280.0</td>\n",
       "      <td>720.0</td>\n",
       "      <td>electrical engineer</td>\n",
       "      <td>/channel/UC8FZ6dzFVkCACLH9YoMNFog</td>\n",
       "    </tr>\n",
       "    <tr>\n",
       "      <th>3</th>\n",
       "      <td>Best Deep Learning Tools - Welcome.AI</td>\n",
       "      <td>0.0</td>\n",
       "      <td>1.171 visualizações</td>\n",
       "      <td>Publicado em 13 de ago. de 2019</td>\n",
       "      <td>Ciência e tecnologia</td>\n",
       "      <td>Best Deep Learning Tools - Welcome.AI</td>\n",
       "      <td>Welcome.AI\\n\\n\\n\\n\\n\\n\\n\\n\\n\\n\\n\\n\\n\\nCarregan...</td>\n",
       "      <td>1.171 visualizações\\n\\n\\n\\n\\n\\n\\n\\n14\\n\\nGosto...</td>\n",
       "      <td>https://i.ytimg.com/vi/-9LLrwW1Vdo/maxresdefau...</td>\n",
       "      <td>1280.0</td>\n",
       "      <td>720.0</td>\n",
       "      <td>A collection of the 5 best deep learning tools...</td>\n",
       "      <td>1280.0</td>\n",
       "      <td>720.0</td>\n",
       "      <td>Watson</td>\n",
       "      <td>/channel/UC_215Y7rOAsqnFkO_hnpdIg</td>\n",
       "    </tr>\n",
       "    <tr>\n",
       "      <th>4</th>\n",
       "      <td>Kaggle Live-Coding: RNNs for Sarcasm Detection...</td>\n",
       "      <td>1.0</td>\n",
       "      <td>1.228 visualizações</td>\n",
       "      <td>Transmitido ao vivo em 30 de nov. de 2018</td>\n",
       "      <td>Ciência e tecnologia</td>\n",
       "      <td>Kaggle Live-Coding: RNNs for Sarcasm Detection...</td>\n",
       "      <td>Kaggle\\n\\n\\n\\n\\n\\n\\n\\n\\n\\n\\n\\n\\n\\nCarregando.....</td>\n",
       "      <td>1.228 visualizações\\n\\n\\n\\n\\n\\n\\n\\n28\\n\\nGosto...</td>\n",
       "      <td>https://i.ytimg.com/vi/-9U84J178OQ/maxresdefau...</td>\n",
       "      <td>1280.0</td>\n",
       "      <td>720.0</td>\n",
       "      <td>Join Kaggle data scientist Rachael live as she...</td>\n",
       "      <td>1280.0</td>\n",
       "      <td>720.0</td>\n",
       "      <td>CS</td>\n",
       "      <td>/channel/UCSNeZleDn9c74yQc-EKnVTA</td>\n",
       "    </tr>\n",
       "  </tbody>\n",
       "</table>\n",
       "</div>"
      ],
      "text/plain": [
       "                                         watch-title    y  \\\n",
       "0  How to Become A Machine Learning Engineer | Ho...  0.0   \n",
       "1  BLOOPERS - Behind The Scenes. | DATA SCIENCE x...  0.0   \n",
       "2  Michael I. Jordan: Machine Learning: Dynamical...  1.0   \n",
       "3              Best Deep Learning Tools - Welcome.AI  0.0   \n",
       "4  Kaggle Live-Coding: RNNs for Sarcasm Detection...  1.0   \n",
       "\n",
       "       watch-view-count                            watch-time-text  \\\n",
       "0  28.028 visualizações             Publicado em 3 de set. de 2018   \n",
       "1   1.131 visualizações            Publicado em 16 de nov. de 2018   \n",
       "2   1.816 visualizações             Publicado em 2 de mai. de 2019   \n",
       "3   1.171 visualizações            Publicado em 13 de ago. de 2019   \n",
       "4   1.228 visualizações  Transmitido ao vivo em 30 de nov. de 2018   \n",
       "\n",
       "                         content_watch-info-tag-list  \\\n",
       "0                                           Educação   \n",
       "1                                    Pessoas e blogs   \n",
       "2  Licença de atribuição Creative Commons (reutil...   \n",
       "3                               Ciência e tecnologia   \n",
       "4                               Ciência e tecnologia   \n",
       "\n",
       "                                     watch7-headline  \\\n",
       "0  #MachineLearningAlgorithms #Datasciencecourse ...   \n",
       "1  #FAIL #insidezalando\\n\\n\\n\\n    BLOOPERS - Beh...   \n",
       "2  #purdue #michaelijordan #engineering\\n\\n\\n\\n  ...   \n",
       "3              Best Deep Learning Tools - Welcome.AI   \n",
       "4  Kaggle Live-Coding: RNNs for Sarcasm Detection...   \n",
       "\n",
       "                                  watch7-user-header  \\\n",
       "0  Simplilearn\\n\\n\\n\\n\\n\\n\\n\\n\\n\\n\\n\\n\\n\\n\\nCarre...   \n",
       "1  Inside Zalando\\n\\n\\n\\n\\n\\n\\n\\n\\n\\n\\n\\n\\n\\nCarr...   \n",
       "2  Purdue Engineering\\n\\n\\n\\n\\n\\n\\n\\n\\n\\n\\n\\n\\n\\n...   \n",
       "3  Welcome.AI\\n\\n\\n\\n\\n\\n\\n\\n\\n\\n\\n\\n\\n\\nCarregan...   \n",
       "4  Kaggle\\n\\n\\n\\n\\n\\n\\n\\n\\n\\n\\n\\n\\n\\nCarregando.....   \n",
       "\n",
       "                            watch8-sentiment-actions  \\\n",
       "0  28.028 visualizações\\n\\n\\n\\n\\n\\n\\n\\n601\\n\\nGos...   \n",
       "1  1.131 visualizações\\n\\n\\n\\n\\n\\n\\n\\n20\\n\\nGosto...   \n",
       "2  1.816 visualizações\\n\\n\\n\\n\\n\\n\\n\\n42\\n\\nGosto...   \n",
       "3  1.171 visualizações\\n\\n\\n\\n\\n\\n\\n\\n14\\n\\nGosto...   \n",
       "4  1.228 visualizações\\n\\n\\n\\n\\n\\n\\n\\n28\\n\\nGosto...   \n",
       "\n",
       "                                            og:image  og:image:width  \\\n",
       "0  https://i.ytimg.com/vi/-5hEYRt8JE0/maxresdefau...          1280.0   \n",
       "1  https://i.ytimg.com/vi/-7GiiT0yEyk/maxresdefau...          1280.0   \n",
       "2  https://i.ytimg.com/vi/-8yYFdV5SOc/maxresdefau...          1280.0   \n",
       "3  https://i.ytimg.com/vi/-9LLrwW1Vdo/maxresdefau...          1280.0   \n",
       "4  https://i.ytimg.com/vi/-9U84J178OQ/maxresdefau...          1280.0   \n",
       "\n",
       "   og:image:height                                     og:description  \\\n",
       "0            720.0  This video on \"How to become a Machine Learnin...   \n",
       "1            720.0  #FAIL :) Have fun - and join our teams: https:...   \n",
       "2            720.0  2019 Purdue Engineering Distinguished Lecture ...   \n",
       "3            720.0  A collection of the 5 best deep learning tools...   \n",
       "4            720.0  Join Kaggle data scientist Rachael live as she...   \n",
       "\n",
       "   og:video:width  og:video:height         og:video:tag  \\\n",
       "0          1280.0            720.0          simplilearn   \n",
       "1          1280.0            720.0    employer branding   \n",
       "2          1280.0            720.0  electrical engineer   \n",
       "3          1280.0            720.0               Watson   \n",
       "4          1280.0            720.0                   CS   \n",
       "\n",
       "                      channel_link_0  \n",
       "0  /channel/UCsvqVGtbbyHaMoevxPAq9Fg  \n",
       "1  /channel/UCTPin8TK-KRSI9zo9FoxG0g  \n",
       "2  /channel/UC8FZ6dzFVkCACLH9YoMNFog  \n",
       "3  /channel/UC_215Y7rOAsqnFkO_hnpdIg  \n",
       "4  /channel/UCSNeZleDn9c74yQc-EKnVTA  "
      ]
     },
     "execution_count": 11,
     "metadata": {},
     "output_type": "execute_result"
    }
   ],
   "source": [
    "# Exibir as primeiras cinco linhas do dataset dentro do dataframe\n",
    "df1.head()"
   ]
  },
  {
   "cell_type": "code",
   "execution_count": 12,
   "metadata": {},
   "outputs": [
    {
     "name": "stdout",
     "output_type": "stream",
     "text": [
      "<class 'pandas.core.frame.DataFrame'>\n",
      "Int64Index: 498 entries, 0 to 500\n",
      "Data columns (total 16 columns):\n",
      " #   Column                       Non-Null Count  Dtype  \n",
      "---  ------                       --------------  -----  \n",
      " 0   watch-title                  498 non-null    object \n",
      " 1   y                            498 non-null    float64\n",
      " 2   watch-view-count             498 non-null    object \n",
      " 3   watch-time-text              498 non-null    object \n",
      " 4   content_watch-info-tag-list  498 non-null    object \n",
      " 5   watch7-headline              498 non-null    object \n",
      " 6   watch7-user-header           498 non-null    object \n",
      " 7   watch8-sentiment-actions     498 non-null    object \n",
      " 8   og:image                     498 non-null    object \n",
      " 9   og:image:width               498 non-null    float64\n",
      " 10  og:image:height              498 non-null    float64\n",
      " 11  og:description               498 non-null    object \n",
      " 12  og:video:width               495 non-null    float64\n",
      " 13  og:video:height              495 non-null    float64\n",
      " 14  og:video:tag                 439 non-null    object \n",
      " 15  channel_link_0               498 non-null    object \n",
      "dtypes: float64(5), object(11)\n",
      "memory usage: 66.1+ KB\n"
     ]
    }
   ],
   "source": [
    "# Exibir quantidade de colunas e linhas, nome, tipo e quantidade do conteudo de cada coluna, memória usada\n",
    "df1.info()"
   ]
  },
  {
   "cell_type": "code",
   "execution_count": 13,
   "metadata": {},
   "outputs": [],
   "source": [
    "# Concatenar os dataframes dificeis e aleatorios\n",
    "# Atentar que o dataframe df1 recebera a coluna Novo com conteudo nan. Isto significa que dever ser limpo\n",
    "df = pd.concat([df1, df2.drop(\"p\", axis=1)])"
   ]
  },
  {
   "cell_type": "markdown",
   "metadata": {},
   "source": [
    "#### Limpar e/ou tratar os dados para melhor uso no modelo de predição"
   ]
  },
  {
   "cell_type": "code",
   "execution_count": 14,
   "metadata": {},
   "outputs": [],
   "source": [
    "# Criar um dataframe apenas com indices iguais ao dataframe de concatenação\n",
    "# Este servirá para popularmos com as colunas limpas e tratadas\n",
    "df_limpo = pd.DataFrame(index=df.index)"
   ]
  },
  {
   "cell_type": "code",
   "execution_count": 15,
   "metadata": {},
   "outputs": [],
   "source": [
    "# Criar colunas title e novo neste novo dataframe df_limpo\n",
    "# Extrair a descrição dos títulos\n",
    "df_limpo['title'] = df['watch-title']\n",
    "# Eliminar o conteúdo do campo nan ao preenche-lo com 0\n",
    "df_limpo['novo'] = df['novo'].fillna(0)"
   ]
  },
  {
   "cell_type": "markdown",
   "metadata": {},
   "source": [
    "#### Extrair apenas a data (dia, mês e ano) de uma coluna com strings"
   ]
  },
  {
   "cell_type": "code",
   "execution_count": 16,
   "metadata": {},
   "outputs": [],
   "source": [
    "# Extrair os numeros que representam data de publicação ' dia (numero), mes (string) e ano (numero)'\n",
    "clean_date = df['watch-time-text'].str.extract(r\"(\\d+) de ([a-z]+)\\. de (\\d+)\")\n",
    "# Incluir zero à frente do numero abaixo de 10 que representa do dia \n",
    "clean_date[0] = clean_date[0].map(lambda x: \"0\"+x[0] if len(x) == 1 else x)\n",
    "#clean_date[1] = clean_date[1].map(lambda x: x[0].upper()+x[1:])"
   ]
  },
  {
   "cell_type": "code",
   "execution_count": 17,
   "metadata": {},
   "outputs": [],
   "source": [
    "# Transformar mes que esta portugues para mes em inglês\n",
    "mapa_meses = {\"jan\": \"Jan\",\n",
    "              \"fev\": \"Feb\",\n",
    "              \"mar\": \"Mar\", \n",
    "              \"abr\": \"Apr\", \n",
    "              \"mai\": \"May\", \n",
    "              \"jun\": \"Jun\",\n",
    "              \"jul\": \"Jul\",\n",
    "              \"ago\": \"Aug\", \n",
    "              \"set\": \"Sep\", \n",
    "              \"out\": \"Oct\", \n",
    "              \"nov\": \"Nov\",\n",
    "              \"dez\": \"Dec\"}\n",
    "# Transforma os meses\n",
    "clean_date[1] = clean_date[1].map(mapa_meses)"
   ]
  },
  {
   "cell_type": "code",
   "execution_count": 18,
   "metadata": {},
   "outputs": [],
   "source": [
    "# Unir numeros que representam data ' dia (numero), mes (string) e ano (numero)'\n",
    "clean_date = clean_date.apply(lambda x: \" \".join(x), axis=1)\n",
    "# Converter para data os dados extraidos em clean_date e gravar no campo date criado no dataframe df_limpo\n",
    "df_limpo['date'] = pd.to_datetime(clean_date, format=\"%d %b %Y\")"
   ]
  },
  {
   "cell_type": "code",
   "execution_count": 19,
   "metadata": {},
   "outputs": [
    {
     "data": {
      "text/plain": [
       "0    03 Sep 2018\n",
       "1    16 Nov 2018\n",
       "2    02 May 2019\n",
       "3    13 Aug 2019\n",
       "4    30 Nov 2018\n",
       "dtype: object"
      ]
     },
     "execution_count": 19,
     "metadata": {},
     "output_type": "execute_result"
    }
   ],
   "source": [
    "# Exibir cinco primeiras linhas do dataset dentro do dataframe\n",
    "clean_date.head()"
   ]
  },
  {
   "cell_type": "markdown",
   "metadata": {},
   "source": [
    "#### Extrair apenas a quantidade de uma coluna com strings\n",
    "#### Eliminar o conteúdo nan"
   ]
  },
  {
   "cell_type": "code",
   "execution_count": 20,
   "metadata": {},
   "outputs": [],
   "source": [
    "# Extrair apenas o número, eliminar o ponto que esta no numero, eliminar o tipo nan da coluna e converter\n",
    "# todo o conteudo para o tipo integer\n",
    "# expand=False faz o pandas retornar apenas série ao invés de dataframe\n",
    "views = df['watch-view-count'].str.extract(r\"(\\d+\\.?\\d*)\", expand=False).str.replace(\".\", \"\").fillna(0).astype(int)\n",
    "# Criar coluna views no dataframe df_limpo e popular com os novos dados numéricos\n",
    "df_limpo['views'] = views"
   ]
  },
  {
   "cell_type": "markdown",
   "metadata": {},
   "source": [
    "#### Criar Features"
   ]
  },
  {
   "cell_type": "code",
   "execution_count": 21,
   "metadata": {},
   "outputs": [],
   "source": [
    "# Criar dataframe features para trabalhar melhor nas features sob o dataframe de concatenação df_limpo\n",
    "features = pd.DataFrame(index=df_limpo.index)\n",
    "# Copiar a coluna y do dataframe de concatenação dos dataframes df1 e df2\n",
    "y = df['y'].copy()"
   ]
  },
  {
   "cell_type": "code",
   "execution_count": 22,
   "metadata": {},
   "outputs": [],
   "source": [
    "# Bibliotecas com métodos, formulas, rotinas para agilizar desenvolvimento\n",
    "import numpy as np"
   ]
  },
  {
   "cell_type": "code",
   "execution_count": 23,
   "metadata": {},
   "outputs": [],
   "source": [
    "# Subtrair da data da publicação do vídeo uma data fixa posterior, como parâmetro fixo, depois\n",
    "# converter para uma estrutura série de float timedelta64 do numpy\n",
    "features['tempo_desde_pub'] = (pd.to_datetime(\"2019-12-03\") - df_limpo['date']) / np.timedelta64(1, 'D')\n",
    "# Apenas copiar os dados da coluna views, não precisam de tratamento\n",
    "features['views'] = df_limpo['views']\n",
    "# Dividir o tempo de publicação do vídeo pela quantidade de views e gravar na nova coluna views_por_dia\n",
    "# para ter uma quantidade acumulada aproximada de views por dia\n",
    "features['views_por_dia'] = features['views'] / features['tempo_desde_pub']\n",
    "# Apagar a coluna tempo_desde_pub, para exibir melhor as informações em gráfico\n",
    "features = features.drop(['tempo_desde_pub'], axis=1)"
   ]
  },
  {
   "cell_type": "code",
   "execution_count": 24,
   "metadata": {},
   "outputs": [
    {
     "data": {
      "text/html": [
       "<div>\n",
       "<style scoped>\n",
       "    .dataframe tbody tr th:only-of-type {\n",
       "        vertical-align: middle;\n",
       "    }\n",
       "\n",
       "    .dataframe tbody tr th {\n",
       "        vertical-align: top;\n",
       "    }\n",
       "\n",
       "    .dataframe thead th {\n",
       "        text-align: right;\n",
       "    }\n",
       "</style>\n",
       "<table border=\"1\" class=\"dataframe\">\n",
       "  <thead>\n",
       "    <tr style=\"text-align: right;\">\n",
       "      <th></th>\n",
       "      <th>views</th>\n",
       "      <th>views_por_dia</th>\n",
       "    </tr>\n",
       "  </thead>\n",
       "  <tbody>\n",
       "    <tr>\n",
       "      <th>0</th>\n",
       "      <td>28028</td>\n",
       "      <td>61.464912</td>\n",
       "    </tr>\n",
       "    <tr>\n",
       "      <th>1</th>\n",
       "      <td>1131</td>\n",
       "      <td>2.960733</td>\n",
       "    </tr>\n",
       "    <tr>\n",
       "      <th>2</th>\n",
       "      <td>1816</td>\n",
       "      <td>8.446512</td>\n",
       "    </tr>\n",
       "    <tr>\n",
       "      <th>3</th>\n",
       "      <td>1171</td>\n",
       "      <td>10.455357</td>\n",
       "    </tr>\n",
       "    <tr>\n",
       "      <th>4</th>\n",
       "      <td>1228</td>\n",
       "      <td>3.336957</td>\n",
       "    </tr>\n",
       "  </tbody>\n",
       "</table>\n",
       "</div>"
      ],
      "text/plain": [
       "   views  views_por_dia\n",
       "0  28028      61.464912\n",
       "1   1131       2.960733\n",
       "2   1816       8.446512\n",
       "3   1171      10.455357\n",
       "4   1228       3.336957"
      ]
     },
     "execution_count": 24,
     "metadata": {},
     "output_type": "execute_result"
    }
   ],
   "source": [
    "features.head()"
   ]
  },
  {
   "cell_type": "markdown",
   "metadata": {},
   "source": [
    "#### AUMENTAR QUANTIDADE DADOS DE VALIDAÇÃO"
   ]
  },
  {
   "cell_type": "code",
   "execution_count": 25,
   "metadata": {},
   "outputs": [],
   "source": [
    "# No dataset treino os dados foi aplicado a a validação temporal por ser uma time series, sendo \n",
    "# separados aproximadamente 50% treino e 50% teste (ao invés de utilizar o recurso de percentual \n",
    "# de métodos automáticos de separação)\n",
    "# A variável mask_train conterá apenas os aproximadamente 500 registros antigos\n",
    "# dos 100 exemplos que haviam sido concatenados em pd.concat([...])\n",
    "mask_train = (df_limpo['date'] < \"2019-04-01\") & (df_limpo['novo'] == 0)\n",
    "mask_val = (df_limpo['date'] >= \"2019-04-01\")\n",
    "Xtrain, Xval = features[mask_train], features[mask_val]\n",
    "ytrain, yval = y[mask_train], y[mask_val]"
   ]
  },
  {
   "cell_type": "code",
   "execution_count": 26,
   "metadata": {},
   "outputs": [
    {
     "data": {
      "text/plain": [
       "((228, 2), (319, 2), (228,), (319,))"
      ]
     },
     "execution_count": 26,
     "metadata": {},
     "output_type": "execute_result"
    }
   ],
   "source": [
    "# Exibir a quantidade de vídeos separados para treino e teste\n",
    "Xtrain.shape, Xval.shape, ytrain.shape, yval.shape"
   ]
  },
  {
   "cell_type": "code",
   "execution_count": 27,
   "metadata": {},
   "outputs": [],
   "source": [
    "# Bibliotecas com métodos, formulas, rotinas para agilizar desenvolvimento\n",
    "from sklearn.feature_extraction.text import TfidfVectorizer"
   ]
  },
  {
   "cell_type": "code",
   "execution_count": 28,
   "metadata": {},
   "outputs": [],
   "source": [
    "# Separar as descrições dos titulos para treino e teste\n",
    "title_train = df_limpo[mask_train]['title']\n",
    "title_val = df_limpo[mask_val]['title']"
   ]
  },
  {
   "cell_type": "code",
   "execution_count": 29,
   "metadata": {},
   "outputs": [],
   "source": [
    "# Instanciar o objeto com seu min_df=2. Este é o número mínimo que uma palavra precisa aparecer para se \n",
    "# tornar uma coluna. Se min_df=1 gera 742 colunas, igual a 2 gera 193 colunas por que a maior parte das \n",
    "# palavras so aparece em um vídeo\n",
    "title_vec = TfidfVectorizer(min_df=2)\n",
    "#Transformar textos dos vídeos que estão na coluna watch-title em uma representação significante de números\n",
    "# fit_transform armazena as palavras que detectou e armazena a frequencia de vezes que as detectou\n",
    "# no dataset, para multiplicar na fórmula do Tfidf\n",
    "# Bag of words em uma sparse matrix\n",
    "title_bow_train = title_vec.fit_transform(title_train)\n",
    "# Transformar com base nas palavras que aprendeu utilizando o dataset de treino\n",
    "title_bow_val = title_vec.transform(title_val)"
   ]
  },
  {
   "cell_type": "code",
   "execution_count": 30,
   "metadata": {},
   "outputs": [
    {
     "data": {
      "text/plain": [
       "(228, 193)"
      ]
     },
     "execution_count": 30,
     "metadata": {},
     "output_type": "execute_result"
    }
   ],
   "source": [
    "# Exibir a forma do dataset treinado : 228 linhas, 193 colunas\n",
    "title_bow_train.shape"
   ]
  },
  {
   "cell_type": "code",
   "execution_count": 31,
   "metadata": {},
   "outputs": [],
   "source": [
    "# Bibliotecas com métodos, formulas, rotinas para agilizar desenvolvimento\n",
    "from scipy.sparse import hstack, vstack"
   ]
  },
  {
   "cell_type": "code",
   "execution_count": 32,
   "metadata": {},
   "outputs": [],
   "source": [
    "# Concatenar variáveis com dados numéricos com variáveis com dados de texto\n",
    "# 228 * 193 matriz sparsa e x 228 * 2 features numericas a dimensao depois de juntas vao para 195 colunas\n",
    "Xtrain_wtitle = hstack([Xtrain, title_bow_train])\n",
    "Xval_wtitle = hstack([Xval, title_bow_val])"
   ]
  },
  {
   "cell_type": "code",
   "execution_count": 33,
   "metadata": {},
   "outputs": [
    {
     "data": {
      "text/plain": [
       "((228, 195), (319, 195))"
      ]
     },
     "execution_count": 33,
     "metadata": {},
     "output_type": "execute_result"
    }
   ],
   "source": [
    "# Exibir quantidade de linhas e colunas\n",
    "Xtrain_wtitle.shape, Xval_wtitle.shape"
   ]
  },
  {
   "cell_type": "code",
   "execution_count": 34,
   "metadata": {},
   "outputs": [],
   "source": [
    "# Bibliotecas com métodos, formulas, rotinas para agilizar desenvolvimento\n",
    "from sklearn.ensemble import RandomForestClassifier"
   ]
  },
  {
   "cell_type": "code",
   "execution_count": 35,
   "metadata": {},
   "outputs": [
    {
     "data": {
      "text/plain": [
       "RandomForestClassifier(class_weight='balanced', n_estimators=1000, n_jobs=6,\n",
       "                       random_state=0)"
      ]
     },
     "execution_count": 35,
     "metadata": {},
     "output_type": "execute_result"
    }
   ],
   "source": [
    "# Instânciar o objeto RandomForestClassifier : 1000 arvores,class_weight=balancear o entre as variáveis \n",
    "# train e test\n",
    "mdl = RandomForestClassifier(n_estimators=1000, random_state=0, class_weight=\"balanced\", n_jobs=6)\n",
    "mdl.fit(Xtrain_wtitle, ytrain)"
   ]
  },
  {
   "cell_type": "code",
   "execution_count": 36,
   "metadata": {},
   "outputs": [],
   "source": [
    "# Probabilidade de acerto da predição\n",
    "p = mdl.predict_proba(Xval_wtitle)[:, 1]"
   ]
  },
  {
   "cell_type": "code",
   "execution_count": 37,
   "metadata": {},
   "outputs": [],
   "source": [
    "from sklearn.metrics import roc_auc_score, average_precision_score"
   ]
  },
  {
   "cell_type": "code",
   "execution_count": 38,
   "metadata": {},
   "outputs": [
    {
     "data": {
      "text/plain": [
       "(0.2346888243978529, 0.6120799490364708)"
      ]
     },
     "execution_count": 38,
     "metadata": {},
     "output_type": "execute_result"
    }
   ],
   "source": [
    "average_precision_score(yval, p), roc_auc_score(yval, p)"
   ]
  },
  {
   "cell_type": "markdown",
   "metadata": {},
   "source": [
    "ANTES\n",
    "ap 0.1918043901336543, auc 0.5848024316109421 - mindf=2\n",
    "##### A precisão da pontuação entre a probabilidade dos dados de treino e dados de validação infelizmente diminuiu mas o auc melhorou -esta mais próximo de 1. Entendemos que ambos estão bem sensíveis, por conta da pouca quantidade de dados."
   ]
  },
  {
   "cell_type": "markdown",
   "metadata": {},
   "source": [
    "#### AUMENTAR QUANTIDADE DADOS DE TREINO"
   ]
  },
  {
   "cell_type": "code",
   "execution_count": 39,
   "metadata": {},
   "outputs": [],
   "source": [
    "# No dataset treino foi aplicado a validação temporal por ser uma time series, e esta sendo considerado\n",
    "# os +- 500 exemplos originais + os 100 novos exemplos concatenados\n",
    "# Na mask_train foram retirados pela instrução (df_limpo['novo'] == 0) todos os registros (linhas+campos) \n",
    "# dos 100 exemplos que haviam sido concatenados em pd.concat([...])\n",
    "mask_train = (df_limpo['date'] < \"2019-04-01\")\n",
    "mask_val = (df_limpo['date'] >= \"2019-04-01\") & (df_limpo['novo'] == 0)\n",
    "Xtrain, Xval = features[mask_train], features[mask_val]\n",
    "ytrain, yval = y[mask_train], y[mask_val]\n",
    "#mask_val = (df_limpo['date'] >= \"2019-04-01\")"
   ]
  },
  {
   "cell_type": "code",
   "execution_count": 40,
   "metadata": {},
   "outputs": [
    {
     "data": {
      "text/plain": [
       "((285, 2), (270, 2), (285,), (270,))"
      ]
     },
     "execution_count": 40,
     "metadata": {},
     "output_type": "execute_result"
    }
   ],
   "source": [
    "# Exibir quantidade de linhas e colunas\n",
    "Xtrain.shape, Xval.shape, ytrain.shape, yval.shape"
   ]
  },
  {
   "cell_type": "code",
   "execution_count": 41,
   "metadata": {},
   "outputs": [],
   "source": [
    "# Separar as descrições dos titulos para treino e teste\n",
    "title_train = df_limpo[mask_train]['title']\n",
    "title_val = df_limpo[mask_val]['title']"
   ]
  },
  {
   "cell_type": "code",
   "execution_count": 42,
   "metadata": {},
   "outputs": [],
   "source": [
    "# Instanciar o objeto com seu min_df=2. Este é o número mínimo que uma palavra precisa aparecer para se \n",
    "# tornar uma coluna. Se min_df=1 gera 742 colunas, igual a 2 gera 193 colunas por que a maior parte das \n",
    "# palavras so aparece em um vídeo\n",
    "title_vec = TfidfVectorizer(min_df=2)"
   ]
  },
  {
   "cell_type": "code",
   "execution_count": 43,
   "metadata": {},
   "outputs": [],
   "source": [
    "#Transformar textos dos vídeos que estão na coluna watch-title em uma representação significante de números\n",
    "# fit_transform armazena as palavras que detectou e armazena a frequencia de vezes que as detectou\n",
    "# no dataset, para multiplicar na fórmula do Tfidf\n",
    "# Bag of words em uma sparse matrix\n",
    "title_bow_train = title_vec.fit_transform(title_train)\n",
    "title_bow_val = title_vec.transform(title_val)"
   ]
  },
  {
   "cell_type": "code",
   "execution_count": 44,
   "metadata": {},
   "outputs": [
    {
     "data": {
      "text/plain": [
       "((285, 236), (270, 236))"
      ]
     },
     "execution_count": 44,
     "metadata": {},
     "output_type": "execute_result"
    }
   ],
   "source": [
    "# Exibir a forma do dataset treinado : 228 linhas, 193 colunas\n",
    "title_bow_train.shape, title_bow_val.shape"
   ]
  },
  {
   "cell_type": "code",
   "execution_count": 45,
   "metadata": {},
   "outputs": [],
   "source": [
    "# Concatenar variáveis com dados numéricos com variáveis com dados de texto\n",
    "# 282 * 2 matriz sparsa e x 282 * 233 features numericas a dimensao depois de juntas vao para 235 colunas\n",
    "Xtrain_wtitle = hstack([Xtrain, title_bow_train])\n",
    "# 270 * 2 matriz sparsa e x 270 * 233 features numericas a dimensao depois de juntas vao para 235 colunas\n",
    "Xval_wtitle = hstack([Xval, title_bow_val])"
   ]
  },
  {
   "cell_type": "code",
   "execution_count": 46,
   "metadata": {},
   "outputs": [
    {
     "data": {
      "text/plain": [
       "RandomForestClassifier(class_weight='balanced', n_estimators=1000, n_jobs=6,\n",
       "                       random_state=0)"
      ]
     },
     "execution_count": 46,
     "metadata": {},
     "output_type": "execute_result"
    }
   ],
   "source": [
    "# Instânciar o objeto RandomForestClassifier : 1000 arvores,class_weight=balancear o entre as variáveis \n",
    "# train e test\n",
    "mdl = RandomForestClassifier(n_estimators=1000, random_state=0, class_weight=\"balanced\", n_jobs=6)\n",
    "mdl.fit(Xtrain_wtitle, ytrain)"
   ]
  },
  {
   "cell_type": "code",
   "execution_count": 47,
   "metadata": {},
   "outputs": [],
   "source": [
    "# Probabilidade de acerto da predição\n",
    "p = mdl.predict_proba(Xval_wtitle)[:, 1]"
   ]
  },
  {
   "cell_type": "code",
   "execution_count": 48,
   "metadata": {},
   "outputs": [
    {
     "data": {
      "text/plain": [
       "(0.17126455511050453, 0.5700911854103343)"
      ]
     },
     "execution_count": 48,
     "metadata": {},
     "output_type": "execute_result"
    }
   ],
   "source": [
    "# Analisar a precisão da predição do dataset de test. Este melhor que o modelo 1 cuja nossa baseline com\n",
    "# o modelo DecisionTreeClassifier era 0.148087\n",
    "average_precision_score(yval, p), roc_auc_score(yval, p)"
   ]
  },
  {
   "cell_type": "markdown",
   "metadata": {},
   "source": [
    "#### UTILIZAR DADOS DE TREINO E VALIDAÇÃO NOVOS"
   ]
  },
  {
   "cell_type": "code",
   "execution_count": 49,
   "metadata": {},
   "outputs": [],
   "source": [
    "# No dataset treino foi aplicado a validação temporal por ser uma time series, e esta sendo considerado\n",
    "# os +- 500 exemplos originais + os 100 novos exemplos concatenados\n",
    "# Na mask_train foram retirados pela instrução (df_limpo['novo'] == 0) todos os registros (linhas+campos) \n",
    "# dos 100 exemplos que haviam sido concatenados em pd.concat([...])\n",
    "mask_train = (df_limpo['date'] < \"2019-04-01\")\n",
    "mask_val = (df_limpo['date'] >= \"2019-04-01\")\n",
    "Xtrain, Xval = features[mask_train], features[mask_val]\n",
    "ytrain, yval = y[mask_train], y[mask_val]"
   ]
  },
  {
   "cell_type": "code",
   "execution_count": 50,
   "metadata": {},
   "outputs": [
    {
     "data": {
      "text/plain": [
       "((285, 2), (319, 2), (285,), (319,))"
      ]
     },
     "execution_count": 50,
     "metadata": {},
     "output_type": "execute_result"
    }
   ],
   "source": [
    "# Exibir quantidade de linhas e colunas\n",
    "Xtrain.shape, Xval.shape, ytrain.shape, yval.shape"
   ]
  },
  {
   "cell_type": "code",
   "execution_count": 51,
   "metadata": {},
   "outputs": [],
   "source": [
    "# Separar as descrições dos titulos para treino e teste\n",
    "title_train = df_limpo[mask_train]['title']\n",
    "title_val = df_limpo[mask_val]['title']"
   ]
  },
  {
   "cell_type": "code",
   "execution_count": 52,
   "metadata": {},
   "outputs": [],
   "source": [
    "# Instanciar o objeto com seu min_df=2. Este é o número mínimo que uma palavra precisa aparecer para se \n",
    "# tornar uma coluna. Se min_df=1 gera 742 colunas, igual a 2 gera 193 colunas por que a maior parte das \n",
    "# palavras so aparece em um vídeo\n",
    "title_vec = TfidfVectorizer(min_df=2)"
   ]
  },
  {
   "cell_type": "code",
   "execution_count": 53,
   "metadata": {},
   "outputs": [],
   "source": [
    "#Transformar textos dos vídeos que estão na coluna watch-title em uma representação significante de números\n",
    "# fit_transform armazena as palavras que detectou e armazena a frequencia de vezes que as detectou\n",
    "# no dataset, para multiplicar na fórmula do Tfidf\n",
    "# Bag of words em uma sparse matrix\n",
    "title_bow_train = title_vec.fit_transform(title_train)\n",
    "title_bow_val = title_vec.transform(title_val)"
   ]
  },
  {
   "cell_type": "code",
   "execution_count": 54,
   "metadata": {},
   "outputs": [
    {
     "data": {
      "text/plain": [
       "((285, 236), (319, 236))"
      ]
     },
     "execution_count": 54,
     "metadata": {},
     "output_type": "execute_result"
    }
   ],
   "source": [
    "# Exibir a forma do dataset treinado : 282 linhas, 233 colunas\n",
    "title_bow_train.shape, title_bow_val.shape"
   ]
  },
  {
   "cell_type": "code",
   "execution_count": 55,
   "metadata": {},
   "outputs": [],
   "source": [
    "# Concatenar variáveis com dados numéricos com variáveis com dados de texto\n",
    "# 282 * 2 matriz sparsa e x 282 * 233 features numericas a dimensao depois de juntas vao para 235 colunas\n",
    "Xtrain_wtitle = hstack([Xtrain, title_bow_train])\n",
    "# 270 * 2 matriz sparsa e x 270 * 233 features numericas a dimensao depois de juntas vao para 235 colunas\n",
    "Xval_wtitle = hstack([Xval, title_bow_val])"
   ]
  },
  {
   "cell_type": "code",
   "execution_count": 56,
   "metadata": {},
   "outputs": [
    {
     "data": {
      "text/plain": [
       "RandomForestClassifier(class_weight='balanced', n_estimators=1000, n_jobs=6,\n",
       "                       random_state=0)"
      ]
     },
     "execution_count": 56,
     "metadata": {},
     "output_type": "execute_result"
    }
   ],
   "source": [
    "# Instânciar o objeto RandomForestClassifier : 1000 arvores,class_weight=balancear o entre as variáveis \n",
    "# train e test\n",
    "mdl = RandomForestClassifier(n_estimators=1000, random_state=0, class_weight=\"balanced\", n_jobs=6)\n",
    "mdl.fit(Xtrain_wtitle, ytrain)"
   ]
  },
  {
   "cell_type": "code",
   "execution_count": 57,
   "metadata": {},
   "outputs": [],
   "source": [
    "# Probabilidade de acerto da predição\n",
    "p = mdl.predict_proba(Xval_wtitle)[:, 1]"
   ]
  },
  {
   "cell_type": "code",
   "execution_count": 58,
   "metadata": {},
   "outputs": [
    {
     "data": {
      "text/plain": [
       "(0.19172255241322184, 0.5873944895684026)"
      ]
     },
     "execution_count": 58,
     "metadata": {},
     "output_type": "execute_result"
    }
   ],
   "source": [
    "# Analisar a precisão da predição do dataset de test. Este melhor que o modelo 1 cuja nossa baseline com\n",
    "# o modelo DecisionTreeClassifier era 0.148087\n",
    "average_precision_score(yval, p), roc_auc_score(yval, p)"
   ]
  },
  {
   "cell_type": "markdown",
   "metadata": {},
   "source": [
    "##### R E S U L T A D O S\n",
    "ANTES - Gerado 2-Random-Forest-Classifier.md<br>\n",
    "ap 0.1918043901336543     auc 0.5848024316109421 - mindf=2<br>\n",
    "ap 0.19493368357443233    auc 0.59580547112462 - mindf=2<br>\n",
    "\n",
    "Validação nova e Treino antigo<br>\n",
    "ap 0.1872802752830275, auc 0.5935436218282933<br>\n",
    "\n",
    "Validação antiga e Treino novo<br>\n",
    "ap 0.17697903398635972, auc 0.5964133738601823<br>\n",
    "\n",
    "Validação nova e Treino novo<br>\n",
    "ap 0.19342838733336654, auc 0.6095324991310394<br>\n",
    "ap 0.18913174974061997, auc 0.6072297532151547 (date 20200830)"
   ]
  },
  {
   "cell_type": "code",
   "execution_count": null,
   "metadata": {},
   "outputs": [],
   "source": []
  }
 ],
 "metadata": {
  "kernelspec": {
   "display_name": "Python 3",
   "language": "python",
   "name": "python3"
  },
  "language_info": {
   "codemirror_mode": {
    "name": "ipython",
    "version": 3
   },
   "file_extension": ".py",
   "mimetype": "text/x-python",
   "name": "python",
   "nbconvert_exporter": "python",
   "pygments_lexer": "ipython3",
   "version": "3.7.7"
  }
 },
 "nbformat": 4,
 "nbformat_minor": 4
}
