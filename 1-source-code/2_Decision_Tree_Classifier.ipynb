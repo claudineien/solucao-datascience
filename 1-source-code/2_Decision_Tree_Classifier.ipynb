{
 "cells": [
  {
   "cell_type": "markdown",
   "metadata": {},
   "source": [
    "### 1o MODELO MACHINE LEARNING"
   ]
  },
  {
   "cell_type": "markdown",
   "metadata": {},
   "source": [
    "#### Atenção : Antes de importarmos os dataset devemos aplicar o Labelling"
   ]
  },
  {
   "cell_type": "code",
   "execution_count": 1,
   "metadata": {},
   "outputs": [],
   "source": [
    "# Bibliotecas com métodos, formulas, rotinas para agilizar desenvolvimento\n",
    "import pandas as pd"
   ]
  },
  {
   "cell_type": "markdown",
   "metadata": {},
   "source": [
    "#### Analisar conteúdo do dataset"
   ]
  },
  {
   "cell_type": "code",
   "execution_count": 2,
   "metadata": {},
   "outputs": [],
   "source": [
    "# Abrir o arquivo .csv\n",
    "df = pd.read_csv(\"raw_data_with_labels.csv\", index_col=0)"
   ]
  },
  {
   "cell_type": "code",
   "execution_count": 3,
   "metadata": {},
   "outputs": [
    {
     "data": {
      "text/html": [
       "<div>\n",
       "<style scoped>\n",
       "    .dataframe tbody tr th:only-of-type {\n",
       "        vertical-align: middle;\n",
       "    }\n",
       "\n",
       "    .dataframe tbody tr th {\n",
       "        vertical-align: top;\n",
       "    }\n",
       "\n",
       "    .dataframe thead th {\n",
       "        text-align: right;\n",
       "    }\n",
       "</style>\n",
       "<table border=\"1\" class=\"dataframe\">\n",
       "  <thead>\n",
       "    <tr style=\"text-align: right;\">\n",
       "      <th></th>\n",
       "      <th>watch-title</th>\n",
       "      <th>y</th>\n",
       "      <th>watch-view-count</th>\n",
       "      <th>watch-time-text</th>\n",
       "      <th>content_watch-info-tag-list</th>\n",
       "      <th>watch7-headline</th>\n",
       "      <th>watch7-user-header</th>\n",
       "      <th>watch8-sentiment-actions</th>\n",
       "      <th>og:image</th>\n",
       "      <th>og:image:width</th>\n",
       "      <th>og:image:height</th>\n",
       "      <th>og:description</th>\n",
       "      <th>og:video:width</th>\n",
       "      <th>og:video:height</th>\n",
       "      <th>og:video:tag</th>\n",
       "      <th>channel_link_0</th>\n",
       "    </tr>\n",
       "  </thead>\n",
       "  <tbody>\n",
       "    <tr>\n",
       "      <th>0</th>\n",
       "      <td>How to Become A Machine Learning Engineer | Ho...</td>\n",
       "      <td>0.0</td>\n",
       "      <td>28.028 visualizações</td>\n",
       "      <td>Publicado em 3 de set. de 2018</td>\n",
       "      <td>Educação</td>\n",
       "      <td>#MachineLearningAlgorithms #Datasciencecourse ...</td>\n",
       "      <td>Simplilearn\\n\\n\\n\\n\\n\\n\\n\\n\\n\\n\\n\\n\\n\\n\\nCarre...</td>\n",
       "      <td>28.028 visualizações\\n\\n\\n\\n\\n\\n\\n\\n601\\n\\nGos...</td>\n",
       "      <td>https://i.ytimg.com/vi/-5hEYRt8JE0/maxresdefau...</td>\n",
       "      <td>1280.0</td>\n",
       "      <td>720.0</td>\n",
       "      <td>This video on \"How to become a Machine Learnin...</td>\n",
       "      <td>1280.0</td>\n",
       "      <td>720.0</td>\n",
       "      <td>simplilearn</td>\n",
       "      <td>/channel/UCsvqVGtbbyHaMoevxPAq9Fg</td>\n",
       "    </tr>\n",
       "    <tr>\n",
       "      <th>1</th>\n",
       "      <td>BLOOPERS - Behind The Scenes. | DATA SCIENCE x...</td>\n",
       "      <td>0.0</td>\n",
       "      <td>1.131 visualizações</td>\n",
       "      <td>Publicado em 16 de nov. de 2018</td>\n",
       "      <td>Pessoas e blogs</td>\n",
       "      <td>#FAIL #insidezalando\\n\\n\\n\\n    BLOOPERS - Beh...</td>\n",
       "      <td>Inside Zalando\\n\\n\\n\\n\\n\\n\\n\\n\\n\\n\\n\\n\\n\\nCarr...</td>\n",
       "      <td>1.131 visualizações\\n\\n\\n\\n\\n\\n\\n\\n20\\n\\nGosto...</td>\n",
       "      <td>https://i.ytimg.com/vi/-7GiiT0yEyk/maxresdefau...</td>\n",
       "      <td>1280.0</td>\n",
       "      <td>720.0</td>\n",
       "      <td>#FAIL :) Have fun - and join our teams: https:...</td>\n",
       "      <td>1280.0</td>\n",
       "      <td>720.0</td>\n",
       "      <td>employer branding</td>\n",
       "      <td>/channel/UCTPin8TK-KRSI9zo9FoxG0g</td>\n",
       "    </tr>\n",
       "    <tr>\n",
       "      <th>2</th>\n",
       "      <td>Michael I. Jordan: Machine Learning: Dynamical...</td>\n",
       "      <td>1.0</td>\n",
       "      <td>1.816 visualizações</td>\n",
       "      <td>Publicado em 2 de mai. de 2019</td>\n",
       "      <td>Licença de atribuição Creative Commons (reutil...</td>\n",
       "      <td>#purdue #michaelijordan #engineering\\n\\n\\n\\n  ...</td>\n",
       "      <td>Purdue Engineering\\n\\n\\n\\n\\n\\n\\n\\n\\n\\n\\n\\n\\n\\n...</td>\n",
       "      <td>1.816 visualizações\\n\\n\\n\\n\\n\\n\\n\\n42\\n\\nGosto...</td>\n",
       "      <td>https://i.ytimg.com/vi/-8yYFdV5SOc/maxresdefau...</td>\n",
       "      <td>1280.0</td>\n",
       "      <td>720.0</td>\n",
       "      <td>2019 Purdue Engineering Distinguished Lecture ...</td>\n",
       "      <td>1280.0</td>\n",
       "      <td>720.0</td>\n",
       "      <td>electrical engineer</td>\n",
       "      <td>/channel/UC8FZ6dzFVkCACLH9YoMNFog</td>\n",
       "    </tr>\n",
       "    <tr>\n",
       "      <th>3</th>\n",
       "      <td>Best Deep Learning Tools - Welcome.AI</td>\n",
       "      <td>0.0</td>\n",
       "      <td>1.171 visualizações</td>\n",
       "      <td>Publicado em 13 de ago. de 2019</td>\n",
       "      <td>Ciência e tecnologia</td>\n",
       "      <td>Best Deep Learning Tools - Welcome.AI</td>\n",
       "      <td>Welcome.AI\\n\\n\\n\\n\\n\\n\\n\\n\\n\\n\\n\\n\\n\\nCarregan...</td>\n",
       "      <td>1.171 visualizações\\n\\n\\n\\n\\n\\n\\n\\n14\\n\\nGosto...</td>\n",
       "      <td>https://i.ytimg.com/vi/-9LLrwW1Vdo/maxresdefau...</td>\n",
       "      <td>1280.0</td>\n",
       "      <td>720.0</td>\n",
       "      <td>A collection of the 5 best deep learning tools...</td>\n",
       "      <td>1280.0</td>\n",
       "      <td>720.0</td>\n",
       "      <td>Watson</td>\n",
       "      <td>/channel/UC_215Y7rOAsqnFkO_hnpdIg</td>\n",
       "    </tr>\n",
       "    <tr>\n",
       "      <th>4</th>\n",
       "      <td>Kaggle Live-Coding: RNNs for Sarcasm Detection...</td>\n",
       "      <td>1.0</td>\n",
       "      <td>1.228 visualizações</td>\n",
       "      <td>Transmitido ao vivo em 30 de nov. de 2018</td>\n",
       "      <td>Ciência e tecnologia</td>\n",
       "      <td>Kaggle Live-Coding: RNNs for Sarcasm Detection...</td>\n",
       "      <td>Kaggle\\n\\n\\n\\n\\n\\n\\n\\n\\n\\n\\n\\n\\n\\nCarregando.....</td>\n",
       "      <td>1.228 visualizações\\n\\n\\n\\n\\n\\n\\n\\n28\\n\\nGosto...</td>\n",
       "      <td>https://i.ytimg.com/vi/-9U84J178OQ/maxresdefau...</td>\n",
       "      <td>1280.0</td>\n",
       "      <td>720.0</td>\n",
       "      <td>Join Kaggle data scientist Rachael live as she...</td>\n",
       "      <td>1280.0</td>\n",
       "      <td>720.0</td>\n",
       "      <td>CS</td>\n",
       "      <td>/channel/UCSNeZleDn9c74yQc-EKnVTA</td>\n",
       "    </tr>\n",
       "  </tbody>\n",
       "</table>\n",
       "</div>"
      ],
      "text/plain": [
       "                                         watch-title    y  \\\n",
       "0  How to Become A Machine Learning Engineer | Ho...  0.0   \n",
       "1  BLOOPERS - Behind The Scenes. | DATA SCIENCE x...  0.0   \n",
       "2  Michael I. Jordan: Machine Learning: Dynamical...  1.0   \n",
       "3              Best Deep Learning Tools - Welcome.AI  0.0   \n",
       "4  Kaggle Live-Coding: RNNs for Sarcasm Detection...  1.0   \n",
       "\n",
       "       watch-view-count                            watch-time-text  \\\n",
       "0  28.028 visualizações             Publicado em 3 de set. de 2018   \n",
       "1   1.131 visualizações            Publicado em 16 de nov. de 2018   \n",
       "2   1.816 visualizações             Publicado em 2 de mai. de 2019   \n",
       "3   1.171 visualizações            Publicado em 13 de ago. de 2019   \n",
       "4   1.228 visualizações  Transmitido ao vivo em 30 de nov. de 2018   \n",
       "\n",
       "                         content_watch-info-tag-list  \\\n",
       "0                                           Educação   \n",
       "1                                    Pessoas e blogs   \n",
       "2  Licença de atribuição Creative Commons (reutil...   \n",
       "3                               Ciência e tecnologia   \n",
       "4                               Ciência e tecnologia   \n",
       "\n",
       "                                     watch7-headline  \\\n",
       "0  #MachineLearningAlgorithms #Datasciencecourse ...   \n",
       "1  #FAIL #insidezalando\\n\\n\\n\\n    BLOOPERS - Beh...   \n",
       "2  #purdue #michaelijordan #engineering\\n\\n\\n\\n  ...   \n",
       "3              Best Deep Learning Tools - Welcome.AI   \n",
       "4  Kaggle Live-Coding: RNNs for Sarcasm Detection...   \n",
       "\n",
       "                                  watch7-user-header  \\\n",
       "0  Simplilearn\\n\\n\\n\\n\\n\\n\\n\\n\\n\\n\\n\\n\\n\\n\\nCarre...   \n",
       "1  Inside Zalando\\n\\n\\n\\n\\n\\n\\n\\n\\n\\n\\n\\n\\n\\nCarr...   \n",
       "2  Purdue Engineering\\n\\n\\n\\n\\n\\n\\n\\n\\n\\n\\n\\n\\n\\n...   \n",
       "3  Welcome.AI\\n\\n\\n\\n\\n\\n\\n\\n\\n\\n\\n\\n\\n\\nCarregan...   \n",
       "4  Kaggle\\n\\n\\n\\n\\n\\n\\n\\n\\n\\n\\n\\n\\n\\nCarregando.....   \n",
       "\n",
       "                            watch8-sentiment-actions  \\\n",
       "0  28.028 visualizações\\n\\n\\n\\n\\n\\n\\n\\n601\\n\\nGos...   \n",
       "1  1.131 visualizações\\n\\n\\n\\n\\n\\n\\n\\n20\\n\\nGosto...   \n",
       "2  1.816 visualizações\\n\\n\\n\\n\\n\\n\\n\\n42\\n\\nGosto...   \n",
       "3  1.171 visualizações\\n\\n\\n\\n\\n\\n\\n\\n14\\n\\nGosto...   \n",
       "4  1.228 visualizações\\n\\n\\n\\n\\n\\n\\n\\n28\\n\\nGosto...   \n",
       "\n",
       "                                            og:image  og:image:width  \\\n",
       "0  https://i.ytimg.com/vi/-5hEYRt8JE0/maxresdefau...          1280.0   \n",
       "1  https://i.ytimg.com/vi/-7GiiT0yEyk/maxresdefau...          1280.0   \n",
       "2  https://i.ytimg.com/vi/-8yYFdV5SOc/maxresdefau...          1280.0   \n",
       "3  https://i.ytimg.com/vi/-9LLrwW1Vdo/maxresdefau...          1280.0   \n",
       "4  https://i.ytimg.com/vi/-9U84J178OQ/maxresdefau...          1280.0   \n",
       "\n",
       "   og:image:height                                     og:description  \\\n",
       "0            720.0  This video on \"How to become a Machine Learnin...   \n",
       "1            720.0  #FAIL :) Have fun - and join our teams: https:...   \n",
       "2            720.0  2019 Purdue Engineering Distinguished Lecture ...   \n",
       "3            720.0  A collection of the 5 best deep learning tools...   \n",
       "4            720.0  Join Kaggle data scientist Rachael live as she...   \n",
       "\n",
       "   og:video:width  og:video:height         og:video:tag  \\\n",
       "0          1280.0            720.0          simplilearn   \n",
       "1          1280.0            720.0    employer branding   \n",
       "2          1280.0            720.0  electrical engineer   \n",
       "3          1280.0            720.0               Watson   \n",
       "4          1280.0            720.0                   CS   \n",
       "\n",
       "                      channel_link_0  \n",
       "0  /channel/UCsvqVGtbbyHaMoevxPAq9Fg  \n",
       "1  /channel/UCTPin8TK-KRSI9zo9FoxG0g  \n",
       "2  /channel/UC8FZ6dzFVkCACLH9YoMNFog  \n",
       "3  /channel/UC_215Y7rOAsqnFkO_hnpdIg  \n",
       "4  /channel/UCSNeZleDn9c74yQc-EKnVTA  "
      ]
     },
     "execution_count": 3,
     "metadata": {},
     "output_type": "execute_result"
    }
   ],
   "source": [
    "# Pegar somente a linhas cuja coluna Y são diferentes de nula\n",
    "df = df[df['y'].notnull()]\n",
    "# Exibir as primeiras cinco linhas do dataset dentro do dataframe, para rápida análise do conteúdo\n",
    "df.head()"
   ]
  },
  {
   "cell_type": "code",
   "execution_count": 4,
   "metadata": {},
   "outputs": [
    {
     "name": "stdout",
     "output_type": "stream",
     "text": [
      "<class 'pandas.core.frame.DataFrame'>\n",
      "Int64Index: 498 entries, 0 to 500\n",
      "Data columns (total 16 columns):\n",
      " #   Column                       Non-Null Count  Dtype  \n",
      "---  ------                       --------------  -----  \n",
      " 0   watch-title                  498 non-null    object \n",
      " 1   y                            498 non-null    float64\n",
      " 2   watch-view-count             498 non-null    object \n",
      " 3   watch-time-text              498 non-null    object \n",
      " 4   content_watch-info-tag-list  498 non-null    object \n",
      " 5   watch7-headline              498 non-null    object \n",
      " 6   watch7-user-header           498 non-null    object \n",
      " 7   watch8-sentiment-actions     498 non-null    object \n",
      " 8   og:image                     498 non-null    object \n",
      " 9   og:image:width               498 non-null    float64\n",
      " 10  og:image:height              498 non-null    float64\n",
      " 11  og:description               498 non-null    object \n",
      " 12  og:video:width               495 non-null    float64\n",
      " 13  og:video:height              495 non-null    float64\n",
      " 14  og:video:tag                 439 non-null    object \n",
      " 15  channel_link_0               498 non-null    object \n",
      "dtypes: float64(5), object(11)\n",
      "memory usage: 66.1+ KB\n"
     ]
    }
   ],
   "source": [
    "# Exibir quantidade de colunas e linhas, nome, tipo e quantidade do conteudo de cada coluna, memória usada\n",
    "df.info()"
   ]
  },
  {
   "cell_type": "code",
   "execution_count": 5,
   "metadata": {},
   "outputs": [
    {
     "data": {
      "text/html": [
       "<div>\n",
       "<style scoped>\n",
       "    .dataframe tbody tr th:only-of-type {\n",
       "        vertical-align: middle;\n",
       "    }\n",
       "\n",
       "    .dataframe tbody tr th {\n",
       "        vertical-align: top;\n",
       "    }\n",
       "\n",
       "    .dataframe thead th {\n",
       "        text-align: right;\n",
       "    }\n",
       "</style>\n",
       "<table border=\"1\" class=\"dataframe\">\n",
       "  <thead>\n",
       "    <tr style=\"text-align: right;\">\n",
       "      <th></th>\n",
       "      <th>watch-title</th>\n",
       "      <th>y</th>\n",
       "      <th>watch-view-count</th>\n",
       "      <th>watch-time-text</th>\n",
       "      <th>content_watch-info-tag-list</th>\n",
       "      <th>watch7-headline</th>\n",
       "      <th>watch7-user-header</th>\n",
       "      <th>watch8-sentiment-actions</th>\n",
       "      <th>og:image</th>\n",
       "      <th>og:image:width</th>\n",
       "      <th>og:image:height</th>\n",
       "      <th>og:description</th>\n",
       "      <th>og:video:width</th>\n",
       "      <th>og:video:height</th>\n",
       "      <th>og:video:tag</th>\n",
       "      <th>channel_link_0</th>\n",
       "    </tr>\n",
       "  </thead>\n",
       "  <tbody>\n",
       "    <tr>\n",
       "      <th>496</th>\n",
       "      <td>Machine Learning With Python | Machine Learnin...</td>\n",
       "      <td>0.0</td>\n",
       "      <td>170.932 visualizações</td>\n",
       "      <td>Publicado em 1 de mar. de 2018</td>\n",
       "      <td>Educação</td>\n",
       "      <td>Machine Learning With Python | Machine Learnin...</td>\n",
       "      <td>Simplilearn\\n\\n\\n\\n\\n\\n\\n\\n\\n\\n\\n\\n\\n\\n\\nCarre...</td>\n",
       "      <td>170.932 visualizações\\n\\n\\n\\n\\n\\n\\n\\n2.393\\n\\n...</td>\n",
       "      <td>https://i.ytimg.com/vi/Q59X518JZHE/maxresdefau...</td>\n",
       "      <td>1280.0</td>\n",
       "      <td>720.0</td>\n",
       "      <td>This Machine Learning with Python tutorial giv...</td>\n",
       "      <td>1280.0</td>\n",
       "      <td>720.0</td>\n",
       "      <td>simplilearn machine learning</td>\n",
       "      <td>/channel/UCsvqVGtbbyHaMoevxPAq9Fg</td>\n",
       "    </tr>\n",
       "    <tr>\n",
       "      <th>497</th>\n",
       "      <td>MACHINE LEARNING and AUGMENTED REALITY</td>\n",
       "      <td>0.0</td>\n",
       "      <td>69.644 visualizações</td>\n",
       "      <td>Publicado em 31 de mai. de 2018</td>\n",
       "      <td>Ciência e tecnologia</td>\n",
       "      <td>MACHINE LEARNING and AUGMENTED REALITY</td>\n",
       "      <td>MatthewHallberg\\n\\n\\n\\n\\n\\n\\n\\n\\n\\n\\n\\n\\n\\nCar...</td>\n",
       "      <td>69.644 visualizações\\n\\n\\n\\n\\n\\n\\n\\n1.569\\n\\nG...</td>\n",
       "      <td>https://i.ytimg.com/vi/Q6ERFwQNkzo/maxresdefau...</td>\n",
       "      <td>1280.0</td>\n",
       "      <td>720.0</td>\n",
       "      <td>This tutorial is going to go through getting T...</td>\n",
       "      <td>1280.0</td>\n",
       "      <td>720.0</td>\n",
       "      <td>image classification tensorflow tutorial</td>\n",
       "      <td>/channel/UClm2DY6pj3ygKoKhEVr7KFw</td>\n",
       "    </tr>\n",
       "    <tr>\n",
       "      <th>498</th>\n",
       "      <td>Kaggle 대회 시작하기 #1</td>\n",
       "      <td>0.0</td>\n",
       "      <td>470 visualizações</td>\n",
       "      <td>Publicado em 10 de nov. de 2019</td>\n",
       "      <td>Pessoas e blogs</td>\n",
       "      <td>Palos Verdes\\n\\n\\n\\n    Kaggle 대회 시작하기 #1</td>\n",
       "      <td>LA오빠\\n\\n\\n\\n\\n\\n\\n\\n\\n\\n\\n\\n\\n\\nCarregando...\\...</td>\n",
       "      <td>470 visualizações\\n\\n\\n\\n\\n\\n\\n\\n39\\n\\nGostou ...</td>\n",
       "      <td>https://i.ytimg.com/vi/Q71MI-MkGhg/maxresdefau...</td>\n",
       "      <td>1280.0</td>\n",
       "      <td>720.0</td>\n",
       "      <td>LA오남매아빠 #LA오빠 - #즐거운DataScience 오늘은 현재 진행 중인 A...</td>\n",
       "      <td>1280.0</td>\n",
       "      <td>720.0</td>\n",
       "      <td>Ashrae Energy Prediction</td>\n",
       "      <td>/channel/UCjhlZKSIRVvQxlUprmv0bdg</td>\n",
       "    </tr>\n",
       "    <tr>\n",
       "      <th>499</th>\n",
       "      <td>The Netacea Approach | Smarter Bot Management ...</td>\n",
       "      <td>1.0</td>\n",
       "      <td>99.855 visualizações</td>\n",
       "      <td>Publicado em 25 de abr. de 2019</td>\n",
       "      <td>Ciência e tecnologia</td>\n",
       "      <td>The Netacea Approach | Smarter Bot Management ...</td>\n",
       "      <td>Netacea\\n\\n\\n\\n\\n\\n\\n\\n\\n\\n\\n\\n\\n\\nCarregando....</td>\n",
       "      <td>99.855 visualizações\\n\\n\\n\\n\\n\\n\\n\\n14\\n\\nGost...</td>\n",
       "      <td>https://i.ytimg.com/vi/QDh1vq9tVsY/hqdefault.jpg</td>\n",
       "      <td>480.0</td>\n",
       "      <td>360.0</td>\n",
       "      <td>The majority of internet traffic is now made u...</td>\n",
       "      <td>1280.0</td>\n",
       "      <td>720.0</td>\n",
       "      <td>Cyber threats</td>\n",
       "      <td>/channel/UCMLXUedkowSUnn5rSXKUzCQ</td>\n",
       "    </tr>\n",
       "    <tr>\n",
       "      <th>500</th>\n",
       "      <td>Stanford CS224N: NLP with Deep Learning | Wint...</td>\n",
       "      <td>0.0</td>\n",
       "      <td>17.363 visualizações</td>\n",
       "      <td>Publicado em 21 de mar. de 2019</td>\n",
       "      <td>Educação</td>\n",
       "      <td>Stanford CS224N: NLP with Deep Learning | Wint...</td>\n",
       "      <td>stanfordonline\\n\\n\\n\\n\\n\\n\\n\\n\\n\\n\\n\\n\\n\\nCarr...</td>\n",
       "      <td>17.363 visualizações\\n\\n\\n\\n\\n\\n\\n\\n191\\n\\nGos...</td>\n",
       "      <td>https://i.ytimg.com/vi/QEw0qEa0E50/maxresdefau...</td>\n",
       "      <td>1280.0</td>\n",
       "      <td>720.0</td>\n",
       "      <td>Professor Christopher Manning &amp; PhD Candidate ...</td>\n",
       "      <td>1280.0</td>\n",
       "      <td>720.0</td>\n",
       "      <td>NaN</td>\n",
       "      <td>/channel/UCBa5G_ESCn8Yd4vw5U-gIcg</td>\n",
       "    </tr>\n",
       "  </tbody>\n",
       "</table>\n",
       "</div>"
      ],
      "text/plain": [
       "                                           watch-title    y  \\\n",
       "496  Machine Learning With Python | Machine Learnin...  0.0   \n",
       "497             MACHINE LEARNING and AUGMENTED REALITY  0.0   \n",
       "498                                  Kaggle 대회 시작하기 #1  0.0   \n",
       "499  The Netacea Approach | Smarter Bot Management ...  1.0   \n",
       "500  Stanford CS224N: NLP with Deep Learning | Wint...  0.0   \n",
       "\n",
       "          watch-view-count                  watch-time-text  \\\n",
       "496  170.932 visualizações   Publicado em 1 de mar. de 2018   \n",
       "497   69.644 visualizações  Publicado em 31 de mai. de 2018   \n",
       "498      470 visualizações  Publicado em 10 de nov. de 2019   \n",
       "499   99.855 visualizações  Publicado em 25 de abr. de 2019   \n",
       "500   17.363 visualizações  Publicado em 21 de mar. de 2019   \n",
       "\n",
       "    content_watch-info-tag-list  \\\n",
       "496                    Educação   \n",
       "497        Ciência e tecnologia   \n",
       "498             Pessoas e blogs   \n",
       "499        Ciência e tecnologia   \n",
       "500                    Educação   \n",
       "\n",
       "                                       watch7-headline  \\\n",
       "496  Machine Learning With Python | Machine Learnin...   \n",
       "497             MACHINE LEARNING and AUGMENTED REALITY   \n",
       "498          Palos Verdes\\n\\n\\n\\n    Kaggle 대회 시작하기 #1   \n",
       "499  The Netacea Approach | Smarter Bot Management ...   \n",
       "500  Stanford CS224N: NLP with Deep Learning | Wint...   \n",
       "\n",
       "                                    watch7-user-header  \\\n",
       "496  Simplilearn\\n\\n\\n\\n\\n\\n\\n\\n\\n\\n\\n\\n\\n\\n\\nCarre...   \n",
       "497  MatthewHallberg\\n\\n\\n\\n\\n\\n\\n\\n\\n\\n\\n\\n\\n\\nCar...   \n",
       "498  LA오빠\\n\\n\\n\\n\\n\\n\\n\\n\\n\\n\\n\\n\\n\\nCarregando...\\...   \n",
       "499  Netacea\\n\\n\\n\\n\\n\\n\\n\\n\\n\\n\\n\\n\\n\\nCarregando....   \n",
       "500  stanfordonline\\n\\n\\n\\n\\n\\n\\n\\n\\n\\n\\n\\n\\n\\nCarr...   \n",
       "\n",
       "                              watch8-sentiment-actions  \\\n",
       "496  170.932 visualizações\\n\\n\\n\\n\\n\\n\\n\\n2.393\\n\\n...   \n",
       "497  69.644 visualizações\\n\\n\\n\\n\\n\\n\\n\\n1.569\\n\\nG...   \n",
       "498  470 visualizações\\n\\n\\n\\n\\n\\n\\n\\n39\\n\\nGostou ...   \n",
       "499  99.855 visualizações\\n\\n\\n\\n\\n\\n\\n\\n14\\n\\nGost...   \n",
       "500  17.363 visualizações\\n\\n\\n\\n\\n\\n\\n\\n191\\n\\nGos...   \n",
       "\n",
       "                                              og:image  og:image:width  \\\n",
       "496  https://i.ytimg.com/vi/Q59X518JZHE/maxresdefau...          1280.0   \n",
       "497  https://i.ytimg.com/vi/Q6ERFwQNkzo/maxresdefau...          1280.0   \n",
       "498  https://i.ytimg.com/vi/Q71MI-MkGhg/maxresdefau...          1280.0   \n",
       "499   https://i.ytimg.com/vi/QDh1vq9tVsY/hqdefault.jpg           480.0   \n",
       "500  https://i.ytimg.com/vi/QEw0qEa0E50/maxresdefau...          1280.0   \n",
       "\n",
       "     og:image:height                                     og:description  \\\n",
       "496            720.0  This Machine Learning with Python tutorial giv...   \n",
       "497            720.0  This tutorial is going to go through getting T...   \n",
       "498            720.0  LA오남매아빠 #LA오빠 - #즐거운DataScience 오늘은 현재 진행 중인 A...   \n",
       "499            360.0  The majority of internet traffic is now made u...   \n",
       "500            720.0  Professor Christopher Manning & PhD Candidate ...   \n",
       "\n",
       "     og:video:width  og:video:height  \\\n",
       "496          1280.0            720.0   \n",
       "497          1280.0            720.0   \n",
       "498          1280.0            720.0   \n",
       "499          1280.0            720.0   \n",
       "500          1280.0            720.0   \n",
       "\n",
       "                                 og:video:tag  \\\n",
       "496              simplilearn machine learning   \n",
       "497  image classification tensorflow tutorial   \n",
       "498                  Ashrae Energy Prediction   \n",
       "499                             Cyber threats   \n",
       "500                                       NaN   \n",
       "\n",
       "                        channel_link_0  \n",
       "496  /channel/UCsvqVGtbbyHaMoevxPAq9Fg  \n",
       "497  /channel/UClm2DY6pj3ygKoKhEVr7KFw  \n",
       "498  /channel/UCjhlZKSIRVvQxlUprmv0bdg  \n",
       "499  /channel/UCMLXUedkowSUnn5rSXKUzCQ  \n",
       "500  /channel/UCBa5G_ESCn8Yd4vw5U-gIcg  "
      ]
     },
     "execution_count": 5,
     "metadata": {},
     "output_type": "execute_result"
    }
   ],
   "source": [
    "# Exibir as últimos 5 linhas\n",
    "df.tail()"
   ]
  },
  {
   "cell_type": "markdown",
   "metadata": {},
   "source": [
    "#### Limpar e/ou tratar os dados para melhor uso no modelo de predição"
   ]
  },
  {
   "cell_type": "code",
   "execution_count": 6,
   "metadata": {},
   "outputs": [],
   "source": [
    "# Criar um dataframe apenas com indices iguais ao dataframe principal com os vídeos\n",
    "# Este servirá para popularmos com as colunas limpas e tratadas\n",
    "df_limpo = pd.DataFrame(index=df.index)"
   ]
  },
  {
   "cell_type": "markdown",
   "metadata": {},
   "source": [
    "#### Extrair apenas a data (dia, mês e ano) de uma coluna com strings"
   ]
  },
  {
   "cell_type": "code",
   "execution_count": 7,
   "metadata": {},
   "outputs": [],
   "source": [
    "# Extrair os numeros que representam data de publicação ' dia (numero), mes (string) e ano (numero)'\n",
    "clean_date = df['watch-time-text'].str.extract(r\"(\\d+) de ([a-z]+)\\. de (\\d+)\")\n",
    "# Incluir zero à frente do numero abaixo de 10 que representa do dia \n",
    "clean_date[0] = clean_date[0].map(lambda x: \"0\"+x[0] if len(x) == 1 else x)"
   ]
  },
  {
   "cell_type": "code",
   "execution_count": 8,
   "metadata": {},
   "outputs": [],
   "source": [
    "# Transformar mes que esta portugues para mes em inglês\n",
    "mapa_meses = {\"jan\": \"Jan\",\n",
    "              \"fev\": \"Feb\",\n",
    "              \"mar\": \"Mar\", \n",
    "              \"abr\": \"Apr\", \n",
    "              \"mai\": \"May\", \n",
    "              \"jun\": \"Jun\",\n",
    "              \"jul\": \"Jul\",\n",
    "              \"ago\": \"Aug\", \n",
    "              \"set\": \"Sep\", \n",
    "              \"out\": \"Oct\", \n",
    "              \"nov\": \"Nov\",\n",
    "              \"dez\": \"Dec\"}\n",
    "# Transforma os meses\n",
    "clean_date[1] = clean_date[1].map(mapa_meses)"
   ]
  },
  {
   "cell_type": "code",
   "execution_count": 9,
   "metadata": {},
   "outputs": [],
   "source": [
    "# Unir numeros que representam data ' dia (numero), mes (string) e ano (numero)'\n",
    "clean_date = clean_date.apply(lambda x: \" \".join(x), axis=1)"
   ]
  },
  {
   "cell_type": "code",
   "execution_count": 10,
   "metadata": {},
   "outputs": [],
   "source": [
    "# Converter para data os dados extraidos em clean_date e gravar no campo date criado no dataframe df_limpo\n",
    "df_limpo['date'] = pd.to_datetime(clean_date, format=\"%d %b %Y\")"
   ]
  },
  {
   "cell_type": "markdown",
   "metadata": {},
   "source": [
    "#### Extrair apenas a quantidade de uma coluna com strings\n",
    "#### Eliminar o conteúdo nan"
   ]
  },
  {
   "cell_type": "code",
   "execution_count": 11,
   "metadata": {},
   "outputs": [],
   "source": [
    "# Extrair apenas o número, eliminar o ponto que esta no numero, eliminar o tipo nan da coluna e converter\n",
    "# todo o conteudo para o tipo integer\n",
    "# expand=False faz o pandas retornar apenas série ao invés de dataframe\n",
    "views = df['watch-view-count'].str.extract(r\"(\\d+\\.?\\d*)\", expand=False).str.replace(\".\", \"\").fillna(0).astype(int)\n",
    "# Criar coluna views no dataframe df_limpo e popular com os novos dados numéricos\n",
    "df_limpo['views'] = views"
   ]
  },
  {
   "cell_type": "markdown",
   "metadata": {},
   "source": [
    "#### Criar Features"
   ]
  },
  {
   "cell_type": "code",
   "execution_count": 12,
   "metadata": {},
   "outputs": [],
   "source": [
    "# Bibliotecas com métodos, formulas, rotinas para agilizar desenvolvimento\n",
    "import numpy as np"
   ]
  },
  {
   "cell_type": "code",
   "execution_count": 13,
   "metadata": {},
   "outputs": [],
   "source": [
    "# Criar um dataframe apenas com indices iguais ao dataframe com alguns dados limpos\n",
    "# Este servirá para aplicarmos alguns tratamentos específicos\n",
    "features = pd.DataFrame(index=df_limpo.index)"
   ]
  },
  {
   "cell_type": "code",
   "execution_count": 14,
   "metadata": {},
   "outputs": [],
   "source": [
    "# Subtrair da data da publicação do vídeo uma data fixa posterior, como parâmetro fixo, depois\n",
    "# converter para uma estrutura série de float timedelta64 do numpy\n",
    "features['tempo_desde_pub'] = (pd.to_datetime(\"2019-12-03\") - df_limpo['date']) / np.timedelta64(1, 'D')\n",
    "# Apenas copiar os dados da coluna views, não precisam de tratamento\n",
    "features['views'] = df_limpo['views']\n",
    "# Dividir o tempo de publicação do vídeo pela quantidade de views e gravar na nova coluna views_por_dia\n",
    "# para ter uma quantidade acumulada aproximada de views por dia\n",
    "features['views_por_dia'] = features['views'] / features['tempo_desde_pub']\n",
    "# Apagar a coluna tempo_desde_pub, para exibir melhor as informações em gráfico\n",
    "features = features.drop(['tempo_desde_pub'], axis=1)"
   ]
  },
  {
   "cell_type": "code",
   "execution_count": 15,
   "metadata": {},
   "outputs": [
    {
     "data": {
      "text/html": [
       "<div>\n",
       "<style scoped>\n",
       "    .dataframe tbody tr th:only-of-type {\n",
       "        vertical-align: middle;\n",
       "    }\n",
       "\n",
       "    .dataframe tbody tr th {\n",
       "        vertical-align: top;\n",
       "    }\n",
       "\n",
       "    .dataframe thead th {\n",
       "        text-align: right;\n",
       "    }\n",
       "</style>\n",
       "<table border=\"1\" class=\"dataframe\">\n",
       "  <thead>\n",
       "    <tr style=\"text-align: right;\">\n",
       "      <th></th>\n",
       "      <th>views</th>\n",
       "      <th>views_por_dia</th>\n",
       "    </tr>\n",
       "  </thead>\n",
       "  <tbody>\n",
       "    <tr>\n",
       "      <th>0</th>\n",
       "      <td>28028</td>\n",
       "      <td>61.464912</td>\n",
       "    </tr>\n",
       "    <tr>\n",
       "      <th>1</th>\n",
       "      <td>1131</td>\n",
       "      <td>2.960733</td>\n",
       "    </tr>\n",
       "    <tr>\n",
       "      <th>2</th>\n",
       "      <td>1816</td>\n",
       "      <td>8.446512</td>\n",
       "    </tr>\n",
       "    <tr>\n",
       "      <th>3</th>\n",
       "      <td>1171</td>\n",
       "      <td>10.455357</td>\n",
       "    </tr>\n",
       "    <tr>\n",
       "      <th>4</th>\n",
       "      <td>1228</td>\n",
       "      <td>3.336957</td>\n",
       "    </tr>\n",
       "  </tbody>\n",
       "</table>\n",
       "</div>"
      ],
      "text/plain": [
       "   views  views_por_dia\n",
       "0  28028      61.464912\n",
       "1   1131       2.960733\n",
       "2   1816       8.446512\n",
       "3   1171      10.455357\n",
       "4   1228       3.336957"
      ]
     },
     "execution_count": 15,
     "metadata": {},
     "output_type": "execute_result"
    }
   ],
   "source": [
    "# Exibir as primeiras cinco linhas do dataset dentro do dataframe\n",
    "features.head()"
   ]
  },
  {
   "cell_type": "code",
   "execution_count": 16,
   "metadata": {},
   "outputs": [],
   "source": [
    "# Copiar conteúdo da coluna y do dataframe principal na variável y\n",
    "y = df['y'].copy()"
   ]
  },
  {
   "cell_type": "markdown",
   "metadata": {},
   "source": [
    "#### Plotar - Exibir dados em gráfico\n",
    " Entender melhor a quantidade de dados coletados por data "
   ]
  },
  {
   "cell_type": "code",
   "execution_count": 17,
   "metadata": {},
   "outputs": [
    {
     "data": {
      "text/plain": [
       "<matplotlib.axes._subplots.AxesSubplot at 0x19b2643bc88>"
      ]
     },
     "execution_count": 17,
     "metadata": {},
     "output_type": "execute_result"
    },
    {
     "data": {
      "image/png": "[encoded data removed]",
      "text/plain": [
       "<Figure size 1440x720 with 1 Axes>"
      ]
     },
     "metadata": {
      "needs_background": "light"
     },
     "output_type": "display_data"
    }
   ],
   "source": [
    "# Utilizar gráfico da biblioteca pandas para analisar os dados até o momento limpos/tratados\n",
    "df_limpo['date'].value_counts().plot(figsize=(20,10))"
   ]
  },
  {
   "cell_type": "markdown",
   "metadata": {},
   "source": [
    "#### Treinar modelo machine learning"
   ]
  },
  {
   "cell_type": "code",
   "execution_count": 18,
   "metadata": {},
   "outputs": [],
   "source": [
    "# Separar dados para treino e dados para teste - Aplicar validação temporal por ser uma time series\n",
    "# Foi separado aproximadamente 50% para dados de treino e 50% para dados de teste ao invés de utilizar\n",
    "# o recurso de percentual das funções de separação\n",
    "# Com estas duas features é possível analisar a influência sobre preferência de gosto sobre um\n",
    "# vídeo, como indicam o efeito à predição de gostar ou não do vídeo\n",
    "Xtrain, Xval = features[df_limpo['date'] < \"2019-04-01\"], features[df_limpo['date'] >= \"2019-04-01\"]\n",
    "ytrain, yval = y[df_limpo['date'] < \"2019-04-01\"], y[df_limpo['date'] >= \"2019-04-01\"]"
   ]
  },
  {
   "cell_type": "code",
   "execution_count": 19,
   "metadata": {},
   "outputs": [
    {
     "data": {
      "text/plain": [
       "((228, 2), (270, 2), (228,), (270,))"
      ]
     },
     "execution_count": 19,
     "metadata": {},
     "output_type": "execute_result"
    }
   ],
   "source": [
    "# Exibir a quantidade de vídeos separados para treino e teste\n",
    "Xtrain.shape, Xval.shape, ytrain.shape, yval.shape"
   ]
  },
  {
   "cell_type": "code",
   "execution_count": 20,
   "metadata": {},
   "outputs": [],
   "source": [
    "# Bibliotecas com métodos, formulas, rotinas para agilizar desenvolvimento\n",
    "from sklearn.tree import DecisionTreeClassifier"
   ]
  },
  {
   "cell_type": "code",
   "execution_count": 21,
   "metadata": {},
   "outputs": [
    {
     "data": {
      "text/plain": [
       "32.0"
      ]
     },
     "execution_count": 21,
     "metadata": {},
     "output_type": "execute_result"
    }
   ],
   "source": [
    "# Verificar que 14% ytrain.mean() ou 32 ytrain.mean() * 228 exemplos positivos-encontrados\n",
    "# Esta análise informa ser util utilizar na DecisionTreeClassifier o argumento class_weight=\"balanced\"\n",
    "ytrain.mean() * 228"
   ]
  },
  {
   "cell_type": "code",
   "execution_count": 22,
   "metadata": {},
   "outputs": [],
   "source": [
    "# Uma das melhores maneiras de entender a relação das features com o target é através de árvore de decisão\n",
    "# Aqui utilizaremos a profundidade máxima (max_depth) de 2 níveis de nós, a class_weight=\"balanced\" \n",
    "# serve para balancear melhor os resultados entre as duas features\n",
    "mdl = DecisionTreeClassifier(random_state=0, max_depth=2, class_weight=\"balanced\")"
   ]
  },
  {
   "cell_type": "code",
   "execution_count": 23,
   "metadata": {},
   "outputs": [
    {
     "data": {
      "text/plain": [
       "DecisionTreeClassifier(class_weight='balanced', max_depth=2, random_state=0)"
      ]
     },
     "execution_count": 23,
     "metadata": {},
     "output_type": "execute_result"
    }
   ],
   "source": [
    "# Treinar o modelo Decision Tree\n",
    "mdl.fit(Xtrain, ytrain)"
   ]
  },
  {
   "cell_type": "code",
   "execution_count": 24,
   "metadata": {},
   "outputs": [],
   "source": [
    "# Calcula a probabilidade de ser 0-Não gostei do vídeo e a probabilidade de ser 1-Gostei do vídeo\n",
    "# Queremos somente a probabilidade de ser 1\n",
    "p = mdl.predict_proba(Xval)[:, 1]"
   ]
  },
  {
   "cell_type": "markdown",
   "metadata": {},
   "source": [
    "#### MÉTRICAS DE AVALIAÇÃO"
   ]
  },
  {
   "cell_type": "code",
   "execution_count": 25,
   "metadata": {},
   "outputs": [],
   "source": [
    "# Bibliotecas com métodos, formulas, rotinas para agilizar desenvolvimento\n",
    "from sklearn.metrics import roc_auc_score, average_precision_score"
   ]
  },
  {
   "cell_type": "code",
   "execution_count": 26,
   "metadata": {},
   "outputs": [
    {
     "data": {
      "text/plain": [
       "0.14808785529715762"
      ]
     },
     "execution_count": 26,
     "metadata": {},
     "output_type": "execute_result"
    }
   ],
   "source": [
    "# Esta será a baseline, e serve para melhor visualizarmos o ranking dos vídeos :\n",
    "# dos mais interessantes para os menos interessantes\n",
    "average_precision_score(yval, p)"
   ]
  },
  {
   "cell_type": "code",
   "execution_count": 27,
   "metadata": {},
   "outputs": [
    {
     "data": {
      "text/plain": [
       "0.5705167173252279"
      ]
     },
     "execution_count": 27,
     "metadata": {},
     "output_type": "execute_result"
    }
   ],
   "source": [
    "roc_auc_score(yval, p)"
   ]
  },
  {
   "cell_type": "code",
   "execution_count": 28,
   "metadata": {},
   "outputs": [
    {
     "name": "stdout",
     "output_type": "stream",
     "text": [
      "Populating the interactive namespace from numpy and matplotlib\n"
     ]
    }
   ],
   "source": [
    "# Bibliotecas com métodos, formulas, rotinas para agilizar desenvolvimento\n",
    "from sklearn.tree import plot_tree\n",
    "%matplotlib inline\n",
    "%pylab inline"
   ]
  },
  {
   "cell_type": "code",
   "execution_count": 29,
   "metadata": {},
   "outputs": [
    {
     "data": {
      "text/plain": [
       "[Text(279.0, 453.0, 'views <= 15110.0\\ngini = 0.5\\nsamples = 228\\nvalue = [114.0, 114.0]'),\n",
       " Text(139.5, 271.8, 'views_por_dia <= 0.699\\ngini = 0.481\\nsamples = 133\\nvalue = [62.235, 92.625]'),\n",
       " Text(69.75, 90.59999999999997, 'gini = 0.0\\nsamples = 14\\nvalue = [8.143, 0.0]'),\n",
       " Text(209.25, 90.59999999999997, 'gini = 0.466\\nsamples = 119\\nvalue = [54.092, 92.625]'),\n",
       " Text(418.5, 271.8, 'views <= 26712.0\\ngini = 0.414\\nsamples = 95\\nvalue = [51.765, 21.375]'),\n",
       " Text(348.75, 90.59999999999997, 'gini = 0.0\\nsamples = 20\\nvalue = [11.633, 0.0]'),\n",
       " Text(488.25, 90.59999999999997, 'gini = 0.453\\nsamples = 75\\nvalue = [40.133, 21.375]')]"
      ]
     },
     "execution_count": 29,
     "metadata": {},
     "output_type": "execute_result"
    },
    {
     "data": {
      "image/png": "[encoded data removed]",
      "text/plain": [
       "<Figure size 720x720 with 1 Axes>"
      ]
     },
     "metadata": {
      "needs_background": "light"
     },
     "output_type": "display_data"
    }
   ],
   "source": [
    "fig, ax = pylab.subplots(1,1, figsize=(10,10))\n",
    "plot_tree(mdl, ax=ax, feature_names=Xtrain.columns)"
   ]
  },
  {
   "cell_type": "code",
   "execution_count": null,
   "metadata": {},
   "outputs": [],
   "source": []
  }
 ],
 "metadata": {
  "kernelspec": {
   "display_name": "Python 3",
   "language": "python",
   "name": "python3"
  },
  "language_info": {
   "codemirror_mode": {
    "name": "ipython",
    "version": 3
   },
   "file_extension": ".py",
   "mimetype": "text/x-python",
   "name": "python",
   "nbconvert_exporter": "python",
   "pygments_lexer": "ipython3",
   "version": "3.7.7"
  }
 },
 "nbformat": 4,
 "nbformat_minor": 4
}
