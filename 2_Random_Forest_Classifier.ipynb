{
 "cells": [
  {
   "cell_type": "markdown",
   "metadata": {},
   "source": [
    "### LIMPAR, TRANSFORMAR, 2o MODELO MACHINE LEARNING"
   ]
  },
  {
   "cell_type": "code",
   "execution_count": 1,
   "metadata": {},
   "outputs": [],
   "source": [
    "# Bibliotecas com métodos, formulas, rotinas para agilizar desenvolvimento\n",
    "import pandas as pd\n",
    "# Configurar o dataframe para exibir 131 colunas de um dataset\n",
    "pd.set_option(\"max.columns\", 131)"
   ]
  },
  {
   "cell_type": "code",
   "execution_count": 2,
   "metadata": {},
   "outputs": [],
   "source": [
    "# Abrir o arquivo .csv\n",
    "df = pd.read_csv(\"raw_data_with_labels.csv\", index_col=0)"
   ]
  },
  {
   "cell_type": "code",
   "execution_count": 3,
   "metadata": {},
   "outputs": [
    {
     "data": {
      "text/html": [
       "<div>\n",
       "<style scoped>\n",
       "    .dataframe tbody tr th:only-of-type {\n",
       "        vertical-align: middle;\n",
       "    }\n",
       "\n",
       "    .dataframe tbody tr th {\n",
       "        vertical-align: top;\n",
       "    }\n",
       "\n",
       "    .dataframe thead th {\n",
       "        text-align: right;\n",
       "    }\n",
       "</style>\n",
       "<table border=\"1\" class=\"dataframe\">\n",
       "  <thead>\n",
       "    <tr style=\"text-align: right;\">\n",
       "      <th></th>\n",
       "      <th>watch-title</th>\n",
       "      <th>y</th>\n",
       "      <th>watch-view-count</th>\n",
       "      <th>watch-time-text</th>\n",
       "      <th>content_watch-info-tag-list</th>\n",
       "      <th>watch7-headline</th>\n",
       "      <th>watch7-user-header</th>\n",
       "      <th>watch8-sentiment-actions</th>\n",
       "      <th>og:image</th>\n",
       "      <th>og:image:width</th>\n",
       "      <th>og:image:height</th>\n",
       "      <th>og:description</th>\n",
       "      <th>og:video:width</th>\n",
       "      <th>og:video:height</th>\n",
       "      <th>og:video:tag</th>\n",
       "      <th>channel_link_0</th>\n",
       "    </tr>\n",
       "  </thead>\n",
       "  <tbody>\n",
       "    <tr>\n",
       "      <th>0</th>\n",
       "      <td>How to Become A Machine Learning Engineer | Ho...</td>\n",
       "      <td>0.0</td>\n",
       "      <td>28.028 visualizações</td>\n",
       "      <td>Publicado em 3 de set. de 2018</td>\n",
       "      <td>Educação</td>\n",
       "      <td>#MachineLearningAlgorithms #Datasciencecourse ...</td>\n",
       "      <td>Simplilearn\\n\\n\\n\\n\\n\\n\\n\\n\\n\\n\\n\\n\\n\\n\\nCarre...</td>\n",
       "      <td>28.028 visualizações\\n\\n\\n\\n\\n\\n\\n\\n601\\n\\nGos...</td>\n",
       "      <td>https://i.ytimg.com/vi/-5hEYRt8JE0/maxresdefau...</td>\n",
       "      <td>1280.0</td>\n",
       "      <td>720.0</td>\n",
       "      <td>This video on \"How to become a Machine Learnin...</td>\n",
       "      <td>1280.0</td>\n",
       "      <td>720.0</td>\n",
       "      <td>simplilearn</td>\n",
       "      <td>/channel/UCsvqVGtbbyHaMoevxPAq9Fg</td>\n",
       "    </tr>\n",
       "    <tr>\n",
       "      <th>1</th>\n",
       "      <td>BLOOPERS - Behind The Scenes. | DATA SCIENCE x...</td>\n",
       "      <td>0.0</td>\n",
       "      <td>1.131 visualizações</td>\n",
       "      <td>Publicado em 16 de nov. de 2018</td>\n",
       "      <td>Pessoas e blogs</td>\n",
       "      <td>#FAIL #insidezalando\\n\\n\\n\\n    BLOOPERS - Beh...</td>\n",
       "      <td>Inside Zalando\\n\\n\\n\\n\\n\\n\\n\\n\\n\\n\\n\\n\\n\\nCarr...</td>\n",
       "      <td>1.131 visualizações\\n\\n\\n\\n\\n\\n\\n\\n20\\n\\nGosto...</td>\n",
       "      <td>https://i.ytimg.com/vi/-7GiiT0yEyk/maxresdefau...</td>\n",
       "      <td>1280.0</td>\n",
       "      <td>720.0</td>\n",
       "      <td>#FAIL :) Have fun - and join our teams: https:...</td>\n",
       "      <td>1280.0</td>\n",
       "      <td>720.0</td>\n",
       "      <td>employer branding</td>\n",
       "      <td>/channel/UCTPin8TK-KRSI9zo9FoxG0g</td>\n",
       "    </tr>\n",
       "    <tr>\n",
       "      <th>2</th>\n",
       "      <td>Michael I. Jordan: Machine Learning: Dynamical...</td>\n",
       "      <td>1.0</td>\n",
       "      <td>1.816 visualizações</td>\n",
       "      <td>Publicado em 2 de mai. de 2019</td>\n",
       "      <td>Licença de atribuição Creative Commons (reutil...</td>\n",
       "      <td>#purdue #michaelijordan #engineering\\n\\n\\n\\n  ...</td>\n",
       "      <td>Purdue Engineering\\n\\n\\n\\n\\n\\n\\n\\n\\n\\n\\n\\n\\n\\n...</td>\n",
       "      <td>1.816 visualizações\\n\\n\\n\\n\\n\\n\\n\\n42\\n\\nGosto...</td>\n",
       "      <td>https://i.ytimg.com/vi/-8yYFdV5SOc/maxresdefau...</td>\n",
       "      <td>1280.0</td>\n",
       "      <td>720.0</td>\n",
       "      <td>2019 Purdue Engineering Distinguished Lecture ...</td>\n",
       "      <td>1280.0</td>\n",
       "      <td>720.0</td>\n",
       "      <td>electrical engineer</td>\n",
       "      <td>/channel/UC8FZ6dzFVkCACLH9YoMNFog</td>\n",
       "    </tr>\n",
       "    <tr>\n",
       "      <th>3</th>\n",
       "      <td>Best Deep Learning Tools - Welcome.AI</td>\n",
       "      <td>0.0</td>\n",
       "      <td>1.171 visualizações</td>\n",
       "      <td>Publicado em 13 de ago. de 2019</td>\n",
       "      <td>Ciência e tecnologia</td>\n",
       "      <td>Best Deep Learning Tools - Welcome.AI</td>\n",
       "      <td>Welcome.AI\\n\\n\\n\\n\\n\\n\\n\\n\\n\\n\\n\\n\\n\\nCarregan...</td>\n",
       "      <td>1.171 visualizações\\n\\n\\n\\n\\n\\n\\n\\n14\\n\\nGosto...</td>\n",
       "      <td>https://i.ytimg.com/vi/-9LLrwW1Vdo/maxresdefau...</td>\n",
       "      <td>1280.0</td>\n",
       "      <td>720.0</td>\n",
       "      <td>A collection of the 5 best deep learning tools...</td>\n",
       "      <td>1280.0</td>\n",
       "      <td>720.0</td>\n",
       "      <td>Watson</td>\n",
       "      <td>/channel/UC_215Y7rOAsqnFkO_hnpdIg</td>\n",
       "    </tr>\n",
       "    <tr>\n",
       "      <th>4</th>\n",
       "      <td>Kaggle Live-Coding: RNNs for Sarcasm Detection...</td>\n",
       "      <td>1.0</td>\n",
       "      <td>1.228 visualizações</td>\n",
       "      <td>Transmitido ao vivo em 30 de nov. de 2018</td>\n",
       "      <td>Ciência e tecnologia</td>\n",
       "      <td>Kaggle Live-Coding: RNNs for Sarcasm Detection...</td>\n",
       "      <td>Kaggle\\n\\n\\n\\n\\n\\n\\n\\n\\n\\n\\n\\n\\n\\nCarregando.....</td>\n",
       "      <td>1.228 visualizações\\n\\n\\n\\n\\n\\n\\n\\n28\\n\\nGosto...</td>\n",
       "      <td>https://i.ytimg.com/vi/-9U84J178OQ/maxresdefau...</td>\n",
       "      <td>1280.0</td>\n",
       "      <td>720.0</td>\n",
       "      <td>Join Kaggle data scientist Rachael live as she...</td>\n",
       "      <td>1280.0</td>\n",
       "      <td>720.0</td>\n",
       "      <td>CS</td>\n",
       "      <td>/channel/UCSNeZleDn9c74yQc-EKnVTA</td>\n",
       "    </tr>\n",
       "  </tbody>\n",
       "</table>\n",
       "</div>"
      ],
      "text/plain": [
       "                                         watch-title    y  \\\n",
       "0  How to Become A Machine Learning Engineer | Ho...  0.0   \n",
       "1  BLOOPERS - Behind The Scenes. | DATA SCIENCE x...  0.0   \n",
       "2  Michael I. Jordan: Machine Learning: Dynamical...  1.0   \n",
       "3              Best Deep Learning Tools - Welcome.AI  0.0   \n",
       "4  Kaggle Live-Coding: RNNs for Sarcasm Detection...  1.0   \n",
       "\n",
       "       watch-view-count                            watch-time-text  \\\n",
       "0  28.028 visualizações             Publicado em 3 de set. de 2018   \n",
       "1   1.131 visualizações            Publicado em 16 de nov. de 2018   \n",
       "2   1.816 visualizações             Publicado em 2 de mai. de 2019   \n",
       "3   1.171 visualizações            Publicado em 13 de ago. de 2019   \n",
       "4   1.228 visualizações  Transmitido ao vivo em 30 de nov. de 2018   \n",
       "\n",
       "                         content_watch-info-tag-list  \\\n",
       "0                                           Educação   \n",
       "1                                    Pessoas e blogs   \n",
       "2  Licença de atribuição Creative Commons (reutil...   \n",
       "3                               Ciência e tecnologia   \n",
       "4                               Ciência e tecnologia   \n",
       "\n",
       "                                     watch7-headline  \\\n",
       "0  #MachineLearningAlgorithms #Datasciencecourse ...   \n",
       "1  #FAIL #insidezalando\\n\\n\\n\\n    BLOOPERS - Beh...   \n",
       "2  #purdue #michaelijordan #engineering\\n\\n\\n\\n  ...   \n",
       "3              Best Deep Learning Tools - Welcome.AI   \n",
       "4  Kaggle Live-Coding: RNNs for Sarcasm Detection...   \n",
       "\n",
       "                                  watch7-user-header  \\\n",
       "0  Simplilearn\\n\\n\\n\\n\\n\\n\\n\\n\\n\\n\\n\\n\\n\\n\\nCarre...   \n",
       "1  Inside Zalando\\n\\n\\n\\n\\n\\n\\n\\n\\n\\n\\n\\n\\n\\nCarr...   \n",
       "2  Purdue Engineering\\n\\n\\n\\n\\n\\n\\n\\n\\n\\n\\n\\n\\n\\n...   \n",
       "3  Welcome.AI\\n\\n\\n\\n\\n\\n\\n\\n\\n\\n\\n\\n\\n\\nCarregan...   \n",
       "4  Kaggle\\n\\n\\n\\n\\n\\n\\n\\n\\n\\n\\n\\n\\n\\nCarregando.....   \n",
       "\n",
       "                            watch8-sentiment-actions  \\\n",
       "0  28.028 visualizações\\n\\n\\n\\n\\n\\n\\n\\n601\\n\\nGos...   \n",
       "1  1.131 visualizações\\n\\n\\n\\n\\n\\n\\n\\n20\\n\\nGosto...   \n",
       "2  1.816 visualizações\\n\\n\\n\\n\\n\\n\\n\\n42\\n\\nGosto...   \n",
       "3  1.171 visualizações\\n\\n\\n\\n\\n\\n\\n\\n14\\n\\nGosto...   \n",
       "4  1.228 visualizações\\n\\n\\n\\n\\n\\n\\n\\n28\\n\\nGosto...   \n",
       "\n",
       "                                            og:image  og:image:width  \\\n",
       "0  https://i.ytimg.com/vi/-5hEYRt8JE0/maxresdefau...          1280.0   \n",
       "1  https://i.ytimg.com/vi/-7GiiT0yEyk/maxresdefau...          1280.0   \n",
       "2  https://i.ytimg.com/vi/-8yYFdV5SOc/maxresdefau...          1280.0   \n",
       "3  https://i.ytimg.com/vi/-9LLrwW1Vdo/maxresdefau...          1280.0   \n",
       "4  https://i.ytimg.com/vi/-9U84J178OQ/maxresdefau...          1280.0   \n",
       "\n",
       "   og:image:height                                     og:description  \\\n",
       "0            720.0  This video on \"How to become a Machine Learnin...   \n",
       "1            720.0  #FAIL :) Have fun - and join our teams: https:...   \n",
       "2            720.0  2019 Purdue Engineering Distinguished Lecture ...   \n",
       "3            720.0  A collection of the 5 best deep learning tools...   \n",
       "4            720.0  Join Kaggle data scientist Rachael live as she...   \n",
       "\n",
       "   og:video:width  og:video:height         og:video:tag  \\\n",
       "0          1280.0            720.0          simplilearn   \n",
       "1          1280.0            720.0    employer branding   \n",
       "2          1280.0            720.0  electrical engineer   \n",
       "3          1280.0            720.0               Watson   \n",
       "4          1280.0            720.0                   CS   \n",
       "\n",
       "                      channel_link_0  \n",
       "0  /channel/UCsvqVGtbbyHaMoevxPAq9Fg  \n",
       "1  /channel/UCTPin8TK-KRSI9zo9FoxG0g  \n",
       "2  /channel/UC8FZ6dzFVkCACLH9YoMNFog  \n",
       "3  /channel/UC_215Y7rOAsqnFkO_hnpdIg  \n",
       "4  /channel/UCSNeZleDn9c74yQc-EKnVTA  "
      ]
     },
     "execution_count": 3,
     "metadata": {},
     "output_type": "execute_result"
    }
   ],
   "source": [
    "# Pegar somente a linhas cuja coluna Y é nula\n",
    "df = df[df['y'].notnull()]\n",
    "# Exibir as primeiras cinco linhas do dataset dentro do dataframe\n",
    "df.head()"
   ]
  },
  {
   "cell_type": "code",
   "execution_count": 4,
   "metadata": {},
   "outputs": [
    {
     "name": "stdout",
     "output_type": "stream",
     "text": [
      "<class 'pandas.core.frame.DataFrame'>\n",
      "Int64Index: 498 entries, 0 to 500\n",
      "Data columns (total 16 columns):\n",
      " #   Column                       Non-Null Count  Dtype  \n",
      "---  ------                       --------------  -----  \n",
      " 0   watch-title                  498 non-null    object \n",
      " 1   y                            498 non-null    float64\n",
      " 2   watch-view-count             498 non-null    object \n",
      " 3   watch-time-text              498 non-null    object \n",
      " 4   content_watch-info-tag-list  498 non-null    object \n",
      " 5   watch7-headline              498 non-null    object \n",
      " 6   watch7-user-header           498 non-null    object \n",
      " 7   watch8-sentiment-actions     498 non-null    object \n",
      " 8   og:image                     498 non-null    object \n",
      " 9   og:image:width               498 non-null    float64\n",
      " 10  og:image:height              498 non-null    float64\n",
      " 11  og:description               498 non-null    object \n",
      " 12  og:video:width               495 non-null    float64\n",
      " 13  og:video:height              495 non-null    float64\n",
      " 14  og:video:tag                 439 non-null    object \n",
      " 15  channel_link_0               498 non-null    object \n",
      "dtypes: float64(5), object(11)\n",
      "memory usage: 66.1+ KB\n"
     ]
    }
   ],
   "source": [
    "# Exibir quantidade de colunas e linhas, nome, tipo e quantidade do conteudo de cada coluna, memória usada\n",
    "df.info()"
   ]
  },
  {
   "cell_type": "code",
   "execution_count": 5,
   "metadata": {},
   "outputs": [
    {
     "data": {
      "text/html": [
       "<div>\n",
       "<style scoped>\n",
       "    .dataframe tbody tr th:only-of-type {\n",
       "        vertical-align: middle;\n",
       "    }\n",
       "\n",
       "    .dataframe tbody tr th {\n",
       "        vertical-align: top;\n",
       "    }\n",
       "\n",
       "    .dataframe thead th {\n",
       "        text-align: right;\n",
       "    }\n",
       "</style>\n",
       "<table border=\"1\" class=\"dataframe\">\n",
       "  <thead>\n",
       "    <tr style=\"text-align: right;\">\n",
       "      <th></th>\n",
       "      <th>watch-title</th>\n",
       "      <th>y</th>\n",
       "      <th>watch-view-count</th>\n",
       "      <th>watch-time-text</th>\n",
       "      <th>content_watch-info-tag-list</th>\n",
       "      <th>watch7-headline</th>\n",
       "      <th>watch7-user-header</th>\n",
       "      <th>watch8-sentiment-actions</th>\n",
       "      <th>og:image</th>\n",
       "      <th>og:image:width</th>\n",
       "      <th>og:image:height</th>\n",
       "      <th>og:description</th>\n",
       "      <th>og:video:width</th>\n",
       "      <th>og:video:height</th>\n",
       "      <th>og:video:tag</th>\n",
       "      <th>channel_link_0</th>\n",
       "    </tr>\n",
       "  </thead>\n",
       "  <tbody>\n",
       "    <tr>\n",
       "      <th>496</th>\n",
       "      <td>Machine Learning With Python | Machine Learnin...</td>\n",
       "      <td>0.0</td>\n",
       "      <td>170.932 visualizações</td>\n",
       "      <td>Publicado em 1 de mar. de 2018</td>\n",
       "      <td>Educação</td>\n",
       "      <td>Machine Learning With Python | Machine Learnin...</td>\n",
       "      <td>Simplilearn\\n\\n\\n\\n\\n\\n\\n\\n\\n\\n\\n\\n\\n\\n\\nCarre...</td>\n",
       "      <td>170.932 visualizações\\n\\n\\n\\n\\n\\n\\n\\n2.393\\n\\n...</td>\n",
       "      <td>https://i.ytimg.com/vi/Q59X518JZHE/maxresdefau...</td>\n",
       "      <td>1280.0</td>\n",
       "      <td>720.0</td>\n",
       "      <td>This Machine Learning with Python tutorial giv...</td>\n",
       "      <td>1280.0</td>\n",
       "      <td>720.0</td>\n",
       "      <td>simplilearn machine learning</td>\n",
       "      <td>/channel/UCsvqVGtbbyHaMoevxPAq9Fg</td>\n",
       "    </tr>\n",
       "    <tr>\n",
       "      <th>497</th>\n",
       "      <td>MACHINE LEARNING and AUGMENTED REALITY</td>\n",
       "      <td>0.0</td>\n",
       "      <td>69.644 visualizações</td>\n",
       "      <td>Publicado em 31 de mai. de 2018</td>\n",
       "      <td>Ciência e tecnologia</td>\n",
       "      <td>MACHINE LEARNING and AUGMENTED REALITY</td>\n",
       "      <td>MatthewHallberg\\n\\n\\n\\n\\n\\n\\n\\n\\n\\n\\n\\n\\n\\nCar...</td>\n",
       "      <td>69.644 visualizações\\n\\n\\n\\n\\n\\n\\n\\n1.569\\n\\nG...</td>\n",
       "      <td>https://i.ytimg.com/vi/Q6ERFwQNkzo/maxresdefau...</td>\n",
       "      <td>1280.0</td>\n",
       "      <td>720.0</td>\n",
       "      <td>This tutorial is going to go through getting T...</td>\n",
       "      <td>1280.0</td>\n",
       "      <td>720.0</td>\n",
       "      <td>image classification tensorflow tutorial</td>\n",
       "      <td>/channel/UClm2DY6pj3ygKoKhEVr7KFw</td>\n",
       "    </tr>\n",
       "    <tr>\n",
       "      <th>498</th>\n",
       "      <td>Kaggle 대회 시작하기 #1</td>\n",
       "      <td>0.0</td>\n",
       "      <td>470 visualizações</td>\n",
       "      <td>Publicado em 10 de nov. de 2019</td>\n",
       "      <td>Pessoas e blogs</td>\n",
       "      <td>Palos Verdes\\n\\n\\n\\n    Kaggle 대회 시작하기 #1</td>\n",
       "      <td>LA오빠\\n\\n\\n\\n\\n\\n\\n\\n\\n\\n\\n\\n\\n\\nCarregando...\\...</td>\n",
       "      <td>470 visualizações\\n\\n\\n\\n\\n\\n\\n\\n39\\n\\nGostou ...</td>\n",
       "      <td>https://i.ytimg.com/vi/Q71MI-MkGhg/maxresdefau...</td>\n",
       "      <td>1280.0</td>\n",
       "      <td>720.0</td>\n",
       "      <td>LA오남매아빠 #LA오빠 - #즐거운DataScience 오늘은 현재 진행 중인 A...</td>\n",
       "      <td>1280.0</td>\n",
       "      <td>720.0</td>\n",
       "      <td>Ashrae Energy Prediction</td>\n",
       "      <td>/channel/UCjhlZKSIRVvQxlUprmv0bdg</td>\n",
       "    </tr>\n",
       "    <tr>\n",
       "      <th>499</th>\n",
       "      <td>The Netacea Approach | Smarter Bot Management ...</td>\n",
       "      <td>1.0</td>\n",
       "      <td>99.855 visualizações</td>\n",
       "      <td>Publicado em 25 de abr. de 2019</td>\n",
       "      <td>Ciência e tecnologia</td>\n",
       "      <td>The Netacea Approach | Smarter Bot Management ...</td>\n",
       "      <td>Netacea\\n\\n\\n\\n\\n\\n\\n\\n\\n\\n\\n\\n\\n\\nCarregando....</td>\n",
       "      <td>99.855 visualizações\\n\\n\\n\\n\\n\\n\\n\\n14\\n\\nGost...</td>\n",
       "      <td>https://i.ytimg.com/vi/QDh1vq9tVsY/hqdefault.jpg</td>\n",
       "      <td>480.0</td>\n",
       "      <td>360.0</td>\n",
       "      <td>The majority of internet traffic is now made u...</td>\n",
       "      <td>1280.0</td>\n",
       "      <td>720.0</td>\n",
       "      <td>Cyber threats</td>\n",
       "      <td>/channel/UCMLXUedkowSUnn5rSXKUzCQ</td>\n",
       "    </tr>\n",
       "    <tr>\n",
       "      <th>500</th>\n",
       "      <td>Stanford CS224N: NLP with Deep Learning | Wint...</td>\n",
       "      <td>0.0</td>\n",
       "      <td>17.363 visualizações</td>\n",
       "      <td>Publicado em 21 de mar. de 2019</td>\n",
       "      <td>Educação</td>\n",
       "      <td>Stanford CS224N: NLP with Deep Learning | Wint...</td>\n",
       "      <td>stanfordonline\\n\\n\\n\\n\\n\\n\\n\\n\\n\\n\\n\\n\\n\\nCarr...</td>\n",
       "      <td>17.363 visualizações\\n\\n\\n\\n\\n\\n\\n\\n191\\n\\nGos...</td>\n",
       "      <td>https://i.ytimg.com/vi/QEw0qEa0E50/maxresdefau...</td>\n",
       "      <td>1280.0</td>\n",
       "      <td>720.0</td>\n",
       "      <td>Professor Christopher Manning &amp; PhD Candidate ...</td>\n",
       "      <td>1280.0</td>\n",
       "      <td>720.0</td>\n",
       "      <td>NaN</td>\n",
       "      <td>/channel/UCBa5G_ESCn8Yd4vw5U-gIcg</td>\n",
       "    </tr>\n",
       "  </tbody>\n",
       "</table>\n",
       "</div>"
      ],
      "text/plain": [
       "                                           watch-title    y  \\\n",
       "496  Machine Learning With Python | Machine Learnin...  0.0   \n",
       "497             MACHINE LEARNING and AUGMENTED REALITY  0.0   \n",
       "498                                  Kaggle 대회 시작하기 #1  0.0   \n",
       "499  The Netacea Approach | Smarter Bot Management ...  1.0   \n",
       "500  Stanford CS224N: NLP with Deep Learning | Wint...  0.0   \n",
       "\n",
       "          watch-view-count                  watch-time-text  \\\n",
       "496  170.932 visualizações   Publicado em 1 de mar. de 2018   \n",
       "497   69.644 visualizações  Publicado em 31 de mai. de 2018   \n",
       "498      470 visualizações  Publicado em 10 de nov. de 2019   \n",
       "499   99.855 visualizações  Publicado em 25 de abr. de 2019   \n",
       "500   17.363 visualizações  Publicado em 21 de mar. de 2019   \n",
       "\n",
       "    content_watch-info-tag-list  \\\n",
       "496                    Educação   \n",
       "497        Ciência e tecnologia   \n",
       "498             Pessoas e blogs   \n",
       "499        Ciência e tecnologia   \n",
       "500                    Educação   \n",
       "\n",
       "                                       watch7-headline  \\\n",
       "496  Machine Learning With Python | Machine Learnin...   \n",
       "497             MACHINE LEARNING and AUGMENTED REALITY   \n",
       "498          Palos Verdes\\n\\n\\n\\n    Kaggle 대회 시작하기 #1   \n",
       "499  The Netacea Approach | Smarter Bot Management ...   \n",
       "500  Stanford CS224N: NLP with Deep Learning | Wint...   \n",
       "\n",
       "                                    watch7-user-header  \\\n",
       "496  Simplilearn\\n\\n\\n\\n\\n\\n\\n\\n\\n\\n\\n\\n\\n\\n\\nCarre...   \n",
       "497  MatthewHallberg\\n\\n\\n\\n\\n\\n\\n\\n\\n\\n\\n\\n\\n\\nCar...   \n",
       "498  LA오빠\\n\\n\\n\\n\\n\\n\\n\\n\\n\\n\\n\\n\\n\\nCarregando...\\...   \n",
       "499  Netacea\\n\\n\\n\\n\\n\\n\\n\\n\\n\\n\\n\\n\\n\\nCarregando....   \n",
       "500  stanfordonline\\n\\n\\n\\n\\n\\n\\n\\n\\n\\n\\n\\n\\n\\nCarr...   \n",
       "\n",
       "                              watch8-sentiment-actions  \\\n",
       "496  170.932 visualizações\\n\\n\\n\\n\\n\\n\\n\\n2.393\\n\\n...   \n",
       "497  69.644 visualizações\\n\\n\\n\\n\\n\\n\\n\\n1.569\\n\\nG...   \n",
       "498  470 visualizações\\n\\n\\n\\n\\n\\n\\n\\n39\\n\\nGostou ...   \n",
       "499  99.855 visualizações\\n\\n\\n\\n\\n\\n\\n\\n14\\n\\nGost...   \n",
       "500  17.363 visualizações\\n\\n\\n\\n\\n\\n\\n\\n191\\n\\nGos...   \n",
       "\n",
       "                                              og:image  og:image:width  \\\n",
       "496  https://i.ytimg.com/vi/Q59X518JZHE/maxresdefau...          1280.0   \n",
       "497  https://i.ytimg.com/vi/Q6ERFwQNkzo/maxresdefau...          1280.0   \n",
       "498  https://i.ytimg.com/vi/Q71MI-MkGhg/maxresdefau...          1280.0   \n",
       "499   https://i.ytimg.com/vi/QDh1vq9tVsY/hqdefault.jpg           480.0   \n",
       "500  https://i.ytimg.com/vi/QEw0qEa0E50/maxresdefau...          1280.0   \n",
       "\n",
       "     og:image:height                                     og:description  \\\n",
       "496            720.0  This Machine Learning with Python tutorial giv...   \n",
       "497            720.0  This tutorial is going to go through getting T...   \n",
       "498            720.0  LA오남매아빠 #LA오빠 - #즐거운DataScience 오늘은 현재 진행 중인 A...   \n",
       "499            360.0  The majority of internet traffic is now made u...   \n",
       "500            720.0  Professor Christopher Manning & PhD Candidate ...   \n",
       "\n",
       "     og:video:width  og:video:height  \\\n",
       "496          1280.0            720.0   \n",
       "497          1280.0            720.0   \n",
       "498          1280.0            720.0   \n",
       "499          1280.0            720.0   \n",
       "500          1280.0            720.0   \n",
       "\n",
       "                                 og:video:tag  \\\n",
       "496              simplilearn machine learning   \n",
       "497  image classification tensorflow tutorial   \n",
       "498                  Ashrae Energy Prediction   \n",
       "499                             Cyber threats   \n",
       "500                                       NaN   \n",
       "\n",
       "                        channel_link_0  \n",
       "496  /channel/UCsvqVGtbbyHaMoevxPAq9Fg  \n",
       "497  /channel/UClm2DY6pj3ygKoKhEVr7KFw  \n",
       "498  /channel/UCjhlZKSIRVvQxlUprmv0bdg  \n",
       "499  /channel/UCMLXUedkowSUnn5rSXKUzCQ  \n",
       "500  /channel/UCBa5G_ESCn8Yd4vw5U-gIcg  "
      ]
     },
     "execution_count": 5,
     "metadata": {},
     "output_type": "execute_result"
    }
   ],
   "source": [
    "# Exibir as últimos 5 linhas\n",
    "df.tail()"
   ]
  },
  {
   "cell_type": "markdown",
   "metadata": {},
   "source": [
    "### Limpar os dados"
   ]
  },
  {
   "cell_type": "code",
   "execution_count": 6,
   "metadata": {},
   "outputs": [],
   "source": [
    "# Criar um dataframe apenas com indices iguais ao dataframe principal com os vídeos\n",
    "# Este servirá para popularmos com as colunas limpas e tratadas\n",
    "df_limpo = pd.DataFrame(index=df.index)"
   ]
  },
  {
   "cell_type": "code",
   "execution_count": 7,
   "metadata": {},
   "outputs": [],
   "source": [
    "# Extrair a descrição dos títulos\n",
    "df_limpo['title'] = df['watch-title']"
   ]
  },
  {
   "cell_type": "markdown",
   "metadata": {},
   "source": [
    "##### EXTRAIR APENAS A DATA DE UMA COLUNA"
   ]
  },
  {
   "cell_type": "code",
   "execution_count": 8,
   "metadata": {},
   "outputs": [],
   "source": [
    "# Extrair os numeros que representam data de publicação ' dia (numero), mes (string) e ano (numero)'\n",
    "clean_date = df['watch-time-text'].str.extract(r\"(\\d+) de ([a-z]+)\\. de (\\d+)\")\n",
    "# Incluir zero à frente do numero abaixo de 10 que representa do dia \n",
    "clean_date[0] = clean_date[0].map(lambda x: \"0\"+x[0] if len(x) == 1 else x)"
   ]
  },
  {
   "cell_type": "code",
   "execution_count": 9,
   "metadata": {},
   "outputs": [],
   "source": [
    "# Transformar mes que esta portugues para mes em inglês\n",
    "mapa_meses = {\"jan\": \"Jan\",\n",
    "              \"fev\": \"Feb\",\n",
    "              \"mar\": \"Mar\", \n",
    "              \"abr\": \"Apr\", \n",
    "              \"mai\": \"May\", \n",
    "              \"jun\": \"Jun\",\n",
    "              \"jul\": \"Jul\",\n",
    "              \"ago\": \"Aug\", \n",
    "              \"set\": \"Sep\", \n",
    "              \"out\": \"Oct\", \n",
    "              \"nov\": \"Nov\",\n",
    "              \"dez\": \"Dec\"}\n",
    "# Transforma os meses\n",
    "clean_date[1] = clean_date[1].map(mapa_meses)"
   ]
  },
  {
   "cell_type": "code",
   "execution_count": 10,
   "metadata": {},
   "outputs": [],
   "source": [
    "# Unir numeros que representam data ' dia (numero), mes (string) e ano (numero)'\n",
    "clean_date = clean_date.apply(lambda x: \" \".join(x), axis=1)"
   ]
  },
  {
   "cell_type": "code",
   "execution_count": 11,
   "metadata": {},
   "outputs": [],
   "source": [
    "# Converter para data os dados extraidos em clean_date e gravar no campo date criado no dataframe df_limpo\n",
    "df_limpo['date'] = pd.to_datetime(clean_date, format=\"%d %b %Y\")"
   ]
  },
  {
   "cell_type": "markdown",
   "metadata": {},
   "source": [
    "##### EXTRAIR APENAS O NÚMERO DE UMA COLUNA"
   ]
  },
  {
   "cell_type": "code",
   "execution_count": 12,
   "metadata": {},
   "outputs": [],
   "source": [
    "# Extrair apenas o número, eliminar o ponto que esta no numero, eliminar o tipo nan da coluna e converter\n",
    "# todo o conteudo para o tipo integer\n",
    "# expand=False faz o pandas retornar apenas série ao invés de dataframe\n",
    "views = df['watch-view-count'].str.extract(r\"(\\d+\\.?\\d*)\", expand=False).str.replace(\".\", \"\").fillna(0).astype(int)\n",
    "# Criar coluna views no dataframe df_limpo e popular com os novos dados numéricos\n",
    "df_limpo['views'] = views"
   ]
  },
  {
   "cell_type": "markdown",
   "metadata": {},
   "source": [
    "##### APLICAR FEATURES"
   ]
  },
  {
   "cell_type": "code",
   "execution_count": 13,
   "metadata": {},
   "outputs": [],
   "source": [
    "# Bibliotecas com métodos, formulas, rotinas para agilizar desenvolvimento\n",
    "import numpy as np"
   ]
  },
  {
   "cell_type": "code",
   "execution_count": 14,
   "metadata": {},
   "outputs": [],
   "source": [
    "# Criar um dataframe apenas com indices iguais ao dataframe com alguns dados limpos\n",
    "# Este servirá para aplicarmos alguns tratamentos específicos\n",
    "features = pd.DataFrame(index=df_limpo.index)"
   ]
  },
  {
   "cell_type": "code",
   "execution_count": 15,
   "metadata": {},
   "outputs": [],
   "source": [
    "# Subtrair da data da publicação do vídeo uma data fixa posterior, como parâmetro fixo, depois\n",
    "# converter para uma estrutura série de float timedelta64 do numpy\n",
    "features['tempo_desde_pub'] = (pd.to_datetime(\"2019-12-03\") - df_limpo['date']) / np.timedelta64(1, 'D')\n",
    "# Apenas copiar os dados da coluna views, não precisam de tratamento\n",
    "features['views'] = df_limpo['views']\n",
    "# Dividir o tempo de publicação do vídeo pela quantidade de views e gravar na nova coluna views_por_dia\n",
    "# para ter uma quantidade acumulada aproximada de views por dia\n",
    "features['views_por_dia'] = features['views'] / features['tempo_desde_pub']\n",
    "# Apagar a coluna tempo_desde_pub, para exibir melhor as informações em gráfico\n",
    "features = features.drop(['tempo_desde_pub'], axis=1)"
   ]
  },
  {
   "cell_type": "code",
   "execution_count": 16,
   "metadata": {},
   "outputs": [
    {
     "data": {
      "text/html": [
       "<div>\n",
       "<style scoped>\n",
       "    .dataframe tbody tr th:only-of-type {\n",
       "        vertical-align: middle;\n",
       "    }\n",
       "\n",
       "    .dataframe tbody tr th {\n",
       "        vertical-align: top;\n",
       "    }\n",
       "\n",
       "    .dataframe thead th {\n",
       "        text-align: right;\n",
       "    }\n",
       "</style>\n",
       "<table border=\"1\" class=\"dataframe\">\n",
       "  <thead>\n",
       "    <tr style=\"text-align: right;\">\n",
       "      <th></th>\n",
       "      <th>views</th>\n",
       "      <th>views_por_dia</th>\n",
       "    </tr>\n",
       "  </thead>\n",
       "  <tbody>\n",
       "    <tr>\n",
       "      <th>0</th>\n",
       "      <td>28028</td>\n",
       "      <td>61.464912</td>\n",
       "    </tr>\n",
       "    <tr>\n",
       "      <th>1</th>\n",
       "      <td>1131</td>\n",
       "      <td>2.960733</td>\n",
       "    </tr>\n",
       "    <tr>\n",
       "      <th>2</th>\n",
       "      <td>1816</td>\n",
       "      <td>8.446512</td>\n",
       "    </tr>\n",
       "    <tr>\n",
       "      <th>3</th>\n",
       "      <td>1171</td>\n",
       "      <td>10.455357</td>\n",
       "    </tr>\n",
       "    <tr>\n",
       "      <th>4</th>\n",
       "      <td>1228</td>\n",
       "      <td>3.336957</td>\n",
       "    </tr>\n",
       "  </tbody>\n",
       "</table>\n",
       "</div>"
      ],
      "text/plain": [
       "   views  views_por_dia\n",
       "0  28028      61.464912\n",
       "1   1131       2.960733\n",
       "2   1816       8.446512\n",
       "3   1171      10.455357\n",
       "4   1228       3.336957"
      ]
     },
     "execution_count": 16,
     "metadata": {},
     "output_type": "execute_result"
    }
   ],
   "source": [
    "# Exibir as primeiras cinco linhas do dataset dentro do dataframe\n",
    "features.head()"
   ]
  },
  {
   "cell_type": "code",
   "execution_count": 17,
   "metadata": {},
   "outputs": [],
   "source": [
    "# Copiar conteúdo da coluna y do dataframe principal na variável y\n",
    "y = df['y'].copy()"
   ]
  },
  {
   "cell_type": "markdown",
   "metadata": {},
   "source": [
    "#### TREINAR MODELO MACHINE LEARNING"
   ]
  },
  {
   "cell_type": "code",
   "execution_count": 18,
   "metadata": {},
   "outputs": [],
   "source": [
    "# Separar dados para treino e dados para teste - Aplicar validação temporal por ser uma time series\n",
    "# Foi separado aproximadamente 50% para dados de treino e 50% para dados de teste ao invés de utilizar\n",
    "# o recurso de percentual das funções de separação\n",
    "# Com estas duas features é possível analisar a influência sobre preferência de gosto sobre um\n",
    "# vídeo, como indicam o efeito à predição de gostar ou não do vídeo\n",
    "mask_train = df_limpo['date'] < \"2019-04-01\"\n",
    "mask_val = df_limpo['date'] >= \"2019-04-01\"\n",
    "Xtrain, Xval = features[mask_train], features[mask_val]\n",
    "ytrain, yval = y[mask_train], y[mask_val]"
   ]
  },
  {
   "cell_type": "code",
   "execution_count": 19,
   "metadata": {},
   "outputs": [
    {
     "data": {
      "text/plain": [
       "((228, 2), (270, 2), (228,), (270,))"
      ]
     },
     "execution_count": 19,
     "metadata": {},
     "output_type": "execute_result"
    }
   ],
   "source": [
    "# Exibir a quantidade de vídeos separados para treino e teste\n",
    "Xtrain.shape, Xval.shape, ytrain.shape, yval.shape"
   ]
  },
  {
   "cell_type": "markdown",
   "metadata": {},
   "source": [
    "#### TRANSFORMAR STRINGS EM REPRESENTAÇÃO DE NÚMEROS - SPARSE MATRIX"
   ]
  },
  {
   "cell_type": "code",
   "execution_count": 20,
   "metadata": {},
   "outputs": [],
   "source": [
    "# Bibliotecas com métodos, formulas, rotinas para agilizar desenvolvimento\n",
    "from sklearn.feature_extraction.text import TfidfVectorizer"
   ]
  },
  {
   "cell_type": "code",
   "execution_count": 21,
   "metadata": {},
   "outputs": [],
   "source": [
    "# Separar as descrições dos titulos para treino e teste\n",
    "title_train = df_limpo[mask_train]['title']\n",
    "title_val = df_limpo[mask_val]['title']"
   ]
  },
  {
   "cell_type": "code",
   "execution_count": 22,
   "metadata": {},
   "outputs": [],
   "source": [
    "# Instanciar o objeto com seu min_df=2. Este é o número mínimo que uma palavra precisa aparecer para se \n",
    "# tornar uma coluna. Se min_df=1 gera 742 colunas, igual a 2 gera 193 colunas por que a maior parte das \n",
    "# palavras so aparece em um vídeo\n",
    "title_vec = TfidfVectorizer(min_df=2)\n",
    "#Transformar textos dos vídeos que estão na coluna watch-title em uma representação significante de números\n",
    "# fit_transform armazena as palavras que detectou e armazena a frequencia de vezes que as detectou\n",
    "# no dataset, para multiplicar na fórmula do Tfidf\n",
    "# Bag of words em uma sparse matrix\n",
    "title_bow_train = title_vec.fit_transform(title_train)\n",
    "# Transformar com base nas palavras que aprendeu utilizando o dataset de treino\n",
    "title_bow_val = title_vec.transform(title_val)"
   ]
  },
  {
   "cell_type": "code",
   "execution_count": 23,
   "metadata": {},
   "outputs": [
    {
     "data": {
      "text/plain": [
       "(228, 193)"
      ]
     },
     "execution_count": 23,
     "metadata": {},
     "output_type": "execute_result"
    }
   ],
   "source": [
    "# Exibir a forma do dataset treinado : 228 linhas, 193 colunas\n",
    "title_bow_train.shape"
   ]
  },
  {
   "cell_type": "code",
   "execution_count": 24,
   "metadata": {},
   "outputs": [
    {
     "data": {
      "text/plain": [
       "<228x193 sparse matrix of type '<class 'numpy.float64'>'\n",
       "\twith 1277 stored elements in Compressed Sparse Row format>"
      ]
     },
     "execution_count": 24,
     "metadata": {},
     "output_type": "execute_result"
    }
   ],
   "source": [
    "# O método fit_transform() criou uma sparse matrix com os títulos dos vídeos\n",
    "# Para saber que esta utilizando os objetos scipy : type(title_bow_train)\n",
    "title_bow_train"
   ]
  },
  {
   "cell_type": "code",
   "execution_count": 25,
   "metadata": {},
   "outputs": [
    {
     "data": {
      "text/plain": [
       "0.9709799109171894"
      ]
     },
     "execution_count": 25,
     "metadata": {},
     "output_type": "execute_result"
    }
   ],
   "source": [
    "# Análise rápida : se fosse para armazenar todos os elementos em memória seriam 44004 = (228*193)\n",
    "# Com sparse matrix são armazenados 2,90% destes elementos, isto é, 97,10% são elementos 0\n",
    "1-1277/(228*193)"
   ]
  },
  {
   "cell_type": "code",
   "execution_count": 26,
   "metadata": {},
   "outputs": [],
   "source": [
    "# Bibliotecas com métodos, formulas, rotinas para agilizar desenvolvimento\n",
    "from scipy.sparse import hstack, vstack"
   ]
  },
  {
   "cell_type": "code",
   "execution_count": 27,
   "metadata": {},
   "outputs": [],
   "source": [
    "# Concatenar variáveis com dados numéricos com variáveis com dados de texto\n",
    "# 228 * 193 matriz sparsa e x 228 * 2 features numericas a dimensao depois de juntas vao para 195 colunas\n",
    "Xtrain_wtitle = hstack([Xtrain, title_bow_train])\n",
    "Xval_wtitle = hstack([Xval, title_bow_val])"
   ]
  },
  {
   "cell_type": "markdown",
   "metadata": {},
   "source": [
    "##### EXPLICAÇÃO CONCATENAÇÃO\n",
    "##### horizontalmente\n",
    "hstack - [1 2]     [3 4]   -> [1 2 3 4] - 1x4\n",
    "##### verticalmente\n",
    "vstack - [1 2]     [3 4]   -> [1 2]\n",
    "                              [3 4] - 2x2"
   ]
  },
  {
   "cell_type": "code",
   "execution_count": 28,
   "metadata": {},
   "outputs": [
    {
     "data": {
      "text/plain": [
       "((228, 195), (270, 195))"
      ]
     },
     "execution_count": 28,
     "metadata": {},
     "output_type": "execute_result"
    }
   ],
   "source": [
    "# Exibir a nova forma \n",
    "Xtrain_wtitle.shape, Xval_wtitle.shape"
   ]
  },
  {
   "cell_type": "code",
   "execution_count": 29,
   "metadata": {},
   "outputs": [],
   "source": [
    "# Bibliotecas com métodos, formulas, rotinas para agilizar desenvolvimento\n",
    "from sklearn.ensemble import RandomForestClassifier"
   ]
  },
  {
   "cell_type": "code",
   "execution_count": 30,
   "metadata": {},
   "outputs": [],
   "source": [
    "# Instânciar o objeto RandomForestClassifier : 1000 arvores,class_weight=balancear o entre as variáveis \n",
    "# train e test\n",
    "mdl = RandomForestClassifier(n_estimators=1000, random_state=0, class_weight=\"balanced\", n_jobs=6)"
   ]
  },
  {
   "cell_type": "code",
   "execution_count": 31,
   "metadata": {},
   "outputs": [
    {
     "data": {
      "text/plain": [
       "RandomForestClassifier(class_weight='balanced', n_estimators=1000, n_jobs=6,\n",
       "                       random_state=0)"
      ]
     },
     "execution_count": 31,
     "metadata": {},
     "output_type": "execute_result"
    }
   ],
   "source": [
    "# Treinar o algoritmo RandomForestClassifier\n",
    "mdl.fit(Xtrain_wtitle, ytrain)"
   ]
  },
  {
   "cell_type": "code",
   "execution_count": 32,
   "metadata": {},
   "outputs": [],
   "source": [
    "# Probabilidade de acerto da predição\n",
    "p = mdl.predict_proba(Xval_wtitle)[:, 1]"
   ]
  },
  {
   "cell_type": "code",
   "execution_count": 33,
   "metadata": {},
   "outputs": [],
   "source": [
    "# Bibliotecas com métodos, formulas, rotinas para agilizar desenvolvimento\n",
    "from sklearn.metrics import roc_auc_score, average_precision_score"
   ]
  },
  {
   "cell_type": "code",
   "execution_count": 34,
   "metadata": {},
   "outputs": [
    {
     "data": {
      "text/plain": [
       "0.19493368357443233"
      ]
     },
     "execution_count": 34,
     "metadata": {},
     "output_type": "execute_result"
    }
   ],
   "source": [
    "# Analisar a precisão da predição do dataset de test. Este melhor que o modelo 1 cuja nossa baseline com\n",
    "# o modelo DecisionTreeClassifier era 0.148087\n",
    "average_precision_score(yval, p)"
   ]
  },
  {
   "cell_type": "code",
   "execution_count": 35,
   "metadata": {},
   "outputs": [
    {
     "data": {
      "text/plain": [
       "0.59580547112462"
      ]
     },
     "execution_count": 35,
     "metadata": {},
     "output_type": "execute_result"
    }
   ],
   "source": [
    "# Curva AUC ROC esta melhor que o modelo 1 cuja nossa baseline com o modelo DecisionTreeClassifier \n",
    "# era 0.57051\n",
    "roc_auc_score(yval, p)"
   ]
  },
  {
   "cell_type": "markdown",
   "metadata": {},
   "source": [
    "#### Experimentos com a RandomForestClassifier\n",
    "auc variando muito : ap 0.17683995211083103, auc 0.6036474164133738 - mindf=1<br>\n",
    "mais simples com chance de overfit menor : ap 0.1918043901336543, auc 0.5848024316109421 - mindf=2"
   ]
  },
  {
   "cell_type": "markdown",
   "metadata": {},
   "source": [
    "### ACTIVE LEARNING\n",
    "#### Active learning nos ajuda a selecionar exemplos em dataset para ter um modelo com uma melhor performance"
   ]
  },
  {
   "cell_type": "code",
   "execution_count": 36,
   "metadata": {},
   "outputs": [],
   "source": [
    "# Abrir o arquivo .csv\n",
    "df_unlabeled = pd.read_csv(\"raw_data_with_labels.csv\", index_col=0)"
   ]
  },
  {
   "cell_type": "code",
   "execution_count": 37,
   "metadata": {},
   "outputs": [],
   "source": [
    "# Selecinar todos as linhas da coluna y que são nulas e apagar as linhas que retornan 'nan'\n",
    "df_unlabeled = df_unlabeled[df_unlabeled['y'].isnull()].dropna(how='all')"
   ]
  },
  {
   "cell_type": "code",
   "execution_count": 38,
   "metadata": {},
   "outputs": [
    {
     "data": {
      "text/plain": [
       "(674, 16)"
      ]
     },
     "execution_count": 38,
     "metadata": {},
     "output_type": "execute_result"
    }
   ],
   "source": [
    "# Exibir a forma do dataframe\n",
    "df_unlabeled.shape"
   ]
  },
  {
   "cell_type": "code",
   "execution_count": 39,
   "metadata": {},
   "outputs": [
    {
     "name": "stdout",
     "output_type": "stream",
     "text": [
      "<class 'pandas.core.frame.DataFrame'>\n",
      "Int64Index: 498 entries, 0 to 500\n",
      "Data columns (total 16 columns):\n",
      " #   Column                       Non-Null Count  Dtype  \n",
      "---  ------                       --------------  -----  \n",
      " 0   watch-title                  498 non-null    object \n",
      " 1   y                            498 non-null    float64\n",
      " 2   watch-view-count             498 non-null    object \n",
      " 3   watch-time-text              498 non-null    object \n",
      " 4   content_watch-info-tag-list  498 non-null    object \n",
      " 5   watch7-headline              498 non-null    object \n",
      " 6   watch7-user-header           498 non-null    object \n",
      " 7   watch8-sentiment-actions     498 non-null    object \n",
      " 8   og:image                     498 non-null    object \n",
      " 9   og:image:width               498 non-null    float64\n",
      " 10  og:image:height              498 non-null    float64\n",
      " 11  og:description               498 non-null    object \n",
      " 12  og:video:width               495 non-null    float64\n",
      " 13  og:video:height              495 non-null    float64\n",
      " 14  og:video:tag                 439 non-null    object \n",
      " 15  channel_link_0               498 non-null    object \n",
      "dtypes: float64(5), object(11)\n",
      "memory usage: 66.1+ KB\n"
     ]
    }
   ],
   "source": [
    "# Exibir quantidade de colunas e linhas, nome, tipo e quantidade do conteudo de cada coluna, memória usada\n",
    "df.info()"
   ]
  },
  {
   "cell_type": "code",
   "execution_count": 40,
   "metadata": {},
   "outputs": [
    {
     "data": {
      "text/html": [
       "<div>\n",
       "<style scoped>\n",
       "    .dataframe tbody tr th:only-of-type {\n",
       "        vertical-align: middle;\n",
       "    }\n",
       "\n",
       "    .dataframe tbody tr th {\n",
       "        vertical-align: top;\n",
       "    }\n",
       "\n",
       "    .dataframe thead th {\n",
       "        text-align: right;\n",
       "    }\n",
       "</style>\n",
       "<table border=\"1\" class=\"dataframe\">\n",
       "  <thead>\n",
       "    <tr style=\"text-align: right;\">\n",
       "      <th></th>\n",
       "      <th>watch-title</th>\n",
       "      <th>y</th>\n",
       "      <th>watch-view-count</th>\n",
       "      <th>watch-time-text</th>\n",
       "      <th>content_watch-info-tag-list</th>\n",
       "      <th>watch7-headline</th>\n",
       "      <th>watch7-user-header</th>\n",
       "      <th>watch8-sentiment-actions</th>\n",
       "      <th>og:image</th>\n",
       "      <th>og:image:width</th>\n",
       "      <th>og:image:height</th>\n",
       "      <th>og:description</th>\n",
       "      <th>og:video:width</th>\n",
       "      <th>og:video:height</th>\n",
       "      <th>og:video:tag</th>\n",
       "      <th>channel_link_0</th>\n",
       "    </tr>\n",
       "  </thead>\n",
       "  <tbody>\n",
       "    <tr>\n",
       "      <th>501</th>\n",
       "      <td>Kaggle Mercari Price Suggestion Challenge (1 p...</td>\n",
       "      <td>NaN</td>\n",
       "      <td>2.167 visualizações</td>\n",
       "      <td>Publicado em 2 de nov. de 2018</td>\n",
       "      <td>Educação</td>\n",
       "      <td>Kaggle Mercari Price Suggestion Challenge (1 p...</td>\n",
       "      <td>ML Trainings\\n\\n\\n\\n\\n\\n\\n\\n\\n\\n\\n\\n\\n\\nCarreg...</td>\n",
       "      <td>2.167 visualizações\\n\\n\\n\\n\\n\\n\\n\\n61\\n\\nGosto...</td>\n",
       "      <td>https://i.ytimg.com/vi/QFR0IHbzA30/maxresdefau...</td>\n",
       "      <td>1280.0</td>\n",
       "      <td>720.0</td>\n",
       "      <td>Pawel Jankiewicz and Konstantin Lopuhin share ...</td>\n",
       "      <td>1280.0</td>\n",
       "      <td>720.0</td>\n",
       "      <td>price suggestion</td>\n",
       "      <td>/channel/UCeq6ZIlvC9SVsfhfKnSvM9w</td>\n",
       "    </tr>\n",
       "  </tbody>\n",
       "</table>\n",
       "</div>"
      ],
      "text/plain": [
       "                                           watch-title   y  \\\n",
       "501  Kaggle Mercari Price Suggestion Challenge (1 p... NaN   \n",
       "\n",
       "        watch-view-count                 watch-time-text  \\\n",
       "501  2.167 visualizações  Publicado em 2 de nov. de 2018   \n",
       "\n",
       "    content_watch-info-tag-list  \\\n",
       "501                    Educação   \n",
       "\n",
       "                                       watch7-headline  \\\n",
       "501  Kaggle Mercari Price Suggestion Challenge (1 p...   \n",
       "\n",
       "                                    watch7-user-header  \\\n",
       "501  ML Trainings\\n\\n\\n\\n\\n\\n\\n\\n\\n\\n\\n\\n\\n\\nCarreg...   \n",
       "\n",
       "                              watch8-sentiment-actions  \\\n",
       "501  2.167 visualizações\\n\\n\\n\\n\\n\\n\\n\\n61\\n\\nGosto...   \n",
       "\n",
       "                                              og:image  og:image:width  \\\n",
       "501  https://i.ytimg.com/vi/QFR0IHbzA30/maxresdefau...          1280.0   \n",
       "\n",
       "     og:image:height                                     og:description  \\\n",
       "501            720.0  Pawel Jankiewicz and Konstantin Lopuhin share ...   \n",
       "\n",
       "     og:video:width  og:video:height      og:video:tag  \\\n",
       "501          1280.0            720.0  price suggestion   \n",
       "\n",
       "                        channel_link_0  \n",
       "501  /channel/UCeq6ZIlvC9SVsfhfKnSvM9w  "
      ]
     },
     "execution_count": 40,
     "metadata": {},
     "output_type": "execute_result"
    }
   ],
   "source": [
    "# Exibir uma linha do dataset dentro do dataframe\n",
    "df_unlabeled.head(1)"
   ]
  },
  {
   "cell_type": "markdown",
   "metadata": {},
   "source": [
    "### Limpar os dados"
   ]
  },
  {
   "cell_type": "code",
   "execution_count": 42,
   "metadata": {},
   "outputs": [],
   "source": [
    "# Criar um dataframe apenas com indices iguais ao dataframe unlabeled\n",
    "# Este servirá para popularmos com as colunas limpas e tratadas df_limpo_u = limpo unlabeled\n",
    "df_limpo_u = pd.DataFrame(index=df_unlabeled.index)"
   ]
  },
  {
   "cell_type": "code",
   "execution_count": 43,
   "metadata": {},
   "outputs": [],
   "source": [
    "# Extrair a descrição dos títulos\n",
    "df_limpo_u['title'] = df_unlabeled['watch-title']"
   ]
  },
  {
   "cell_type": "markdown",
   "metadata": {},
   "source": [
    "##### EXTRAIR APENAS A DATA DE UMA COLUNA"
   ]
  },
  {
   "cell_type": "code",
   "execution_count": 44,
   "metadata": {},
   "outputs": [],
   "source": [
    "# Extrair os numeros que representam data de publicação ' dia (numero), mes (string) e ano (numero)'\n",
    "clean_date = df_unlabeled['watch-time-text'].str.extract(r\"(\\d+) de ([a-z]+)\\. de (\\d+)\")\n",
    "# Incluir zero à frente do numero abaixo de 10 que representa do dia \n",
    "clean_date[0] = clean_date[0].map(lambda x: \"0\"+x[0] if len(x) == 1 else x)"
   ]
  },
  {
   "cell_type": "code",
   "execution_count": 45,
   "metadata": {},
   "outputs": [],
   "source": [
    "# Transformar mes que esta portugues para mes em inglês\n",
    "mapa_meses = {\"jan\": \"Jan\",\n",
    "              \"fev\": \"Feb\",\n",
    "              \"mar\": \"Mar\", \n",
    "              \"abr\": \"Apr\", \n",
    "              \"mai\": \"May\", \n",
    "              \"jun\": \"Jun\",\n",
    "              \"jul\": \"Jul\",\n",
    "              \"ago\": \"Aug\", \n",
    "              \"set\": \"Sep\", \n",
    "              \"out\": \"Oct\", \n",
    "              \"nov\": \"Nov\",\n",
    "              \"dez\": \"Dec\"}\n",
    "# Transforma os meses\n",
    "clean_date[1] = clean_date[1].map(mapa_meses)"
   ]
  },
  {
   "cell_type": "code",
   "execution_count": 46,
   "metadata": {},
   "outputs": [],
   "source": [
    "# Unir numeros que representam data ' dia (numero), mes (string) e ano (numero)'\n",
    "clean_date = clean_date.apply(lambda x: \" \".join(x), axis=1)"
   ]
  },
  {
   "cell_type": "code",
   "execution_count": 47,
   "metadata": {},
   "outputs": [
    {
     "data": {
      "text/plain": [
       "501    02 Nov 2018\n",
       "502    14 Oct 2018\n",
       "503    17 Dec 2018\n",
       "504    23 Nov 2019\n",
       "505    21 May 2019\n",
       "dtype: object"
      ]
     },
     "execution_count": 47,
     "metadata": {},
     "output_type": "execute_result"
    }
   ],
   "source": [
    "# Exibir os primeiros cinco registros/linhas do dataset dentro do dataframe\n",
    "clean_date.head()"
   ]
  },
  {
   "cell_type": "code",
   "execution_count": 48,
   "metadata": {},
   "outputs": [],
   "source": [
    "# Converter para data os dados extraidos em clean_date e gravar no campo date criado no dataframe df_limpo\n",
    "df_limpo_u['date'] = pd.to_datetime(clean_date, format=\"%d %b %Y\")"
   ]
  },
  {
   "cell_type": "code",
   "execution_count": 49,
   "metadata": {},
   "outputs": [
    {
     "data": {
      "text/html": [
       "<div>\n",
       "<style scoped>\n",
       "    .dataframe tbody tr th:only-of-type {\n",
       "        vertical-align: middle;\n",
       "    }\n",
       "\n",
       "    .dataframe tbody tr th {\n",
       "        vertical-align: top;\n",
       "    }\n",
       "\n",
       "    .dataframe thead th {\n",
       "        text-align: right;\n",
       "    }\n",
       "</style>\n",
       "<table border=\"1\" class=\"dataframe\">\n",
       "  <thead>\n",
       "    <tr style=\"text-align: right;\">\n",
       "      <th></th>\n",
       "      <th>title</th>\n",
       "      <th>date</th>\n",
       "    </tr>\n",
       "  </thead>\n",
       "  <tbody>\n",
       "    <tr>\n",
       "      <th>501</th>\n",
       "      <td>Kaggle Mercari Price Suggestion Challenge (1 p...</td>\n",
       "      <td>2018-11-02</td>\n",
       "    </tr>\n",
       "    <tr>\n",
       "      <th>502</th>\n",
       "      <td>OpenAI Gym and Python for Q-learning - Reinfor...</td>\n",
       "      <td>2018-10-14</td>\n",
       "    </tr>\n",
       "    <tr>\n",
       "      <th>503</th>\n",
       "      <td>Dashboarding with Notebooks, Day 1: What infor...</td>\n",
       "      <td>2018-12-17</td>\n",
       "    </tr>\n",
       "    <tr>\n",
       "      <th>504</th>\n",
       "      <td>How To Get US- American Company H1 Visa To Get...</td>\n",
       "      <td>2019-11-23</td>\n",
       "    </tr>\n",
       "    <tr>\n",
       "      <th>505</th>\n",
       "      <td>Platform Overview - Machine Learning</td>\n",
       "      <td>2019-05-21</td>\n",
       "    </tr>\n",
       "  </tbody>\n",
       "</table>\n",
       "</div>"
      ],
      "text/plain": [
       "                                                 title       date\n",
       "501  Kaggle Mercari Price Suggestion Challenge (1 p... 2018-11-02\n",
       "502  OpenAI Gym and Python for Q-learning - Reinfor... 2018-10-14\n",
       "503  Dashboarding with Notebooks, Day 1: What infor... 2018-12-17\n",
       "504  How To Get US- American Company H1 Visa To Get... 2019-11-23\n",
       "505               Platform Overview - Machine Learning 2019-05-21"
      ]
     },
     "execution_count": 49,
     "metadata": {},
     "output_type": "execute_result"
    }
   ],
   "source": [
    "# Exibir os primeiros cinco registros/linhas do dataset dentro do dataframe\n",
    "df_limpo_u.head()"
   ]
  },
  {
   "cell_type": "markdown",
   "metadata": {},
   "source": [
    "##### EXTRAIR APENAS O NÚMERO DE UMA COLUNA"
   ]
  },
  {
   "cell_type": "code",
   "execution_count": 50,
   "metadata": {},
   "outputs": [],
   "source": [
    "# Extrair apenas o número, eliminar o ponto que esta no numero, eliminar o tipo nan da coluna e converter\n",
    "# todo o conteudo para o tipo integer\n",
    "# expand=False faz o pandas retornar apenas série ao invés de dataframe\n",
    "views = df_unlabeled['watch-view-count'].str.extract(r\"(\\d+\\.?\\d*)\", expand=False).str.replace(\".\", \"\").fillna(0).astype(int)\n",
    "# Criar coluna views no dataframe df_limpo e popular com os novos dados numéricos\n",
    "df_limpo_u['views'] = views"
   ]
  },
  {
   "cell_type": "markdown",
   "metadata": {},
   "source": [
    "##### APLICAR FEATURES"
   ]
  },
  {
   "cell_type": "code",
   "execution_count": 52,
   "metadata": {},
   "outputs": [],
   "source": [
    "# Bibliotecas com métodos, formulas, rotinas para agilizar desenvolvimento\n",
    "import numpy as np"
   ]
  },
  {
   "cell_type": "code",
   "execution_count": 53,
   "metadata": {},
   "outputs": [],
   "source": [
    "# Criar um dataframe apenas com indices iguais ao dataframe com alguns dados limpos\n",
    "# Este servirá para aplicarmos alguns tratamentos específicos\n",
    "features_u = pd.DataFrame(index=df_limpo_u.index)"
   ]
  },
  {
   "cell_type": "code",
   "execution_count": 54,
   "metadata": {},
   "outputs": [],
   "source": [
    "# Subtrair da data da publicação do vídeo uma data fixa posterior, como parâmetro fixo, depois\n",
    "# converter para uma estrutura série de float timedelta64 do numpy\n",
    "features_u['tempo_desde_pub'] = (pd.to_datetime(\"2019-12-03\") - df_limpo_u['date']) / np.timedelta64(1, 'D')\n",
    "# Apenas copiar os dados da coluna views, não precisam de tratamento\n",
    "features_u['views'] = df_limpo_u['views']\n",
    "# Dividir o tempo de publicação do vídeo pela quantidade de views e gravar na nova coluna views_por_dia\n",
    "# para ter uma quantidade acumulada aproximada de views por dia\n",
    "features_u['views_por_dia'] = features_u['views'] / features_u['tempo_desde_pub']\n",
    "# Apagar a coluna tempo_desde_pub, para exibir melhor as informações em gráfico\n",
    "features_u = features_u.drop(['tempo_desde_pub'], axis=1)"
   ]
  },
  {
   "cell_type": "code",
   "execution_count": 55,
   "metadata": {},
   "outputs": [
    {
     "data": {
      "text/html": [
       "<div>\n",
       "<style scoped>\n",
       "    .dataframe tbody tr th:only-of-type {\n",
       "        vertical-align: middle;\n",
       "    }\n",
       "\n",
       "    .dataframe tbody tr th {\n",
       "        vertical-align: top;\n",
       "    }\n",
       "\n",
       "    .dataframe thead th {\n",
       "        text-align: right;\n",
       "    }\n",
       "</style>\n",
       "<table border=\"1\" class=\"dataframe\">\n",
       "  <thead>\n",
       "    <tr style=\"text-align: right;\">\n",
       "      <th></th>\n",
       "      <th>views</th>\n",
       "      <th>views_por_dia</th>\n",
       "    </tr>\n",
       "  </thead>\n",
       "  <tbody>\n",
       "    <tr>\n",
       "      <th>501</th>\n",
       "      <td>2167</td>\n",
       "      <td>5.472222</td>\n",
       "    </tr>\n",
       "    <tr>\n",
       "      <th>502</th>\n",
       "      <td>20378</td>\n",
       "      <td>49.103614</td>\n",
       "    </tr>\n",
       "    <tr>\n",
       "      <th>503</th>\n",
       "      <td>10435</td>\n",
       "      <td>29.729345</td>\n",
       "    </tr>\n",
       "    <tr>\n",
       "      <th>504</th>\n",
       "      <td>7</td>\n",
       "      <td>0.700000</td>\n",
       "    </tr>\n",
       "    <tr>\n",
       "      <th>505</th>\n",
       "      <td>4298</td>\n",
       "      <td>21.928571</td>\n",
       "    </tr>\n",
       "  </tbody>\n",
       "</table>\n",
       "</div>"
      ],
      "text/plain": [
       "     views  views_por_dia\n",
       "501   2167       5.472222\n",
       "502  20378      49.103614\n",
       "503  10435      29.729345\n",
       "504      7       0.700000\n",
       "505   4298      21.928571"
      ]
     },
     "execution_count": 55,
     "metadata": {},
     "output_type": "execute_result"
    }
   ],
   "source": [
    "# Exibir as primeiras cinco linhas do dataset dentro do dataframe\n",
    "features_u.head()"
   ]
  },
  {
   "cell_type": "markdown",
   "metadata": {},
   "source": [
    "#### TRANSFORMAR STRINGS EM REPRESENTAÇÃO DE NÚMEROS - SPARSE MATRIX"
   ]
  },
  {
   "cell_type": "code",
   "execution_count": 56,
   "metadata": {},
   "outputs": [],
   "source": [
    "# Bibliotecas com métodos, formulas, rotinas para agilizar desenvolvimento\n",
    "from sklearn.feature_extraction.text import TfidfVectorizer"
   ]
  },
  {
   "cell_type": "code",
   "execution_count": 57,
   "metadata": {},
   "outputs": [],
   "source": [
    "# Pegar dados da coluna title/watch-title\n",
    "title_u = df_limpo_u['title']"
   ]
  },
  {
   "cell_type": "code",
   "execution_count": 58,
   "metadata": {},
   "outputs": [],
   "source": [
    "# Transformar com base nas palavras que estão no campo watch-title, comprimindo em formato esparso\n",
    "title_bow_u = title_vec.transform(title_u)"
   ]
  },
  {
   "cell_type": "code",
   "execution_count": 59,
   "metadata": {},
   "outputs": [
    {
     "data": {
      "text/plain": [
       "<674x193 sparse matrix of type '<class 'numpy.float64'>'\n",
       "\twith 3079 stored elements in Compressed Sparse Row format>"
      ]
     },
     "execution_count": 59,
     "metadata": {},
     "output_type": "execute_result"
    }
   ],
   "source": [
    "# Exibir a quantidade de linhas, colunas, o tipo do objeto\n",
    "title_bow_u"
   ]
  },
  {
   "cell_type": "code",
   "execution_count": 60,
   "metadata": {},
   "outputs": [],
   "source": [
    "# Concatenar conteudo denso com conteudo esparso\n",
    "Xu_wtitle = hstack([features_u, title_bow_u])"
   ]
  },
  {
   "cell_type": "code",
   "execution_count": 61,
   "metadata": {},
   "outputs": [
    {
     "data": {
      "text/plain": [
       "<674x195 sparse matrix of type '<class 'numpy.float64'>'\n",
       "\twith 4409 stored elements in COOrdinate format>"
      ]
     },
     "execution_count": 61,
     "metadata": {},
     "output_type": "execute_result"
    }
   ],
   "source": [
    "# Exibir a quantidade de linhas, colunas, o tipo do objeto\n",
    "Xu_wtitle"
   ]
  },
  {
   "cell_type": "code",
   "execution_count": 62,
   "metadata": {},
   "outputs": [],
   "source": [
    "# Aplicar o método para retorar a probabilidade do vídeo ser um Verdadeiro Positivo\n",
    "# Esta probabilidade é mais uma pontuação do que uma probabilidade matemática\n",
    "pu = mdl.predict_proba(Xu_wtitle)[:, 1]"
   ]
  },
  {
   "cell_type": "code",
   "execution_count": 63,
   "metadata": {},
   "outputs": [],
   "source": [
    "# Criar uma coluna no dataframe unlabeled e armazenar o percentual de probabilidade\n",
    "df_unlabeled['p'] = pu"
   ]
  },
  {
   "cell_type": "code",
   "execution_count": 64,
   "metadata": {},
   "outputs": [
    {
     "data": {
      "text/html": [
       "<div>\n",
       "<style scoped>\n",
       "    .dataframe tbody tr th:only-of-type {\n",
       "        vertical-align: middle;\n",
       "    }\n",
       "\n",
       "    .dataframe tbody tr th {\n",
       "        vertical-align: top;\n",
       "    }\n",
       "\n",
       "    .dataframe thead th {\n",
       "        text-align: right;\n",
       "    }\n",
       "</style>\n",
       "<table border=\"1\" class=\"dataframe\">\n",
       "  <thead>\n",
       "    <tr style=\"text-align: right;\">\n",
       "      <th></th>\n",
       "      <th>watch-title</th>\n",
       "      <th>y</th>\n",
       "      <th>watch-view-count</th>\n",
       "      <th>watch-time-text</th>\n",
       "      <th>content_watch-info-tag-list</th>\n",
       "      <th>watch7-headline</th>\n",
       "      <th>watch7-user-header</th>\n",
       "      <th>watch8-sentiment-actions</th>\n",
       "      <th>og:image</th>\n",
       "      <th>og:image:width</th>\n",
       "      <th>og:image:height</th>\n",
       "      <th>og:description</th>\n",
       "      <th>og:video:width</th>\n",
       "      <th>og:video:height</th>\n",
       "      <th>og:video:tag</th>\n",
       "      <th>channel_link_0</th>\n",
       "      <th>p</th>\n",
       "    </tr>\n",
       "  </thead>\n",
       "  <tbody>\n",
       "    <tr>\n",
       "      <th>501</th>\n",
       "      <td>Kaggle Mercari Price Suggestion Challenge (1 p...</td>\n",
       "      <td>NaN</td>\n",
       "      <td>2.167 visualizações</td>\n",
       "      <td>Publicado em 2 de nov. de 2018</td>\n",
       "      <td>Educação</td>\n",
       "      <td>Kaggle Mercari Price Suggestion Challenge (1 p...</td>\n",
       "      <td>ML Trainings\\n\\n\\n\\n\\n\\n\\n\\n\\n\\n\\n\\n\\n\\nCarreg...</td>\n",
       "      <td>2.167 visualizações\\n\\n\\n\\n\\n\\n\\n\\n61\\n\\nGosto...</td>\n",
       "      <td>https://i.ytimg.com/vi/QFR0IHbzA30/maxresdefau...</td>\n",
       "      <td>1280.0</td>\n",
       "      <td>720.0</td>\n",
       "      <td>Pawel Jankiewicz and Konstantin Lopuhin share ...</td>\n",
       "      <td>1280.0</td>\n",
       "      <td>720.0</td>\n",
       "      <td>price suggestion</td>\n",
       "      <td>/channel/UCeq6ZIlvC9SVsfhfKnSvM9w</td>\n",
       "      <td>0.098</td>\n",
       "    </tr>\n",
       "  </tbody>\n",
       "</table>\n",
       "</div>"
      ],
      "text/plain": [
       "                                           watch-title   y  \\\n",
       "501  Kaggle Mercari Price Suggestion Challenge (1 p... NaN   \n",
       "\n",
       "        watch-view-count                 watch-time-text  \\\n",
       "501  2.167 visualizações  Publicado em 2 de nov. de 2018   \n",
       "\n",
       "    content_watch-info-tag-list  \\\n",
       "501                    Educação   \n",
       "\n",
       "                                       watch7-headline  \\\n",
       "501  Kaggle Mercari Price Suggestion Challenge (1 p...   \n",
       "\n",
       "                                    watch7-user-header  \\\n",
       "501  ML Trainings\\n\\n\\n\\n\\n\\n\\n\\n\\n\\n\\n\\n\\n\\nCarreg...   \n",
       "\n",
       "                              watch8-sentiment-actions  \\\n",
       "501  2.167 visualizações\\n\\n\\n\\n\\n\\n\\n\\n61\\n\\nGosto...   \n",
       "\n",
       "                                              og:image  og:image:width  \\\n",
       "501  https://i.ytimg.com/vi/QFR0IHbzA30/maxresdefau...          1280.0   \n",
       "\n",
       "     og:image:height                                     og:description  \\\n",
       "501            720.0  Pawel Jankiewicz and Konstantin Lopuhin share ...   \n",
       "\n",
       "     og:video:width  og:video:height      og:video:tag  \\\n",
       "501          1280.0            720.0  price suggestion   \n",
       "\n",
       "                        channel_link_0      p  \n",
       "501  /channel/UCeq6ZIlvC9SVsfhfKnSvM9w  0.098  "
      ]
     },
     "execution_count": 64,
     "metadata": {},
     "output_type": "execute_result"
    }
   ],
   "source": [
    "# Exibir o primeiro registro do dataframe\n",
    "df_unlabeled.head(1)"
   ]
  },
  {
   "cell_type": "code",
   "execution_count": 83,
   "metadata": {},
   "outputs": [
    {
     "data": {
      "text/plain": [
       "75"
      ]
     },
     "execution_count": 83,
     "metadata": {},
     "output_type": "execute_result"
    }
   ],
   "source": [
    "# Trazer registros que estão com probabolidade entre 0.46 e 0.56 de Verdadeiro Negativo\n",
    "mask_u = (df_unlabeled['p'] >= 0.26) & (df_unlabeled['p'] <= 1.0)\n",
    "mask_u.sum()"
   ]
  },
  {
   "cell_type": "code",
   "execution_count": 68,
   "metadata": {},
   "outputs": [
    {
     "data": {
      "text/plain": [
       "501     False\n",
       "502     False\n",
       "503     False\n",
       "504     False\n",
       "505      True\n",
       "        ...  \n",
       "1179    False\n",
       "1180    False\n",
       "1181    False\n",
       "1182    False\n",
       "1183    False\n",
       "Name: p, Length: 674, dtype: bool"
      ]
     },
     "execution_count": 68,
     "metadata": {},
     "output_type": "execute_result"
    }
   ],
   "source": [
    "# Exibir os itens entre 0.26 e 1. de probabilidade Verdadeiro Positivo\n",
    "mask_u"
   ]
  },
  {
   "cell_type": "code",
   "execution_count": 84,
   "metadata": {},
   "outputs": [
    {
     "data": {
      "text/html": [
       "<div>\n",
       "<style scoped>\n",
       "    .dataframe tbody tr th:only-of-type {\n",
       "        vertical-align: middle;\n",
       "    }\n",
       "\n",
       "    .dataframe tbody tr th {\n",
       "        vertical-align: top;\n",
       "    }\n",
       "\n",
       "    .dataframe thead th {\n",
       "        text-align: right;\n",
       "    }\n",
       "</style>\n",
       "<table border=\"1\" class=\"dataframe\">\n",
       "  <thead>\n",
       "    <tr style=\"text-align: right;\">\n",
       "      <th></th>\n",
       "      <th>watch-title</th>\n",
       "      <th>y</th>\n",
       "      <th>watch-view-count</th>\n",
       "      <th>watch-time-text</th>\n",
       "      <th>content_watch-info-tag-list</th>\n",
       "      <th>watch7-headline</th>\n",
       "      <th>watch7-user-header</th>\n",
       "      <th>watch8-sentiment-actions</th>\n",
       "      <th>og:image</th>\n",
       "      <th>og:image:width</th>\n",
       "      <th>og:image:height</th>\n",
       "      <th>og:description</th>\n",
       "      <th>og:video:width</th>\n",
       "      <th>og:video:height</th>\n",
       "      <th>og:video:tag</th>\n",
       "      <th>channel_link_0</th>\n",
       "      <th>p</th>\n",
       "    </tr>\n",
       "  </thead>\n",
       "  <tbody>\n",
       "    <tr>\n",
       "      <th>505</th>\n",
       "      <td>Platform Overview - Machine Learning</td>\n",
       "      <td>NaN</td>\n",
       "      <td>4.298 visualizações</td>\n",
       "      <td>Publicado em 21 de mai. de 2019</td>\n",
       "      <td>Ciência e tecnologia</td>\n",
       "      <td>Platform Overview - Machine Learning</td>\n",
       "      <td>Google Cloud Platform\\n\\n\\n\\n\\n\\n\\n\\n\\n\\n\\n\\n\\...</td>\n",
       "      <td>4.298 visualizações\\n\\n\\n\\n\\n\\n\\n\\n141\\n\\nGost...</td>\n",
       "      <td>https://i.ytimg.com/vi/QR_LQQ-vvko/maxresdefau...</td>\n",
       "      <td>1280.0</td>\n",
       "      <td>720.0</td>\n",
       "      <td>In this short GCP Essentials video, see how GC...</td>\n",
       "      <td>1280.0</td>\n",
       "      <td>720.0</td>\n",
       "      <td>Alexis Moussine Pouchkine</td>\n",
       "      <td>/channel/UCJS9pqu9BzkAMNTmzNMNhvg</td>\n",
       "      <td>0.488</td>\n",
       "    </tr>\n",
       "    <tr>\n",
       "      <th>507</th>\n",
       "      <td>Kaggle Meetup: Ship Detection Challenge</td>\n",
       "      <td>NaN</td>\n",
       "      <td>504 visualizações</td>\n",
       "      <td>Publicado em 30 de nov. de 2018</td>\n",
       "      <td>Ciência e tecnologia</td>\n",
       "      <td>Kaggle Meetup: Ship Detection Challenge</td>\n",
       "      <td>Learn Data Science\\n\\n\\n\\n\\n\\n\\n\\n\\n\\n\\n\\n\\n\\n...</td>\n",
       "      <td>504 visualizações\\n\\n\\n\\n\\n\\n\\n\\n9\\n\\nGostou d...</td>\n",
       "      <td>https://i.ytimg.com/vi/QXEy4rdLsDw/maxresdefau...</td>\n",
       "      <td>1280.0</td>\n",
       "      <td>720.0</td>\n",
       "      <td>Video from the 2018-11-29 meetup. Kaggle page:...</td>\n",
       "      <td>1280.0</td>\n",
       "      <td>720.0</td>\n",
       "      <td>learn data science</td>\n",
       "      <td>/channel/UCJhW_16uxALr0X4olEW2p5A</td>\n",
       "      <td>0.450</td>\n",
       "    </tr>\n",
       "    <tr>\n",
       "      <th>519</th>\n",
       "      <td>flowlightさん『TalkingData AdTracking Fraud Detec...</td>\n",
       "      <td>NaN</td>\n",
       "      <td>1.707 visualizações</td>\n",
       "      <td>Publicado em 12 de mai. de 2018</td>\n",
       "      <td>Pessoas e blogs</td>\n",
       "      <td>flowlightさん『TalkingData AdTracking Fraud Detec...</td>\n",
       "      <td>Takami Sato\\n\\n\\n\\n\\n\\n\\n\\n\\n\\n\\n\\n\\n\\nCarrega...</td>\n",
       "      <td>1.707 visualizações\\n\\n\\n\\n\\n\\n\\n\\n17\\n\\nGosto...</td>\n",
       "      <td>https://i.ytimg.com/vi/RKXUEJVJJ-o/maxresdefau...</td>\n",
       "      <td>1280.0</td>\n",
       "      <td>720.0</td>\n",
       "      <td>資料 https://www.slideshare.net/TakanoriHayashi3...</td>\n",
       "      <td>1280.0</td>\n",
       "      <td>720.0</td>\n",
       "      <td>kaggle</td>\n",
       "      <td>/channel/UCiECS_auJLNpFsvjTi1WuxQ</td>\n",
       "      <td>0.288</td>\n",
       "    </tr>\n",
       "    <tr>\n",
       "      <th>527</th>\n",
       "      <td>Reinforcement Learning with TensorFlow and Uni...</td>\n",
       "      <td>NaN</td>\n",
       "      <td>545 visualizações</td>\n",
       "      <td>Publicado em 22 de nov. de 2019</td>\n",
       "      <td>Ciência e tecnologia</td>\n",
       "      <td>Reinforcement Learning with TensorFlow and Uni...</td>\n",
       "      <td>Google Developers\\n\\n\\n\\n\\n\\n\\n\\n\\n\\n\\n\\n\\n\\n\\...</td>\n",
       "      <td>545 visualizações\\n\\n\\n\\n\\n\\n\\n\\n13\\n\\nGostou ...</td>\n",
       "      <td>https://i.ytimg.com/vi/S-MbpQiwfls/maxresdefau...</td>\n",
       "      <td>1280.0</td>\n",
       "      <td>720.0</td>\n",
       "      <td>Dan Goncharov, Head of 42 Robotics GDG Fremont...</td>\n",
       "      <td>1280.0</td>\n",
       "      <td>720.0</td>\n",
       "      <td>Dan Goncharov</td>\n",
       "      <td>/channel/UC_x5XG1OV2P6uZZ5FSM9Ttw</td>\n",
       "      <td>0.271</td>\n",
       "    </tr>\n",
       "    <tr>\n",
       "      <th>535</th>\n",
       "      <td>Identifying art through machine learning at MoMA</td>\n",
       "      <td>NaN</td>\n",
       "      <td>9.476 visualizações</td>\n",
       "      <td>Publicado em 7 de mar. de 2018</td>\n",
       "      <td>Entretenimento</td>\n",
       "      <td>#MachineLearning #Musuem #Art\\n\\n\\n\\n    Ident...</td>\n",
       "      <td>Google Arts &amp; Culture\\n\\n\\n\\n\\n\\n\\n\\n\\n\\n\\n\\n\\...</td>\n",
       "      <td>9.476 visualizações\\n\\n\\n\\n\\n\\n\\n\\n49\\n\\nGosto...</td>\n",
       "      <td>https://i.ytimg.com/vi/SLBqVOnn9Mo/maxresdefau...</td>\n",
       "      <td>1280.0</td>\n",
       "      <td>720.0</td>\n",
       "      <td>The Art Recognizer, built in collaboration wit...</td>\n",
       "      <td>1280.0</td>\n",
       "      <td>720.0</td>\n",
       "      <td>museum of modern art</td>\n",
       "      <td>/channel/UCGn7dlcAmH44GqycKa_3ssA</td>\n",
       "      <td>0.531</td>\n",
       "    </tr>\n",
       "    <tr>\n",
       "      <th>...</th>\n",
       "      <td>...</td>\n",
       "      <td>...</td>\n",
       "      <td>...</td>\n",
       "      <td>...</td>\n",
       "      <td>...</td>\n",
       "      <td>...</td>\n",
       "      <td>...</td>\n",
       "      <td>...</td>\n",
       "      <td>...</td>\n",
       "      <td>...</td>\n",
       "      <td>...</td>\n",
       "      <td>...</td>\n",
       "      <td>...</td>\n",
       "      <td>...</td>\n",
       "      <td>...</td>\n",
       "      <td>...</td>\n",
       "      <td>...</td>\n",
       "    </tr>\n",
       "    <tr>\n",
       "      <th>1135</th>\n",
       "      <td>Hackathon that meets Machine learning, Neurosc...</td>\n",
       "      <td>NaN</td>\n",
       "      <td>278 visualizações</td>\n",
       "      <td>Publicado em 18 de nov. de 2019</td>\n",
       "      <td>Pessoas e blogs</td>\n",
       "      <td>Hackathon that meets Machine learning, Neurosc...</td>\n",
       "      <td>Macchiato Kolektiv\\n\\n\\n\\n\\n\\n\\n\\n\\n\\n\\n\\n\\n\\n...</td>\n",
       "      <td>278 visualizações\\n\\n\\n\\n\\n\\n\\n\\n6\\n\\nGostou d...</td>\n",
       "      <td>https://i.ytimg.com/vi/wwZsKRezP2Q/maxresdefau...</td>\n",
       "      <td>1280.0</td>\n",
       "      <td>720.0</td>\n",
       "      <td>Brainhack Zagreb 2019 is one of 40 neuroscienc...</td>\n",
       "      <td>1280.0</td>\n",
       "      <td>720.0</td>\n",
       "      <td>brainhack</td>\n",
       "      <td>/channel/UCROi43kIrrg8z5R4INl5vDQ</td>\n",
       "      <td>0.268</td>\n",
       "    </tr>\n",
       "    <tr>\n",
       "      <th>1136</th>\n",
       "      <td>Real Stories from Career Switchers | CareerCon...</td>\n",
       "      <td>NaN</td>\n",
       "      <td>531 visualizações</td>\n",
       "      <td>Publicado em 15 de ago. de 2019</td>\n",
       "      <td>Ciência e tecnologia</td>\n",
       "      <td>Real Stories from Career Switchers | CareerCon...</td>\n",
       "      <td>Kaggle\\n\\n\\n\\n\\n\\n\\n\\n\\n\\n\\n\\n\\n\\nCarregando.....</td>\n",
       "      <td>531 visualizações\\n\\n\\n\\n\\n\\n\\n\\n24\\n\\nGostou ...</td>\n",
       "      <td>https://i.ytimg.com/vi/wyU9GTKSO0g/maxresdefau...</td>\n",
       "      <td>1280.0</td>\n",
       "      <td>720.0</td>\n",
       "      <td>\"Listen to a panel of speakers who successfull...</td>\n",
       "      <td>1280.0</td>\n",
       "      <td>720.0</td>\n",
       "      <td>careercon</td>\n",
       "      <td>/channel/UCSNeZleDn9c74yQc-EKnVTA</td>\n",
       "      <td>0.441</td>\n",
       "    </tr>\n",
       "    <tr>\n",
       "      <th>1138</th>\n",
       "      <td>NIPS 2017 Test of Time Award \"Machine learning...</td>\n",
       "      <td>NaN</td>\n",
       "      <td>13.474 visualizações</td>\n",
       "      <td>Publicado em 7 de mar. de 2018</td>\n",
       "      <td>Educação</td>\n",
       "      <td>NIPS 2017 Test of Time Award \"Machine learning...</td>\n",
       "      <td>Preserve Knowledge\\n\\n\\n\\n\\n\\n\\n\\n\\n\\n\\n\\n\\n\\n...</td>\n",
       "      <td>13.474 visualizações\\n\\n\\n\\n\\n\\n\\n\\n138\\n\\nGos...</td>\n",
       "      <td>https://i.ytimg.com/vi/x7psGHgatGM/maxresdefau...</td>\n",
       "      <td>1280.0</td>\n",
       "      <td>720.0</td>\n",
       "      <td></td>\n",
       "      <td>1280.0</td>\n",
       "      <td>720.0</td>\n",
       "      <td>NIPS 2017</td>\n",
       "      <td>/channel/UC9p_wQs8b8SHvfJSuuxEnvw</td>\n",
       "      <td>0.373</td>\n",
       "    </tr>\n",
       "    <tr>\n",
       "      <th>1168</th>\n",
       "      <td>Learn Deep Learning Online from IBM</td>\n",
       "      <td>NaN</td>\n",
       "      <td>3.641 visualizações</td>\n",
       "      <td>Publicado em 9 de mai. de 2019</td>\n",
       "      <td>Educação</td>\n",
       "      <td>Learn Deep Learning Online from IBM</td>\n",
       "      <td>edX\\n\\n\\n\\n\\n\\n\\n\\n\\n\\n\\n\\n\\n\\n\\nCarregando......</td>\n",
       "      <td>3.641 visualizações\\n\\n\\n\\n\\n\\n\\n\\n52\\n\\nGosto...</td>\n",
       "      <td>https://i.ytimg.com/vi/z7LyERPn0o4/maxresdefau...</td>\n",
       "      <td>1280.0</td>\n",
       "      <td>720.0</td>\n",
       "      <td>Welcome to the course Deep Learning Fundamenta...</td>\n",
       "      <td>960.0</td>\n",
       "      <td>720.0</td>\n",
       "      <td>learn machine learning for free</td>\n",
       "      <td>/channel/UC67Vc0fkLYeUPBp1f02VY9Q</td>\n",
       "      <td>0.292</td>\n",
       "    </tr>\n",
       "    <tr>\n",
       "      <th>1176</th>\n",
       "      <td>Using Google's Data and AI Technologies with K...</td>\n",
       "      <td>NaN</td>\n",
       "      <td>727 visualizações</td>\n",
       "      <td>Publicado em 24 de abr. de 2019</td>\n",
       "      <td>Ciência e tecnologia</td>\n",
       "      <td>Using Google's Data and AI Technologies with K...</td>\n",
       "      <td>Google Cloud Platform\\n\\n\\n\\n\\n\\n\\n\\n\\n\\n\\n\\n\\...</td>\n",
       "      <td>727 visualizações\\n\\n\\n\\n\\n\\n\\n\\n17\\n\\nGostou ...</td>\n",
       "      <td>https://i.ytimg.com/vi/zPR3upTfMSI/maxresdefau...</td>\n",
       "      <td>1280.0</td>\n",
       "      <td>720.0</td>\n",
       "      <td>Kaggle is the world's largest community of dat...</td>\n",
       "      <td>1280.0</td>\n",
       "      <td>720.0</td>\n",
       "      <td>official</td>\n",
       "      <td>/channel/UCJS9pqu9BzkAMNTmzNMNhvg</td>\n",
       "      <td>0.272</td>\n",
       "    </tr>\n",
       "  </tbody>\n",
       "</table>\n",
       "<p>75 rows × 17 columns</p>\n",
       "</div>"
      ],
      "text/plain": [
       "                                            watch-title   y  \\\n",
       "505                Platform Overview - Machine Learning NaN   \n",
       "507             Kaggle Meetup: Ship Detection Challenge NaN   \n",
       "519   flowlightさん『TalkingData AdTracking Fraud Detec... NaN   \n",
       "527   Reinforcement Learning with TensorFlow and Uni... NaN   \n",
       "535    Identifying art through machine learning at MoMA NaN   \n",
       "...                                                 ...  ..   \n",
       "1135  Hackathon that meets Machine learning, Neurosc... NaN   \n",
       "1136  Real Stories from Career Switchers | CareerCon... NaN   \n",
       "1138  NIPS 2017 Test of Time Award \"Machine learning... NaN   \n",
       "1168                Learn Deep Learning Online from IBM NaN   \n",
       "1176  Using Google's Data and AI Technologies with K... NaN   \n",
       "\n",
       "          watch-view-count                  watch-time-text  \\\n",
       "505    4.298 visualizações  Publicado em 21 de mai. de 2019   \n",
       "507      504 visualizações  Publicado em 30 de nov. de 2018   \n",
       "519    1.707 visualizações  Publicado em 12 de mai. de 2018   \n",
       "527      545 visualizações  Publicado em 22 de nov. de 2019   \n",
       "535    9.476 visualizações   Publicado em 7 de mar. de 2018   \n",
       "...                    ...                              ...   \n",
       "1135     278 visualizações  Publicado em 18 de nov. de 2019   \n",
       "1136     531 visualizações  Publicado em 15 de ago. de 2019   \n",
       "1138  13.474 visualizações   Publicado em 7 de mar. de 2018   \n",
       "1168   3.641 visualizações   Publicado em 9 de mai. de 2019   \n",
       "1176     727 visualizações  Publicado em 24 de abr. de 2019   \n",
       "\n",
       "     content_watch-info-tag-list  \\\n",
       "505         Ciência e tecnologia   \n",
       "507         Ciência e tecnologia   \n",
       "519              Pessoas e blogs   \n",
       "527         Ciência e tecnologia   \n",
       "535               Entretenimento   \n",
       "...                          ...   \n",
       "1135             Pessoas e blogs   \n",
       "1136        Ciência e tecnologia   \n",
       "1138                    Educação   \n",
       "1168                    Educação   \n",
       "1176        Ciência e tecnologia   \n",
       "\n",
       "                                        watch7-headline  \\\n",
       "505                Platform Overview - Machine Learning   \n",
       "507             Kaggle Meetup: Ship Detection Challenge   \n",
       "519   flowlightさん『TalkingData AdTracking Fraud Detec...   \n",
       "527   Reinforcement Learning with TensorFlow and Uni...   \n",
       "535   #MachineLearning #Musuem #Art\\n\\n\\n\\n    Ident...   \n",
       "...                                                 ...   \n",
       "1135  Hackathon that meets Machine learning, Neurosc...   \n",
       "1136  Real Stories from Career Switchers | CareerCon...   \n",
       "1138  NIPS 2017 Test of Time Award \"Machine learning...   \n",
       "1168                Learn Deep Learning Online from IBM   \n",
       "1176  Using Google's Data and AI Technologies with K...   \n",
       "\n",
       "                                     watch7-user-header  \\\n",
       "505   Google Cloud Platform\\n\\n\\n\\n\\n\\n\\n\\n\\n\\n\\n\\n\\...   \n",
       "507   Learn Data Science\\n\\n\\n\\n\\n\\n\\n\\n\\n\\n\\n\\n\\n\\n...   \n",
       "519   Takami Sato\\n\\n\\n\\n\\n\\n\\n\\n\\n\\n\\n\\n\\n\\nCarrega...   \n",
       "527   Google Developers\\n\\n\\n\\n\\n\\n\\n\\n\\n\\n\\n\\n\\n\\n\\...   \n",
       "535   Google Arts & Culture\\n\\n\\n\\n\\n\\n\\n\\n\\n\\n\\n\\n\\...   \n",
       "...                                                 ...   \n",
       "1135  Macchiato Kolektiv\\n\\n\\n\\n\\n\\n\\n\\n\\n\\n\\n\\n\\n\\n...   \n",
       "1136  Kaggle\\n\\n\\n\\n\\n\\n\\n\\n\\n\\n\\n\\n\\n\\nCarregando.....   \n",
       "1138  Preserve Knowledge\\n\\n\\n\\n\\n\\n\\n\\n\\n\\n\\n\\n\\n\\n...   \n",
       "1168  edX\\n\\n\\n\\n\\n\\n\\n\\n\\n\\n\\n\\n\\n\\n\\nCarregando......   \n",
       "1176  Google Cloud Platform\\n\\n\\n\\n\\n\\n\\n\\n\\n\\n\\n\\n\\...   \n",
       "\n",
       "                               watch8-sentiment-actions  \\\n",
       "505   4.298 visualizações\\n\\n\\n\\n\\n\\n\\n\\n141\\n\\nGost...   \n",
       "507   504 visualizações\\n\\n\\n\\n\\n\\n\\n\\n9\\n\\nGostou d...   \n",
       "519   1.707 visualizações\\n\\n\\n\\n\\n\\n\\n\\n17\\n\\nGosto...   \n",
       "527   545 visualizações\\n\\n\\n\\n\\n\\n\\n\\n13\\n\\nGostou ...   \n",
       "535   9.476 visualizações\\n\\n\\n\\n\\n\\n\\n\\n49\\n\\nGosto...   \n",
       "...                                                 ...   \n",
       "1135  278 visualizações\\n\\n\\n\\n\\n\\n\\n\\n6\\n\\nGostou d...   \n",
       "1136  531 visualizações\\n\\n\\n\\n\\n\\n\\n\\n24\\n\\nGostou ...   \n",
       "1138  13.474 visualizações\\n\\n\\n\\n\\n\\n\\n\\n138\\n\\nGos...   \n",
       "1168  3.641 visualizações\\n\\n\\n\\n\\n\\n\\n\\n52\\n\\nGosto...   \n",
       "1176  727 visualizações\\n\\n\\n\\n\\n\\n\\n\\n17\\n\\nGostou ...   \n",
       "\n",
       "                                               og:image  og:image:width  \\\n",
       "505   https://i.ytimg.com/vi/QR_LQQ-vvko/maxresdefau...          1280.0   \n",
       "507   https://i.ytimg.com/vi/QXEy4rdLsDw/maxresdefau...          1280.0   \n",
       "519   https://i.ytimg.com/vi/RKXUEJVJJ-o/maxresdefau...          1280.0   \n",
       "527   https://i.ytimg.com/vi/S-MbpQiwfls/maxresdefau...          1280.0   \n",
       "535   https://i.ytimg.com/vi/SLBqVOnn9Mo/maxresdefau...          1280.0   \n",
       "...                                                 ...             ...   \n",
       "1135  https://i.ytimg.com/vi/wwZsKRezP2Q/maxresdefau...          1280.0   \n",
       "1136  https://i.ytimg.com/vi/wyU9GTKSO0g/maxresdefau...          1280.0   \n",
       "1138  https://i.ytimg.com/vi/x7psGHgatGM/maxresdefau...          1280.0   \n",
       "1168  https://i.ytimg.com/vi/z7LyERPn0o4/maxresdefau...          1280.0   \n",
       "1176  https://i.ytimg.com/vi/zPR3upTfMSI/maxresdefau...          1280.0   \n",
       "\n",
       "      og:image:height                                     og:description  \\\n",
       "505             720.0  In this short GCP Essentials video, see how GC...   \n",
       "507             720.0  Video from the 2018-11-29 meetup. Kaggle page:...   \n",
       "519             720.0  資料 https://www.slideshare.net/TakanoriHayashi3...   \n",
       "527             720.0  Dan Goncharov, Head of 42 Robotics GDG Fremont...   \n",
       "535             720.0  The Art Recognizer, built in collaboration wit...   \n",
       "...               ...                                                ...   \n",
       "1135            720.0  Brainhack Zagreb 2019 is one of 40 neuroscienc...   \n",
       "1136            720.0  \"Listen to a panel of speakers who successfull...   \n",
       "1138            720.0                                                      \n",
       "1168            720.0  Welcome to the course Deep Learning Fundamenta...   \n",
       "1176            720.0  Kaggle is the world's largest community of dat...   \n",
       "\n",
       "      og:video:width  og:video:height                     og:video:tag  \\\n",
       "505           1280.0            720.0        Alexis Moussine Pouchkine   \n",
       "507           1280.0            720.0               learn data science   \n",
       "519           1280.0            720.0                           kaggle   \n",
       "527           1280.0            720.0                    Dan Goncharov   \n",
       "535           1280.0            720.0             museum of modern art   \n",
       "...              ...              ...                              ...   \n",
       "1135          1280.0            720.0                        brainhack   \n",
       "1136          1280.0            720.0                        careercon   \n",
       "1138          1280.0            720.0                        NIPS 2017   \n",
       "1168           960.0            720.0  learn machine learning for free   \n",
       "1176          1280.0            720.0                         official   \n",
       "\n",
       "                         channel_link_0      p  \n",
       "505   /channel/UCJS9pqu9BzkAMNTmzNMNhvg  0.488  \n",
       "507   /channel/UCJhW_16uxALr0X4olEW2p5A  0.450  \n",
       "519   /channel/UCiECS_auJLNpFsvjTi1WuxQ  0.288  \n",
       "527   /channel/UC_x5XG1OV2P6uZZ5FSM9Ttw  0.271  \n",
       "535   /channel/UCGn7dlcAmH44GqycKa_3ssA  0.531  \n",
       "...                                 ...    ...  \n",
       "1135  /channel/UCROi43kIrrg8z5R4INl5vDQ  0.268  \n",
       "1136  /channel/UCSNeZleDn9c74yQc-EKnVTA  0.441  \n",
       "1138  /channel/UC9p_wQs8b8SHvfJSuuxEnvw  0.373  \n",
       "1168  /channel/UC67Vc0fkLYeUPBp1f02VY9Q  0.292  \n",
       "1176  /channel/UCJS9pqu9BzkAMNTmzNMNhvg  0.272  \n",
       "\n",
       "[75 rows x 17 columns]"
      ]
     },
     "execution_count": 84,
     "metadata": {},
     "output_type": "execute_result"
    }
   ],
   "source": [
    "# Exibir o dataframe\n",
    "df_unlabeled[mask_u]#.sort_values(\"p\")"
   ]
  },
  {
   "cell_type": "code",
   "execution_count": 85,
   "metadata": {},
   "outputs": [],
   "source": [
    "# Selecionar todos os títulos não contidos na mask_u\n",
    "dificeis = df_unlabeled[mask_u]"
   ]
  },
  {
   "cell_type": "code",
   "execution_count": 90,
   "metadata": {},
   "outputs": [],
   "source": [
    "# Dataframe de vídeos escolhidos aleatoriamente\n",
    "aleatorios = df_unlabeled[~mask_u].sample(31, random_state=0)"
   ]
  },
  {
   "cell_type": "code",
   "execution_count": 87,
   "metadata": {},
   "outputs": [],
   "source": [
    "# Concatenar os dataframes dificeis e aleatorios\n",
    "pd.concat([dificeis, aleatorios]).to_csv(\"active_label1.csv\")"
   ]
  },
  {
   "cell_type": "code",
   "execution_count": 88,
   "metadata": {},
   "outputs": [
    {
     "data": {
      "text/html": [
       "<div>\n",
       "<style scoped>\n",
       "    .dataframe tbody tr th:only-of-type {\n",
       "        vertical-align: middle;\n",
       "    }\n",
       "\n",
       "    .dataframe tbody tr th {\n",
       "        vertical-align: top;\n",
       "    }\n",
       "\n",
       "    .dataframe thead th {\n",
       "        text-align: right;\n",
       "    }\n",
       "</style>\n",
       "<table border=\"1\" class=\"dataframe\">\n",
       "  <thead>\n",
       "    <tr style=\"text-align: right;\">\n",
       "      <th></th>\n",
       "      <th>watch-title</th>\n",
       "      <th>y</th>\n",
       "      <th>watch-view-count</th>\n",
       "      <th>watch-time-text</th>\n",
       "      <th>content_watch-info-tag-list</th>\n",
       "      <th>watch7-headline</th>\n",
       "      <th>watch7-user-header</th>\n",
       "      <th>watch8-sentiment-actions</th>\n",
       "      <th>og:image</th>\n",
       "      <th>og:image:width</th>\n",
       "      <th>og:image:height</th>\n",
       "      <th>og:description</th>\n",
       "      <th>og:video:width</th>\n",
       "      <th>og:video:height</th>\n",
       "      <th>og:video:tag</th>\n",
       "      <th>channel_link_0</th>\n",
       "      <th>p</th>\n",
       "    </tr>\n",
       "  </thead>\n",
       "  <tbody>\n",
       "    <tr>\n",
       "      <th>505</th>\n",
       "      <td>Platform Overview - Machine Learning</td>\n",
       "      <td>NaN</td>\n",
       "      <td>4.298 visualizações</td>\n",
       "      <td>Publicado em 21 de mai. de 2019</td>\n",
       "      <td>Ciência e tecnologia</td>\n",
       "      <td>Platform Overview - Machine Learning</td>\n",
       "      <td>Google Cloud Platform\\n\\n\\n\\n\\n\\n\\n\\n\\n\\n\\n\\n\\...</td>\n",
       "      <td>4.298 visualizações\\n\\n\\n\\n\\n\\n\\n\\n141\\n\\nGost...</td>\n",
       "      <td>https://i.ytimg.com/vi/QR_LQQ-vvko/maxresdefau...</td>\n",
       "      <td>1280.0</td>\n",
       "      <td>720.0</td>\n",
       "      <td>In this short GCP Essentials video, see how GC...</td>\n",
       "      <td>1280.0</td>\n",
       "      <td>720.0</td>\n",
       "      <td>Alexis Moussine Pouchkine</td>\n",
       "      <td>/channel/UCJS9pqu9BzkAMNTmzNMNhvg</td>\n",
       "      <td>0.488</td>\n",
       "    </tr>\n",
       "    <tr>\n",
       "      <th>507</th>\n",
       "      <td>Kaggle Meetup: Ship Detection Challenge</td>\n",
       "      <td>NaN</td>\n",
       "      <td>504 visualizações</td>\n",
       "      <td>Publicado em 30 de nov. de 2018</td>\n",
       "      <td>Ciência e tecnologia</td>\n",
       "      <td>Kaggle Meetup: Ship Detection Challenge</td>\n",
       "      <td>Learn Data Science\\n\\n\\n\\n\\n\\n\\n\\n\\n\\n\\n\\n\\n\\n...</td>\n",
       "      <td>504 visualizações\\n\\n\\n\\n\\n\\n\\n\\n9\\n\\nGostou d...</td>\n",
       "      <td>https://i.ytimg.com/vi/QXEy4rdLsDw/maxresdefau...</td>\n",
       "      <td>1280.0</td>\n",
       "      <td>720.0</td>\n",
       "      <td>Video from the 2018-11-29 meetup. Kaggle page:...</td>\n",
       "      <td>1280.0</td>\n",
       "      <td>720.0</td>\n",
       "      <td>learn data science</td>\n",
       "      <td>/channel/UCJhW_16uxALr0X4olEW2p5A</td>\n",
       "      <td>0.450</td>\n",
       "    </tr>\n",
       "    <tr>\n",
       "      <th>519</th>\n",
       "      <td>flowlightさん『TalkingData AdTracking Fraud Detec...</td>\n",
       "      <td>NaN</td>\n",
       "      <td>1.707 visualizações</td>\n",
       "      <td>Publicado em 12 de mai. de 2018</td>\n",
       "      <td>Pessoas e blogs</td>\n",
       "      <td>flowlightさん『TalkingData AdTracking Fraud Detec...</td>\n",
       "      <td>Takami Sato\\n\\n\\n\\n\\n\\n\\n\\n\\n\\n\\n\\n\\n\\nCarrega...</td>\n",
       "      <td>1.707 visualizações\\n\\n\\n\\n\\n\\n\\n\\n17\\n\\nGosto...</td>\n",
       "      <td>https://i.ytimg.com/vi/RKXUEJVJJ-o/maxresdefau...</td>\n",
       "      <td>1280.0</td>\n",
       "      <td>720.0</td>\n",
       "      <td>資料 https://www.slideshare.net/TakanoriHayashi3...</td>\n",
       "      <td>1280.0</td>\n",
       "      <td>720.0</td>\n",
       "      <td>kaggle</td>\n",
       "      <td>/channel/UCiECS_auJLNpFsvjTi1WuxQ</td>\n",
       "      <td>0.288</td>\n",
       "    </tr>\n",
       "    <tr>\n",
       "      <th>527</th>\n",
       "      <td>Reinforcement Learning with TensorFlow and Uni...</td>\n",
       "      <td>NaN</td>\n",
       "      <td>545 visualizações</td>\n",
       "      <td>Publicado em 22 de nov. de 2019</td>\n",
       "      <td>Ciência e tecnologia</td>\n",
       "      <td>Reinforcement Learning with TensorFlow and Uni...</td>\n",
       "      <td>Google Developers\\n\\n\\n\\n\\n\\n\\n\\n\\n\\n\\n\\n\\n\\n\\...</td>\n",
       "      <td>545 visualizações\\n\\n\\n\\n\\n\\n\\n\\n13\\n\\nGostou ...</td>\n",
       "      <td>https://i.ytimg.com/vi/S-MbpQiwfls/maxresdefau...</td>\n",
       "      <td>1280.0</td>\n",
       "      <td>720.0</td>\n",
       "      <td>Dan Goncharov, Head of 42 Robotics GDG Fremont...</td>\n",
       "      <td>1280.0</td>\n",
       "      <td>720.0</td>\n",
       "      <td>Dan Goncharov</td>\n",
       "      <td>/channel/UC_x5XG1OV2P6uZZ5FSM9Ttw</td>\n",
       "      <td>0.271</td>\n",
       "    </tr>\n",
       "    <tr>\n",
       "      <th>535</th>\n",
       "      <td>Identifying art through machine learning at MoMA</td>\n",
       "      <td>NaN</td>\n",
       "      <td>9.476 visualizações</td>\n",
       "      <td>Publicado em 7 de mar. de 2018</td>\n",
       "      <td>Entretenimento</td>\n",
       "      <td>#MachineLearning #Musuem #Art\\n\\n\\n\\n    Ident...</td>\n",
       "      <td>Google Arts &amp; Culture\\n\\n\\n\\n\\n\\n\\n\\n\\n\\n\\n\\n\\...</td>\n",
       "      <td>9.476 visualizações\\n\\n\\n\\n\\n\\n\\n\\n49\\n\\nGosto...</td>\n",
       "      <td>https://i.ytimg.com/vi/SLBqVOnn9Mo/maxresdefau...</td>\n",
       "      <td>1280.0</td>\n",
       "      <td>720.0</td>\n",
       "      <td>The Art Recognizer, built in collaboration wit...</td>\n",
       "      <td>1280.0</td>\n",
       "      <td>720.0</td>\n",
       "      <td>museum of modern art</td>\n",
       "      <td>/channel/UCGn7dlcAmH44GqycKa_3ssA</td>\n",
       "      <td>0.531</td>\n",
       "    </tr>\n",
       "  </tbody>\n",
       "</table>\n",
       "</div>"
      ],
      "text/plain": [
       "                                           watch-title   y  \\\n",
       "505               Platform Overview - Machine Learning NaN   \n",
       "507            Kaggle Meetup: Ship Detection Challenge NaN   \n",
       "519  flowlightさん『TalkingData AdTracking Fraud Detec... NaN   \n",
       "527  Reinforcement Learning with TensorFlow and Uni... NaN   \n",
       "535   Identifying art through machine learning at MoMA NaN   \n",
       "\n",
       "        watch-view-count                  watch-time-text  \\\n",
       "505  4.298 visualizações  Publicado em 21 de mai. de 2019   \n",
       "507    504 visualizações  Publicado em 30 de nov. de 2018   \n",
       "519  1.707 visualizações  Publicado em 12 de mai. de 2018   \n",
       "527    545 visualizações  Publicado em 22 de nov. de 2019   \n",
       "535  9.476 visualizações   Publicado em 7 de mar. de 2018   \n",
       "\n",
       "    content_watch-info-tag-list  \\\n",
       "505        Ciência e tecnologia   \n",
       "507        Ciência e tecnologia   \n",
       "519             Pessoas e blogs   \n",
       "527        Ciência e tecnologia   \n",
       "535              Entretenimento   \n",
       "\n",
       "                                       watch7-headline  \\\n",
       "505               Platform Overview - Machine Learning   \n",
       "507            Kaggle Meetup: Ship Detection Challenge   \n",
       "519  flowlightさん『TalkingData AdTracking Fraud Detec...   \n",
       "527  Reinforcement Learning with TensorFlow and Uni...   \n",
       "535  #MachineLearning #Musuem #Art\\n\\n\\n\\n    Ident...   \n",
       "\n",
       "                                    watch7-user-header  \\\n",
       "505  Google Cloud Platform\\n\\n\\n\\n\\n\\n\\n\\n\\n\\n\\n\\n\\...   \n",
       "507  Learn Data Science\\n\\n\\n\\n\\n\\n\\n\\n\\n\\n\\n\\n\\n\\n...   \n",
       "519  Takami Sato\\n\\n\\n\\n\\n\\n\\n\\n\\n\\n\\n\\n\\n\\nCarrega...   \n",
       "527  Google Developers\\n\\n\\n\\n\\n\\n\\n\\n\\n\\n\\n\\n\\n\\n\\...   \n",
       "535  Google Arts & Culture\\n\\n\\n\\n\\n\\n\\n\\n\\n\\n\\n\\n\\...   \n",
       "\n",
       "                              watch8-sentiment-actions  \\\n",
       "505  4.298 visualizações\\n\\n\\n\\n\\n\\n\\n\\n141\\n\\nGost...   \n",
       "507  504 visualizações\\n\\n\\n\\n\\n\\n\\n\\n9\\n\\nGostou d...   \n",
       "519  1.707 visualizações\\n\\n\\n\\n\\n\\n\\n\\n17\\n\\nGosto...   \n",
       "527  545 visualizações\\n\\n\\n\\n\\n\\n\\n\\n13\\n\\nGostou ...   \n",
       "535  9.476 visualizações\\n\\n\\n\\n\\n\\n\\n\\n49\\n\\nGosto...   \n",
       "\n",
       "                                              og:image  og:image:width  \\\n",
       "505  https://i.ytimg.com/vi/QR_LQQ-vvko/maxresdefau...          1280.0   \n",
       "507  https://i.ytimg.com/vi/QXEy4rdLsDw/maxresdefau...          1280.0   \n",
       "519  https://i.ytimg.com/vi/RKXUEJVJJ-o/maxresdefau...          1280.0   \n",
       "527  https://i.ytimg.com/vi/S-MbpQiwfls/maxresdefau...          1280.0   \n",
       "535  https://i.ytimg.com/vi/SLBqVOnn9Mo/maxresdefau...          1280.0   \n",
       "\n",
       "     og:image:height                                     og:description  \\\n",
       "505            720.0  In this short GCP Essentials video, see how GC...   \n",
       "507            720.0  Video from the 2018-11-29 meetup. Kaggle page:...   \n",
       "519            720.0  資料 https://www.slideshare.net/TakanoriHayashi3...   \n",
       "527            720.0  Dan Goncharov, Head of 42 Robotics GDG Fremont...   \n",
       "535            720.0  The Art Recognizer, built in collaboration wit...   \n",
       "\n",
       "     og:video:width  og:video:height               og:video:tag  \\\n",
       "505          1280.0            720.0  Alexis Moussine Pouchkine   \n",
       "507          1280.0            720.0         learn data science   \n",
       "519          1280.0            720.0                     kaggle   \n",
       "527          1280.0            720.0              Dan Goncharov   \n",
       "535          1280.0            720.0       museum of modern art   \n",
       "\n",
       "                        channel_link_0      p  \n",
       "505  /channel/UCJS9pqu9BzkAMNTmzNMNhvg  0.488  \n",
       "507  /channel/UCJhW_16uxALr0X4olEW2p5A  0.450  \n",
       "519  /channel/UCiECS_auJLNpFsvjTi1WuxQ  0.288  \n",
       "527  /channel/UC_x5XG1OV2P6uZZ5FSM9Ttw  0.271  \n",
       "535  /channel/UCGn7dlcAmH44GqycKa_3ssA  0.531  "
      ]
     },
     "execution_count": 88,
     "metadata": {},
     "output_type": "execute_result"
    }
   ],
   "source": [
    "# Exibir o dataset que esta no dataframe\n",
    "dificeis.head()"
   ]
  },
  {
   "cell_type": "code",
   "execution_count": 89,
   "metadata": {},
   "outputs": [
    {
     "data": {
      "text/html": [
       "<div>\n",
       "<style scoped>\n",
       "    .dataframe tbody tr th:only-of-type {\n",
       "        vertical-align: middle;\n",
       "    }\n",
       "\n",
       "    .dataframe tbody tr th {\n",
       "        vertical-align: top;\n",
       "    }\n",
       "\n",
       "    .dataframe thead th {\n",
       "        text-align: right;\n",
       "    }\n",
       "</style>\n",
       "<table border=\"1\" class=\"dataframe\">\n",
       "  <thead>\n",
       "    <tr style=\"text-align: right;\">\n",
       "      <th></th>\n",
       "      <th>watch-title</th>\n",
       "      <th>y</th>\n",
       "      <th>watch-view-count</th>\n",
       "      <th>watch-time-text</th>\n",
       "      <th>content_watch-info-tag-list</th>\n",
       "      <th>watch7-headline</th>\n",
       "      <th>watch7-user-header</th>\n",
       "      <th>watch8-sentiment-actions</th>\n",
       "      <th>og:image</th>\n",
       "      <th>og:image:width</th>\n",
       "      <th>og:image:height</th>\n",
       "      <th>og:description</th>\n",
       "      <th>og:video:width</th>\n",
       "      <th>og:video:height</th>\n",
       "      <th>og:video:tag</th>\n",
       "      <th>channel_link_0</th>\n",
       "      <th>p</th>\n",
       "    </tr>\n",
       "  </thead>\n",
       "  <tbody>\n",
       "    <tr>\n",
       "      <th>654</th>\n",
       "      <td>Types of Kaggle Competitions</td>\n",
       "      <td>NaN</td>\n",
       "      <td>1.383 visualizações</td>\n",
       "      <td>Publicado em 4 de fev. de 2019</td>\n",
       "      <td>Ciência e tecnologia</td>\n",
       "      <td>Types of Kaggle Competitions</td>\n",
       "      <td>Jeff Heaton\\n\\n\\n\\n\\n\\n\\n\\n\\n\\n\\n\\n\\n\\nCarrega...</td>\n",
       "      <td>1.383 visualizações\\n\\n\\n\\n\\n\\n\\n\\n67\\n\\nGosto...</td>\n",
       "      <td>https://i.ytimg.com/vi/YMrAi9JIX3Q/maxresdefau...</td>\n",
       "      <td>1280.0</td>\n",
       "      <td>720.0</td>\n",
       "      <td>These are the categories that I divide Kaggle ...</td>\n",
       "      <td>480.0</td>\n",
       "      <td>360.0</td>\n",
       "      <td>jeff heaton</td>\n",
       "      <td>/channel/UCR1-GEpyOPzT2AO4D_eifdw</td>\n",
       "      <td>0.119</td>\n",
       "    </tr>\n",
       "    <tr>\n",
       "      <th>554</th>\n",
       "      <td>Python Basics for Data Science - String Operat...</td>\n",
       "      <td>NaN</td>\n",
       "      <td>836 visualizações</td>\n",
       "      <td>Publicado em 4 de abr. de 2019</td>\n",
       "      <td>Educação</td>\n",
       "      <td>Python Basics for Data Science - String Operat...</td>\n",
       "      <td>edX\\n\\n\\n\\n\\n\\n\\n\\n\\n\\n\\n\\n\\n\\n\\nCarregando......</td>\n",
       "      <td>836 visualizações\\n\\n\\n\\n\\n\\n\\n\\n3\\n\\nGostou d...</td>\n",
       "      <td>https://i.ytimg.com/vi/T3jkSFG5-gQ/maxresdefau...</td>\n",
       "      <td>1280.0</td>\n",
       "      <td>720.0</td>\n",
       "      <td>In Python, a string is a sequence of character...</td>\n",
       "      <td>1280.0</td>\n",
       "      <td>720.0</td>\n",
       "      <td>Learn programming</td>\n",
       "      <td>/channel/UC67Vc0fkLYeUPBp1f02VY9Q</td>\n",
       "      <td>0.066</td>\n",
       "    </tr>\n",
       "    <tr>\n",
       "      <th>1054</th>\n",
       "      <td>TensorFlow and deep reinforcement learning, wi...</td>\n",
       "      <td>NaN</td>\n",
       "      <td>59.766 visualizações</td>\n",
       "      <td>Publicado em 10 de mai. de 2018</td>\n",
       "      <td>Ciência e tecnologia</td>\n",
       "      <td>#io18\\n\\n\\n\\n    TensorFlow and deep reinforce...</td>\n",
       "      <td>TensorFlow\\n\\n\\n\\n\\n\\n\\n\\n\\n\\n\\n\\n\\n\\nCarregan...</td>\n",
       "      <td>59.766 visualizações\\n\\n\\n\\n\\n\\n\\n\\n1.214\\n\\nG...</td>\n",
       "      <td>https://i.ytimg.com/vi/t1A3NTttvBA/maxresdefau...</td>\n",
       "      <td>1280.0</td>\n",
       "      <td>720.0</td>\n",
       "      <td>On the forefront of deep learning research is ...</td>\n",
       "      <td>1280.0</td>\n",
       "      <td>720.0</td>\n",
       "      <td>google IO day 3</td>\n",
       "      <td>/channel/UC0rqucBdTuFTjJiefW5t-IQ</td>\n",
       "      <td>0.222</td>\n",
       "    </tr>\n",
       "    <tr>\n",
       "      <th>967</th>\n",
       "      <td>Welcome to 365 Data Science</td>\n",
       "      <td>NaN</td>\n",
       "      <td>9.254 visualizações</td>\n",
       "      <td>Publicado em 31 de ago. de 2018</td>\n",
       "      <td>Educação</td>\n",
       "      <td>Welcome to 365 Data Science</td>\n",
       "      <td>365 Data Science\\n\\n\\n\\n\\n\\n\\n\\n\\n\\n\\n\\n\\n\\nCa...</td>\n",
       "      <td>9.254 visualizações\\n\\n\\n\\n\\n\\n\\n\\n49\\n\\nGosto...</td>\n",
       "      <td>https://i.ytimg.com/vi/oMSBWC4gGJY/maxresdefau...</td>\n",
       "      <td>1280.0</td>\n",
       "      <td>720.0</td>\n",
       "      <td>Welcome to the 365 Data Science channel! Follo...</td>\n",
       "      <td>1280.0</td>\n",
       "      <td>720.0</td>\n",
       "      <td>365 data science</td>\n",
       "      <td>/channel/UCEBpSZhI1X8WaP-kY_2LLcg</td>\n",
       "      <td>0.018</td>\n",
       "    </tr>\n",
       "    <tr>\n",
       "      <th>762</th>\n",
       "      <td>Kaggle比赛金牌收割机XGBoost详解 - Live (10/21)</td>\n",
       "      <td>NaN</td>\n",
       "      <td>2.201 visualizações</td>\n",
       "      <td>Publicado em 22 de out. de 2018</td>\n",
       "      <td>Ciência e tecnologia</td>\n",
       "      <td>Kaggle比赛金牌收割机XGBoost详解 - Live (10/21)</td>\n",
       "      <td>Data Application Lab\\n\\n\\n\\n\\n\\n\\n\\n\\n\\n\\n\\n\\n...</td>\n",
       "      <td>2.201 visualizações\\n\\n\\n\\n\\n\\n\\n\\n20\\n\\nGosto...</td>\n",
       "      <td>https://i.ytimg.com/vi/e56abVubxzI/maxresdefau...</td>\n",
       "      <td>1280.0</td>\n",
       "      <td>720.0</td>\n",
       "      <td>在 Kaggle 的很多比赛中，我们可以看到很多获奖者都喜欢用 XGBoost，而且训练得出...</td>\n",
       "      <td>1280.0</td>\n",
       "      <td>720.0</td>\n",
       "      <td>xgboost</td>\n",
       "      <td>/channel/UCa8NLpvi70mHVsW4J_x9OeQ</td>\n",
       "      <td>0.149</td>\n",
       "    </tr>\n",
       "  </tbody>\n",
       "</table>\n",
       "</div>"
      ],
      "text/plain": [
       "                                            watch-title   y  \\\n",
       "654                        Types of Kaggle Competitions NaN   \n",
       "554   Python Basics for Data Science - String Operat... NaN   \n",
       "1054  TensorFlow and deep reinforcement learning, wi... NaN   \n",
       "967                         Welcome to 365 Data Science NaN   \n",
       "762               Kaggle比赛金牌收割机XGBoost详解 - Live (10/21) NaN   \n",
       "\n",
       "          watch-view-count                  watch-time-text  \\\n",
       "654    1.383 visualizações   Publicado em 4 de fev. de 2019   \n",
       "554      836 visualizações   Publicado em 4 de abr. de 2019   \n",
       "1054  59.766 visualizações  Publicado em 10 de mai. de 2018   \n",
       "967    9.254 visualizações  Publicado em 31 de ago. de 2018   \n",
       "762    2.201 visualizações  Publicado em 22 de out. de 2018   \n",
       "\n",
       "     content_watch-info-tag-list  \\\n",
       "654         Ciência e tecnologia   \n",
       "554                     Educação   \n",
       "1054        Ciência e tecnologia   \n",
       "967                     Educação   \n",
       "762         Ciência e tecnologia   \n",
       "\n",
       "                                        watch7-headline  \\\n",
       "654                        Types of Kaggle Competitions   \n",
       "554   Python Basics for Data Science - String Operat...   \n",
       "1054  #io18\\n\\n\\n\\n    TensorFlow and deep reinforce...   \n",
       "967                         Welcome to 365 Data Science   \n",
       "762               Kaggle比赛金牌收割机XGBoost详解 - Live (10/21)   \n",
       "\n",
       "                                     watch7-user-header  \\\n",
       "654   Jeff Heaton\\n\\n\\n\\n\\n\\n\\n\\n\\n\\n\\n\\n\\n\\nCarrega...   \n",
       "554   edX\\n\\n\\n\\n\\n\\n\\n\\n\\n\\n\\n\\n\\n\\n\\nCarregando......   \n",
       "1054  TensorFlow\\n\\n\\n\\n\\n\\n\\n\\n\\n\\n\\n\\n\\n\\nCarregan...   \n",
       "967   365 Data Science\\n\\n\\n\\n\\n\\n\\n\\n\\n\\n\\n\\n\\n\\nCa...   \n",
       "762   Data Application Lab\\n\\n\\n\\n\\n\\n\\n\\n\\n\\n\\n\\n\\n...   \n",
       "\n",
       "                               watch8-sentiment-actions  \\\n",
       "654   1.383 visualizações\\n\\n\\n\\n\\n\\n\\n\\n67\\n\\nGosto...   \n",
       "554   836 visualizações\\n\\n\\n\\n\\n\\n\\n\\n3\\n\\nGostou d...   \n",
       "1054  59.766 visualizações\\n\\n\\n\\n\\n\\n\\n\\n1.214\\n\\nG...   \n",
       "967   9.254 visualizações\\n\\n\\n\\n\\n\\n\\n\\n49\\n\\nGosto...   \n",
       "762   2.201 visualizações\\n\\n\\n\\n\\n\\n\\n\\n20\\n\\nGosto...   \n",
       "\n",
       "                                               og:image  og:image:width  \\\n",
       "654   https://i.ytimg.com/vi/YMrAi9JIX3Q/maxresdefau...          1280.0   \n",
       "554   https://i.ytimg.com/vi/T3jkSFG5-gQ/maxresdefau...          1280.0   \n",
       "1054  https://i.ytimg.com/vi/t1A3NTttvBA/maxresdefau...          1280.0   \n",
       "967   https://i.ytimg.com/vi/oMSBWC4gGJY/maxresdefau...          1280.0   \n",
       "762   https://i.ytimg.com/vi/e56abVubxzI/maxresdefau...          1280.0   \n",
       "\n",
       "      og:image:height                                     og:description  \\\n",
       "654             720.0  These are the categories that I divide Kaggle ...   \n",
       "554             720.0  In Python, a string is a sequence of character...   \n",
       "1054            720.0  On the forefront of deep learning research is ...   \n",
       "967             720.0  Welcome to the 365 Data Science channel! Follo...   \n",
       "762             720.0  在 Kaggle 的很多比赛中，我们可以看到很多获奖者都喜欢用 XGBoost，而且训练得出...   \n",
       "\n",
       "      og:video:width  og:video:height       og:video:tag  \\\n",
       "654            480.0            360.0        jeff heaton   \n",
       "554           1280.0            720.0  Learn programming   \n",
       "1054          1280.0            720.0    google IO day 3   \n",
       "967           1280.0            720.0   365 data science   \n",
       "762           1280.0            720.0            xgboost   \n",
       "\n",
       "                         channel_link_0      p  \n",
       "654   /channel/UCR1-GEpyOPzT2AO4D_eifdw  0.119  \n",
       "554   /channel/UC67Vc0fkLYeUPBp1f02VY9Q  0.066  \n",
       "1054  /channel/UC0rqucBdTuFTjJiefW5t-IQ  0.222  \n",
       "967   /channel/UCEBpSZhI1X8WaP-kY_2LLcg  0.018  \n",
       "762   /channel/UCa8NLpvi70mHVsW4J_x9OeQ  0.149  "
      ]
     },
     "execution_count": 89,
     "metadata": {},
     "output_type": "execute_result"
    }
   ],
   "source": [
    "# Exibir o dataset que esta no dataframe\n",
    "aleatorios.head()"
   ]
  },
  {
   "cell_type": "code",
   "execution_count": null,
   "metadata": {},
   "outputs": [],
   "source": []
  }
 ],
 "metadata": {
  "kernelspec": {
   "display_name": "Python 3",
   "language": "python",
   "name": "python3"
  },
  "language_info": {
   "codemirror_mode": {
    "name": "ipython",
    "version": 3
   },
   "file_extension": ".py",
   "mimetype": "text/x-python",
   "name": "python",
   "nbconvert_exporter": "python",
   "pygments_lexer": "ipython3",
   "version": "3.7.7"
  }
 },
 "nbformat": 4,
 "nbformat_minor": 4
}
